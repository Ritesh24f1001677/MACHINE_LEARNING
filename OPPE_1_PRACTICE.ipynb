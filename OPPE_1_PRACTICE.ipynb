{
  "cells": [
    {
      "cell_type": "markdown",
      "metadata": {
        "id": "view-in-github",
        "colab_type": "text"
      },
      "source": [
        "<a href=\"https://colab.research.google.com/github/Ritesh24f1001677/MACHINE_LEARNING/blob/main/OPPE_1_PRACTICE.ipynb\" target=\"_parent\"><img src=\"https://colab.research.google.com/assets/colab-badge.svg\" alt=\"Open In Colab\"/></a>"
      ]
    },
    {
      "cell_type": "code",
      "execution_count": null,
      "metadata": {
        "colab": {
          "base_uri": "https://localhost:8080/"
        },
        "id": "gtb2yS3hoaGP",
        "outputId": "97ae5f60-7c0d-4bcd-9f96-c065f10711d9"
      },
      "outputs": [
        {
          "name": "stdout",
          "output_type": "stream",
          "text": [
            "sum of a and b is 11\n",
            "Twice the sum of a and b is 11\n",
            "Absolute difference of a and b is 1\n",
            "Absolute difference of Sum and Product of a and b is 19\n"
          ]
        }
      ],
      "source": [
        "a=5\n",
        "b=6\n",
        "price=80\n",
        "discount_percent=5.75\n",
        "total_mins=470\n",
        "output1=a+b\n",
        "print(f\"sum of a and b is {output1}\")\n",
        "output2=2*(a+b)\n",
        "print(f\"Twice the sum of a and b is {output1}\")\n",
        "output3=abs(a-b)\n",
        "print(f\"Absolute difference of a and b is {output3}\")\n",
        "s=a+b\n",
        "p=a*b\n",
        "output4=abs(s-p)\n",
        "print(f\"Absolute difference of Sum and Product of a and b is {output4}\")\n",
        "discount_price=price-(price*discount_percent)/100\n",
        "rounded_discounted_price =int(discount_price)\n",
        "hrs=total_mins//60\n",
        "mins=total_mins%60"
      ]
    },
    {
      "cell_type": "code",
      "execution_count": null,
      "metadata": {
        "id": "E24uS98YZBhI"
      },
      "outputs": [],
      "source": [
        "# Sample inputs (# note: The values given in the prefix code(grey) will be changed by the autograder according to the testcase while running them.\n",
        "a = 5\n",
        "b = 6\n",
        "price, discount_percent = 80, 5.75\n",
        "total_mins = 470\n",
        "# <eoi>\n",
        "\n",
        "\n",
        "output1 = a+b # int: sum of a and b\n",
        "output2 = ... # int: twice the sum of a and b\n",
        "output3 = ... # int: absolute difference between a and b\n",
        "output4 = ... # int: absolute difference between sum and product of a and b\n",
        "\n",
        "# Find discounted price given price and discount_percent\n",
        "# input variables : price: int, discount_percent: float\n",
        "discounted_price = ... # float\n",
        "\n",
        "# Round the discounted_price\n",
        "rounded_discounted_price = ... # int\n",
        "\n",
        "# Find hrs and mins given the total_mins\n",
        "# input variables : total_mins\n",
        "hrs = ... # int: hint: think about floor division operator\n",
        "mins = ... # int\n"
      ]
    },
    {
      "cell_type": "markdown",
      "metadata": {
        "id": "quri0McDogai"
      },
      "source": []
    },
    {
      "cell_type": "markdown",
      "metadata": {
        "id": "J2zZs0kr7BWO"
      },
      "source": [
        "output1 = ... # bool: True if a greater than or equal to 5\n",
        "\n",
        "output2 = ... # bool: True if a is divisible by 5\n",
        "\n",
        "output3 = ... # bool: True if a is odd number less than 10\n",
        "\n",
        "output4 = ... # bool: True if a is an odd number within the range -10 and 10\n",
        "\n",
        "output5 = ... # bool: True if a has even number of digits but not more than 10 digits\n",
        "\n",
        "is_offer1_cheaper = ... # bool: True if the offer1 is strictly cheaper"
      ]
    },
    {
      "cell_type": "code",
      "execution_count": null,
      "metadata": {
        "colab": {
          "base_uri": "https://localhost:8080/"
        },
        "id": "goIxui0e7GTE",
        "outputId": "9db12547-16c3-4a35-bfdd-e363b462db13"
      },
      "outputs": [
        {
          "name": "stdout",
          "output_type": "stream",
          "text": [
            "True\n",
            "True\n",
            "False\n",
            "False\n",
            "False\n",
            "True\n"
          ]
        }
      ],
      "source": [
        "a=15\n",
        "price1=100\n",
        "discount1=20\n",
        "price2=120\n",
        "discount2=10\n",
        "output1=bool(a>5 or a==5)\n",
        "print(output1)\n",
        "output2=bool(a%5==0)\n",
        "print(output2)\n",
        "output3=bool(a%2!=0 and a<10)\n",
        "print(output3)\n",
        "output4=bool(a%2!=0 and -10<a<10)\n",
        "print(output4)\n",
        "output5=bool(a%2==0 and (len(str(a))<10 or len(str(a))<10))\n",
        "print(output5)\n",
        "is_offer1_cheaper=bool((discount1/price1)*100>(discount2/price2)*100)\n",
        "print(is_offer1_cheaper)"
      ]
    },
    {
      "cell_type": "code",
      "execution_count": null,
      "metadata": {
        "id": "owpbD35wZAwT"
      },
      "outputs": [],
      "source": []
    },
    {
      "cell_type": "markdown",
      "metadata": {
        "id": "Z4hLw9EFrc_g"
      },
      "source": []
    },
    {
      "cell_type": "markdown",
      "metadata": {
        "id": "5ObQfGo2UCi_"
      },
      "source": []
    },
    {
      "cell_type": "code",
      "execution_count": null,
      "metadata": {
        "id": "k0J_deqGZFSk"
      },
      "outputs": [],
      "source": [
        "# Sample inputs (# note: The values given in the prefix code(grey) will be changed by the autograder according to the testcase while running them.\n",
        "\n",
        "s = \"hello pyhton\"\n",
        "course_code = \"24t2cs1002\" # 24 - year, t2 - term 2, cs1002 - course id\n",
        "# <eoi>\n",
        "output1 = s[2] # str: get the third character of s\n",
        "\n",
        "output2 = ... # str: get the fourth last character of s\n",
        "\n",
        "output3 = ... # str: get the first 3 characters of s\n",
        "\n",
        "output4 = ... # str: get every second character of s\n",
        "\n",
        "output5 = ... # str: get the last 3 characters of s\n",
        "\n",
        "output6 = ... # str: get the reverse of s\n",
        "\n",
        "course_term = ... # int: get the term of the year as number from course_code\n",
        "course_year = ... # int: get the year as two digit number from course_code\n"
      ]
    },
    {
      "cell_type": "markdown",
      "metadata": {
        "id": "9YnshZhPgrus"
      },
      "source": []
    },
    {
      "cell_type": "code",
      "execution_count": null,
      "metadata": {
        "id": "Xo42rrkxZHEl"
      },
      "outputs": [],
      "source": [
        "# Sample inputs (# note: The values given in the prefix code(grey) will be changed by the autograder according to the testcase while running them.\n",
        "word1 = \"Wingardium\" # str\n",
        "word2 = \"Leviyosa\" # str\n",
        "word3 = \"Silver\" # str\n",
        "sentence = \"Learning python is fun\"\n",
        "n1 = 6 # int\n",
        "n2 = 4 # int\n",
        "# <eoi>\n",
        "output1 = word # str: join word1 and word2 with space in between\n",
        "\n",
        "output2 = ... # str: join first four letters of word1 and last four letters of word 2 with a hyphen \"-\" in between\n",
        "\n",
        "output3 = ... # str: join the word3 and n1 with a space in between\n",
        "\n",
        "output4 = ... # str: just the hypen \"-\" repeated 50 times\n",
        "\n",
        "output5 = ... # str: just the hypen \"-\" repeated n2 times\n",
        "\n",
        "output6 = ... # str: repeat the number n1, n2 times\n",
        "\n",
        "are_all_words_equal = ... # bool: True if all three words are equal\n",
        "\n",
        "is_word1_comes_before_other_two = ... # bool: True if word1 comes before word2 and word3 assume all words are different\n",
        "\n",
        "has_h = ... # bool: True if word1 has the letter h\n",
        "\n",
        "ends_with_a = ... # bool: True if word1 ends with letter a or A\n",
        "\n",
        "has_the_word_python = ... # bool: True if the sentence has the word python\n"
      ]
    },
    {
      "cell_type": "markdown",
      "metadata": {
        "id": "5Y0ODlki0lvg"
      },
      "source": []
    },
    {
      "cell_type": "code",
      "execution_count": null,
      "metadata": {
        "id": "Ot_VwB6EZJQ_"
      },
      "outputs": [],
      "source": [
        "output1 = word1+' '+word2 # str: join word1 and word2 with space in between\n",
        "output2 = word1[:4]+'-'+word2[-4:] # str: join first four letters of word1 and last four letters of word 2 with a hyphen \"-\" in between\n",
        "output3 = word3+' '+str(n1)   #str: join the word3 and n1 with a space in between\n",
        "output4 = '-'*50 # str: get every second character of s\n",
        "output5='-'*n2\n",
        "output6= str(n1)*n2\n",
        "are_all_words_equal = bool(word1==word2==word3) # bool: True if all three words are equal\n",
        "is_word1_comes_before_other_two = word1<(word2 or word3) # bool: True if word1 comes before word2 and word3 assume all words are different\n",
        "has_h = 'h' in word1 # bool: True if word1 has the letter h\n",
        "ends_with_a = word1[-1] in 'aA' # bool: True if word1 ends with letter a or A\n",
        "has_the_word_python = 'python' in sentence\n"
      ]
    },
    {
      "cell_type": "code",
      "execution_count": null,
      "metadata": {
        "colab": {
          "base_uri": "https://localhost:8080/"
        },
        "id": "Kn3zPgMe3x4W",
        "outputId": "4db2dcc1-121f-4215-f7fa-cd1444c891ea"
      },
      "outputs": [
        {
          "name": "stdout",
          "output_type": "stream",
          "text": [
            "2020-03-04 00:00:00\n"
          ]
        }
      ],
      "source": [
        "from datetime import datetime,timedelta\n",
        "print(datetime(2020,3,4))\n",
        "# .strftime(is used to format dates as a strings in dd/mm/yyyy)\n",
        "age=int(input())\n",
        "dob=inp\n",
        "\n",
        "\n",
        "\n",
        "\n",
        "\n",
        "\n",
        "\n"
      ]
    },
    {
      "cell_type": "code",
      "execution_count": null,
      "metadata": {
        "colab": {
          "base_uri": "https://localhost:8080/"
        },
        "id": "L0qaKF2p6mq0",
        "outputId": "6f2d866c-b9bc-40d7-eb13-c93917060605"
      },
      "outputs": [
        {
          "name": "stdout",
          "output_type": "stream",
          "text": [
            "14\n",
            "2020-03-04 00:00:00\n",
            "2025/14/01\n",
            "2025 14 1\n",
            "2030-01-14 00:00:00\n",
            "2025-11-14 00:00:00\n",
            "15.496\n",
            "15 Kg 496 grams\n"
          ]
        }
      ],
      "source": [
        "from datetime import datetime,timedelta\n",
        "age=int(input())\n",
        "print(datetime(2020,3,4))\n",
        "\n",
        "dob=input()\n",
        "year,day,month=map(int,dob.split('/'))\n",
        "print(year,day,month)\n",
        "fifth_birthday_date=datetime(year+5,month,day)\n",
        "print(fifth_birthday_date)\n",
        "tenth_month_date=datetime(year,month+10,day)\n",
        "print(datetime(year,month+10,day))\n",
        "\n",
        "weight=float(input())\n",
        "kilograms=int(weight)\n",
        "grams=int((weight-kilograms)*1000)\n",
        "weight_readable=f\"{kilograms} Kg {grams} grams\"\n",
        "print(weight_readable)"
      ]
    },
    {
      "cell_type": "markdown",
      "metadata": {
        "id": "ifTw7D8OieBD"
      },
      "source": []
    },
    {
      "cell_type": "code",
      "execution_count": null,
      "metadata": {
        "id": "MPWZtruVBw_r"
      },
      "outputs": [],
      "source": [
        "x1 = input()\n",
        "x2 = input()\n",
        "y1 = input()\n",
        "y2 = input()\n",
        "y3 = input()\n",
        "z = input()\n",
        "\n",
        "# swap the values of `x1` and `x2`\n",
        "\n",
        "# do a circular swap of `y1`, `y2` and `y3`  like y1 = y2, y2 = y3, y3 = y1\n",
        "\n",
        "# create a new variable `a` with the value of `z`\n",
        "\n",
        "# delete the variable `z`\n",
        "\n",
        "print(x1)\n",
        "print(x2)\n",
        "print(y1)\n",
        "print(y2)\n",
        "print(y3)\n",
        "print(a)"
      ]
    },
    {
      "cell_type": "code",
      "execution_count": null,
      "metadata": {
        "id": "D_pyT_5hkeLW"
      },
      "outputs": [],
      "source": []
    },
    {
      "cell_type": "code",
      "execution_count": null,
      "metadata": {
        "colab": {
          "base_uri": "https://localhost:8080/",
          "height": 384
        },
        "id": "r04CffaNilnV",
        "outputId": "78b001f9-20ab-4326-8658-c573e0abdfcc"
      },
      "outputs": [
        {
          "name": "stdout",
          "output_type": "stream",
          "text": [
            "Apple\n",
            "Orange\n",
            "Car\n",
            "Bike\n",
            "Truck\n",
            "Zed\n",
            "Orange\n",
            "Apple\n",
            "Bike\n",
            "Truck\n",
            "Car\n",
            "Zed\n"
          ]
        },
        {
          "ename": "NameError",
          "evalue": "name 'z' is not defined",
          "output_type": "error",
          "traceback": [
            "\u001b[0;31m---------------------------------------------------------------------------\u001b[0m",
            "\u001b[0;31mNameError\u001b[0m                                 Traceback (most recent call last)",
            "\u001b[0;32m<ipython-input-6-20363c50b476>\u001b[0m in \u001b[0;36m<cell line: 0>\u001b[0;34m()\u001b[0m\n\u001b[1;32m     15\u001b[0m \u001b[0mprint\u001b[0m\u001b[0;34m(\u001b[0m\u001b[0my3\u001b[0m\u001b[0;34m)\u001b[0m\u001b[0;34m\u001b[0m\u001b[0;34m\u001b[0m\u001b[0m\n\u001b[1;32m     16\u001b[0m \u001b[0mprint\u001b[0m\u001b[0;34m(\u001b[0m\u001b[0ma\u001b[0m\u001b[0;34m)\u001b[0m\u001b[0;34m\u001b[0m\u001b[0;34m\u001b[0m\u001b[0m\n\u001b[0;32m---> 17\u001b[0;31m \u001b[0mprint\u001b[0m\u001b[0;34m(\u001b[0m\u001b[0mz\u001b[0m\u001b[0;34m)\u001b[0m\u001b[0;34m\u001b[0m\u001b[0;34m\u001b[0m\u001b[0m\n\u001b[0m",
            "\u001b[0;31mNameError\u001b[0m: name 'z' is not defined"
          ]
        }
      ],
      "source": [
        "x1=input()\n",
        "x2=input()\n",
        "y1=input()\n",
        "y2=input()\n",
        "y3=input()\n",
        "z=input()\n",
        "x1,x2=x2,x1\n",
        "y1,y2,y3=y2,y3,y1\n",
        "a=z\n",
        "del z\n",
        "print(x1)\n",
        "print(x2)\n",
        "print(y1)\n",
        "print(y2)\n",
        "print(y3)\n",
        "print(a)\n",
        "print(z)"
      ]
    },
    {
      "cell_type": "code",
      "execution_count": null,
      "metadata": {
        "colab": {
          "base_uri": "https://localhost:8080/"
        },
        "id": "rnFaQAnvlAD9",
        "outputId": "7b3c3dc6-7818-4783-ba4b-956931051e09"
      },
      "outputs": [
        {
          "name": "stdout",
          "output_type": "stream",
          "text": [
            "A single quote ' and a double quote \"\n",
            "A forward slash / and a backward slash \\\n",
            "Three single quotes ''' and a double quotes \"\"\n",
            "Double forward slash // and Double backward slash \\\\\n"
          ]
        }
      ],
      "source": [
        "# A single quote ' and a double quote \"\n",
        "output1 = \"A single quote \\' and a double quote \\\"\"\n",
        "print(output1)\n",
        "\n",
        "# A forward slash / and a backward slash \\\n",
        "output2 = \"A forward slash / and a backward slash \\\\\"\n",
        "print(output2)\n",
        "\n",
        "# Three single quotes ''' and three double quotes \"\"\"\n",
        "output3 = \"Three single quotes \\'\\'\\' and a double quotes \\\"\\\"\"\n",
        "print(output3)\n",
        "\n",
        "\n",
        "# Double forward slash // and Double backward slash \\\\\n",
        "output4 = \"Double forward slash // and Double backward slash \\\\\\\\\"\n",
        "print(output4)"
      ]
    },
    {
      "cell_type": "code",
      "execution_count": null,
      "metadata": {
        "id": "HQ9byL2esHaE"
      },
      "outputs": [],
      "source": [
        "# part 1 - If pattern\n",
        "word = \"glow\" # str\n",
        "continuous_tense = True # bool\n",
        "\n",
        "# part 2\n",
        "age = 5 # int\n",
        "is_member = True # bool\n",
        "\n",
        "# part 3\n",
        "\n",
        "color_code = \"R\" # str: valid values are R-red, G-green and B-blue\n",
        "\n",
        "time = \"02 PM\" # str, format:[2-digit hour][space][AM or PM]\n",
        "# Morning (6 AM - 12 PM) (including the start and excluding the end)\n",
        "# Afternoon (12 PM - 6 PM)\n",
        "# Evening (6 PM - 12 AM)\n",
        "# Night (12 AM - 6 AM)\n",
        "\n",
        "# <eoi>\n",
        "\n",
        "# part 1 - basic if\n",
        "\n",
        "new_word = word # donot remove this line\n",
        "\n",
        "# remove the \"ing\" suffix from `new_word` if it is there\n",
        "if ... :\n",
        "    ...\n",
        "\n",
        "# add the suffix \"ing\" to `new_word` if `continuous_tense` is True\n",
        "# write the whole if else block here\n",
        "\n",
        "# part 2 - If else pattern\n",
        "\n",
        "# age_group:str should be \"Adult\" or \"Child\" based on the age. assume age greater than or equal to 18 is adult.\n",
        "if ...:\n",
        "    ...\n",
        "else:\n",
        "    ...\n",
        "\n",
        "# applicant_type:str should be age goup with the member status like \"Adult Member\" or \"Child Non-member\"\n",
        "# write the whole if else block\n",
        "\n",
        "# part 3 if ... elif .. else\n",
        "\n",
        "# based on the value of `color_code` assign the `color` value in lower case and \"black\" if `color_code` is none of R, B and G\n",
        "\n",
        "if ...\n",
        "elif ...:\n",
        "        ...\n",
        "elif ...:\n",
        "    ...\n",
        "else:\n",
        "    ...\n",
        "\n",
        "is_time_valid = ... # bool: True if time is valid (should be ranging from 1 - 12 both including) else False\n",
        "\n",
        "# time_of_day:str should have the time of the day as Morning, etc.. use \"Invalid\" if not withing the acceptable range\n",
        "\n",
        "# write your code here\n"
      ]
    },
    {
      "cell_type": "code",
      "execution_count": null,
      "metadata": {
        "colab": {
          "base_uri": "https://localhost:8080/"
        },
        "id": "H_7IkkPhsWXx",
        "outputId": "ee395da6-fbf3-4e41-8faa-65f7b798fbad"
      },
      "outputs": [
        {
          "name": "stdout",
          "output_type": "stream",
          "text": [
            "glow\n",
            "Child\n",
            "False\n",
            "PM\n",
            "12\n"
          ]
        }
      ],
      "source": [
        "# part 1 - If pattern\n",
        "word = \"glowing\" # str\n",
        "continuous_tense = True # bool\n",
        "\n",
        "# part 2\n",
        "age = 5 # int\n",
        "is_member = True # bool\n",
        "\n",
        "# part 3\n",
        "\n",
        "color_code = \"R\" # str: valid values are R-red, G-green and B-blue\n",
        "\n",
        "\n",
        "# <eoi>\n",
        "\n",
        "# part 1 - basic if\n",
        "new_word = word\n",
        "if 'ing' in word:\n",
        "  print(new_word[0:4])\n",
        "\n",
        "if age>=18:\n",
        "  print('Adult')\n",
        "else:\n",
        "  print('Child')\n",
        "if age==18:\n",
        "    is_member=\"True\"\n",
        "    applicant_type=\"Adult Member\"\n",
        "elif age<18:\n",
        "    is_member=\"True\"\n",
        "    applicant_type=\"Child Member\"\n",
        "else:\n",
        "    is_member='False'\n",
        "    applicant_type=\"Adult Non-member\"\n",
        "if color_code=='R':\n",
        "    color=\"red\"\n",
        "elif color_code=='G':\n",
        "    color='green'\n",
        "elif color_code=='B':\n",
        "    color='blue'\n",
        "else:\n",
        "\n",
        "    color='black'\n",
        "\n",
        "\n",
        "time = \"15 PM\" # str, format:[2-digit hour][space][AM or PM]\n",
        "# Morning (6 AM - 12 PM) (including the start and excluding the end)\n",
        "# Afternoon (12 PM - 6 PM)\n",
        "# Evening (6 PM - 12 AM)\n",
        "# Night (12 AM - 6 AM)\n",
        "L=['01','02','03','04','05','06','07','08','09','10','11','12']\n",
        "if str(time[0:2]) in L:\n",
        "  is_time_valid=True\n",
        "else:\n",
        "  is_time_valid=False\n",
        "print(is_time_valid)\n",
        "print(time[-2:])\n",
        "\n",
        "# time_in_hrs:int should have the time in 24 hrs format . Try to do this in a single expression\n",
        "if time[-2:]==\"AM\":\n",
        "  time_in_hrs=0\n",
        "else:\n",
        "  time_in_hrs=12\n",
        "#time_in_hrs =\n",
        "print(time_in_hrs)"
      ]
    },
    {
      "cell_type": "code",
      "execution_count": null,
      "metadata": {
        "id": "5BVW8MJJuPBx"
      },
      "outputs": [],
      "source": [
        "def abs_diff_between_sum_and_sum_of_squares(a:int,b:int)->int:\n",
        "  return abs((a+b)-(a**2+b**2))\n",
        "def swap_except_middle_three(s:str)->str:\n",
        "  m=len(s)/2\n",
        "  return s[m+2:]+s[m-1:m+2]+s[:m-1]\n",
        "def interleave_list(list1,list2,list3):\n",
        "\n"
      ]
    },
    {
      "cell_type": "code",
      "execution_count": null,
      "metadata": {
        "colab": {
          "base_uri": "https://localhost:8080/"
        },
        "id": "LIT-77x2cdyZ",
        "outputId": "3cf3b6cb-c73d-4847-ea81-7e0a96d8ecf6"
      },
      "outputs": [
        {
          "name": "stdout",
          "output_type": "stream",
          "text": [
            "[1, 'a', 2, 'b', 3, 'c']\n"
          ]
        }
      ],
      "source": [
        "list1=[1,2,3]\n",
        "list2=['a','b','c']\n",
        "list3=[(1,1),(2,2),(3,3)]\n",
        "lst=[]\n",
        "for a,b,c in zip(list1,list2,list3):\n",
        "  lst.extend([a,b,c])\n",
        "print(lst)"
      ]
    },
    {
      "cell_type": "code",
      "execution_count": null,
      "metadata": {
        "colab": {
          "base_uri": "https://localhost:8080/"
        },
        "id": "evcx_KzWeeI0",
        "outputId": "ad74b1bd-1ee0-4255-d271-7571df59d61e"
      },
      "outputs": [
        {
          "name": "stdout",
          "output_type": "stream",
          "text": [
            "[1, 2, 3, 5, 6]\n"
          ]
        }
      ],
      "source": [
        "lst=[1,2,3]\n",
        "lst.extend([5,6])\n",
        "print(lst)"
      ]
    },
    {
      "cell_type": "code",
      "execution_count": null,
      "metadata": {
        "colab": {
          "base_uri": "https://localhost:8080/"
        },
        "id": "2g5dQ-f4f1zs",
        "outputId": "4d08c394-5aac-43d9-f8af-f77646daef93"
      },
      "outputs": [
        {
          "name": "stdout",
          "output_type": "stream",
          "text": [
            "Alice scored 85\n",
            "Bob scored 90\n",
            "Charlie scored 95\n"
          ]
        }
      ],
      "source": [
        "names = ['Alice', 'Bob', 'Charlie']\n",
        "scores = [85, 90, 95]\n",
        "for name,scored in zip(names,scores):\n",
        "  print(f\"{name} scored {scored}\")"
      ]
    },
    {
      "cell_type": "code",
      "execution_count": null,
      "metadata": {
        "colab": {
          "base_uri": "https://localhost:8080/"
        },
        "id": "AsvGXKH-gPzP",
        "outputId": "e7a551f0-d9f4-4184-d17f-4dbc3a9b9752"
      },
      "outputs": [
        {
          "name": "stdout",
          "output_type": "stream",
          "text": [
            "[1, 2, 3]\n",
            "('a', 'b', 'c')\n"
          ]
        }
      ],
      "source": [
        "zipped = [(1, 'a'), (2, 'b'), (3, 'c')]\n",
        "num,letter =zip(*zipped)\n",
        "print(list(num))\n",
        "print(letter)"
      ]
    },
    {
      "cell_type": "code",
      "execution_count": null,
      "metadata": {
        "colab": {
          "base_uri": "https://localhost:8080/"
        },
        "id": "OQPxkd4Igk0q",
        "outputId": "e8922c1a-172e-4103-f028-508a107ed155"
      },
      "outputs": [
        {
          "name": "stdout",
          "output_type": "stream",
          "text": [
            "[1, 'a', (1, 1), 2, 'b', (2, 2), 3, 'c', (3, 3)]\n"
          ]
        }
      ],
      "source": [
        "interleaved=[0]*(len(list1)*3)\n",
        "interleaved[::3]=list1\n",
        "interleaved[1::3]=list2\n",
        "interleaved[2::3]=list3\n",
        "print(interleaved)"
      ]
    },
    {
      "cell_type": "code",
      "execution_count": null,
      "metadata": {
        "colab": {
          "base_uri": "https://localhost:8080/"
        },
        "id": "7vZP6W3whMh3",
        "outputId": "0a3d0785-2c2a-4099-a0f0-f8b5458d01c8"
      },
      "outputs": [
        {
          "data": {
            "text/plain": [
              "True"
            ]
          },
          "execution_count": 30,
          "metadata": {},
          "output_type": "execute_result"
        }
      ],
      "source": [
        "def has_more_than_5_unique_digits(num:int)->bool:\n",
        "  return(len(set(str(num)))>5)\n",
        "num=12345556256378563845666543\n",
        "\n",
        "has_more_than_5_unique_digits(num)"
      ]
    },
    {
      "cell_type": "code",
      "execution_count": null,
      "metadata": {
        "colab": {
          "base_uri": "https://localhost:8080/"
        },
        "id": "p8pkdlBUhuIW",
        "outputId": "eac5ec42-e5f4-4aab-9bc2-9935f01e80e5"
      },
      "outputs": [
        {
          "name": "stdout",
          "output_type": "stream",
          "text": [
            "True\n"
          ]
        }
      ],
      "source": [
        "\n",
        "num=12345556256378563845666543\n",
        "\n",
        "print(len(set(str(num)))>5)"
      ]
    },
    {
      "cell_type": "code",
      "execution_count": null,
      "metadata": {
        "colab": {
          "base_uri": "https://localhost:8080/"
        },
        "id": "x8nmofiPi7ya",
        "outputId": "4249d96a-fa64-4de3-bf20-e5409d86612c"
      },
      "outputs": [
        {
          "name": "stdout",
          "output_type": "stream",
          "text": [
            "16 22\n"
          ]
        }
      ],
      "source": [
        "pos=(1,2)\n",
        "velocity=(3,4)\n",
        "time=5\n",
        "x1,y1=pos\n",
        "v1,v2=velocity\n",
        "print(x1+v1*time,y1+v2*time)"
      ]
    },
    {
      "cell_type": "code",
      "execution_count": null,
      "metadata": {
        "colab": {
          "base_uri": "https://localhost:8080/"
        },
        "id": "FHZ9kBCzj94V",
        "outputId": "c9561765-0020-41ef-f404-6aa253c63032"
      },
      "outputs": [
        {
          "name": "stdout",
          "output_type": "stream",
          "text": [
            "{1: 'a', 2: 'b', 3: 'c'}\n"
          ]
        }
      ],
      "source": [
        "d={1:'a',2:'b',3:'c',4:'d'}\n",
        "l=[3,1,5,2]\n",
        "for key in list(d.keys()):\n",
        "  if key not in l:\n",
        "    del d[key]\n",
        "print(d)"
      ]
    },
    {
      "cell_type": "code",
      "execution_count": null,
      "metadata": {
        "colab": {
          "base_uri": "https://localhost:8080/"
        },
        "id": "ttmhtfqFyU1U",
        "outputId": "4d5067c5-4667-4d21-cfc5-55c5004d09f1"
      },
      "outputs": [
        {
          "data": {
            "text/plain": [
              "True"
            ]
          },
          "execution_count": 45,
          "metadata": {},
          "output_type": "execute_result"
        }
      ],
      "source": [
        "def is_all_same_word_twice(strings:list)->bool:\n",
        "  for string in strings:\n",
        "    words=string.split('-')\n",
        "    if not(len(words)==2 and words[0]==words[1]):\n",
        "      return False\n",
        "  return True\n",
        "\n",
        "\n",
        "\n",
        "strings=['dog-dog','bread-bread','day-day']\n",
        "is_all_same_word_twice(strings)"
      ]
    },
    {
      "cell_type": "code",
      "execution_count": null,
      "metadata": {
        "id": "yoHiGzwuYRmt"
      },
      "outputs": [],
      "source": [
        "def is_all_same_word_twice(strings:list)->bool:\n",
        "  for string in strings:\n",
        "    word=string.split('-')\n",
        "    if not(len(words)==2 and word[0]==word[1]):\n",
        "      return False\n",
        "    return Truem\n",
        "\n",
        "strings=['dog-dog','bread-bread','day-day']\n",
        "is_all_same_word_twice(strings)\n"
      ]
    },
    {
      "cell_type": "code",
      "execution_count": null,
      "metadata": {
        "id": "E_gt98pUZAop"
      },
      "outputs": [],
      "source": [
        "#Using Comprehension above code can be written as\n",
        " def is_all_same_word_twice(strings:list)->bool:\n",
        "  searated_words_list=[string.split('-') for string in strings]\n",
        "  return all(len(word)==2 and word[0]==word[1] for word in separated_word_list)\n",
        "strings=['dog-dog','bread-bread','day-day']\n",
        "is_all__same_word_twice(strings)"
      ]
    },
    {
      "cell_type": "code",
      "execution_count": null,
      "metadata": {
        "id": "jUz52VlmaEHQ"
      },
      "outputs": [],
      "source": [
        "#Using Functional Mtehods also\n",
        "def is_all_same_word_twice(strings:list)->bool:\n",
        "  separated_word_list=map(lambda x: x.split('-'),strings)\n",
        "  return all(map(lanmbda x:len(x)==2 and x[0] and x[0]==x[1],separated_words_list)"
      ]
    },
    {
      "cell_type": "code",
      "execution_count": null,
      "metadata": {
        "colab": {
          "base_uri": "https://localhost:8080/",
          "height": 36
        },
        "id": "p1EEb3bXaxwL",
        "outputId": "255af9f6-c74a-4443-80a8-43b921b79d55"
      },
      "outputs": [
        {
          "data": {
            "application/vnd.google.colaboratory.intrinsic+json": {
              "type": "string"
            },
            "text/plain": [
              "'w'"
            ]
          },
          "execution_count": 1,
          "metadata": {},
          "output_type": "execute_result"
        }
      ],
      "source": [
        "def most_occuring_first_letter(passage:str)->str:\n",
        "  first_letter_count={}\n",
        "  for word in passage.lower().split():\n",
        "    first_letter=word[0]\n",
        "    if first_letter not in first_letter_count:\n",
        "      first_letter_count[first_letter]=0\n",
        "    first_letter_count[first_letter]+=1\n",
        "  return max(first_letter_count,key=first_letter_count.get)\n",
        "\n",
        "\n",
        "\n",
        "passage = '''\n",
        "word1 Word2 word3 word4 text1 text2\n",
        "text3 Text4 word5 text5 word6\n",
        "python1 python2 Python3\n",
        "'''\n",
        "most_occuring_first_letter(passage)"
      ]
    },
    {
      "cell_type": "code",
      "execution_count": null,
      "metadata": {
        "colab": {
          "base_uri": "https://localhost:8080/"
        },
        "id": "13EeArUjcfZY",
        "outputId": "8d3ba115-02ef-40e8-d0e5-07f745c3989b"
      },
      "outputs": [
        {
          "name": "stdout",
          "output_type": "stream",
          "text": [
            "['word1', 'Word2', 'word3', 'word4', 'text1', 'text2', 'text3', 'Text4', 'word5', 'text5', 'word6', 'python1', 'python2', 'Python3']\n"
          ]
        }
      ],
      "source": [
        "\n",
        "\n",
        "passage = '''\n",
        "word1 Word2 word3 word4 text1 text2\n",
        "text3 Text4 word5 text5 word6\n",
        "python1 python2 Python3\n",
        "'''\n",
        "word=passage.split()\n",
        "print(word)"
      ]
    },
    {
      "cell_type": "code",
      "execution_count": null,
      "metadata": {
        "colab": {
          "base_uri": "https://localhost:8080/"
        },
        "id": "dbuj9EC1AqM-",
        "outputId": "93157a90-844c-45bb-a5d2-3700d07db3ac"
      },
      "outputs": [
        {
          "name": "stdout",
          "output_type": "stream",
          "text": [
            "444455556666677\n",
            "4 4 4 5 5 6 2 7\n",
            "\n"
          ]
        }
      ],
      "source": [
        "def run_length_encoding(num:str)->str:\n",
        "  encoding=[]\n",
        "  prev_digit=num[0]\n",
        "  count=1\n",
        "  for digit in num[1:]:\n",
        "    if digit !=prev_digit:\n",
        "      encoding.extend([count,prev_digit])\n",
        "      count=0\n",
        "    count+=1\n",
        "    prev_digit=digit\n",
        "  encoding.extend([count,prev_digit])\n",
        "  return \" \".join(map(str,encoding))\n",
        "while True:\n",
        "  num=input()\n",
        "  if not num:\n",
        "    break\n",
        "  print(run_length_encoding(num))\n"
      ]
    },
    {
      "cell_type": "code",
      "execution_count": null,
      "metadata": {
        "colab": {
          "base_uri": "https://localhost:8080/"
        },
        "id": "XCFwyFX6BH_4",
        "outputId": "2930442a-a5a5-4cc1-aa97-edede47e9af4"
      },
      "outputs": [
        {
          "name": "stdout",
          "output_type": "stream",
          "text": [
            "445556666677\n",
            "445556666677\n",
            "<class 'str'>\n",
            "2 4 3 5 5 6 2 7\n"
          ]
        }
      ],
      "source": [
        "from string import digits\n",
        "num=input()\n",
        "print(num)\n",
        "print(type(num))\n",
        "encoding=[]\n",
        "prev_digit=num[0]\n",
        "count=1\n",
        "for digit in num[1:]:\n",
        "  if digit!=prev_digit:\n",
        "    encoding.extend([count,prev_digit])\n",
        "    count=0\n",
        "  count+=1\n",
        "  prev_digit=digit\n",
        "encoding.extend([count,prev_digit])\n",
        "print(' '.join(map(str,encoding)))\n"
      ]
    },
    {
      "cell_type": "code",
      "execution_count": null,
      "metadata": {
        "colab": {
          "base_uri": "https://localhost:8080/"
        },
        "id": "m90cWDucD3wu",
        "outputId": "89251fb5-b074-402d-be8c-6ae81190e127"
      },
      "outputs": [
        {
          "name": "stdout",
          "output_type": "stream",
          "text": [
            "[4, 5, 6, 7, 8, 9]\n"
          ]
        }
      ],
      "source": [
        "encoding=[\"4\",\"5\",\"6\",\"7\",\"8\",\"9\"]\n",
        "numbers=list(map(int,encoding))\n",
        "print(numbers)"
      ]
    },
    {
      "cell_type": "code",
      "execution_count": null,
      "metadata": {
        "id": "Gh7kdvF9I_63"
      },
      "outputs": [],
      "source": [
        "def is_right_triangle_with_even_sides(a:int,b:int,c:int)->bool:\n",
        "  return a*a+b*b=c*c and a%2==0 and b%2==0\n",
        "def is_odd_indices_alpha_even_indices_digits(string:str)->bool:\n",
        "  return string[::2].isdigit() and string[1::2].isalpha()\n",
        "def swap_even_and_odd_indices(l:list)->None:\n",
        "  l[::2],l[1::2]=l[1::2],l[::2]\n",
        "def unique_chars_present_in_first_not_in_second(s1:str,s2:str)->set:\n",
        "  return set(s1)-set(s2)\n",
        "def repeat(t:tuple)->tuple:\n",
        "  return (t[0],)*t[1]+(t[1],)*t[0]\n"
      ]
    },
    {
      "cell_type": "code",
      "execution_count": null,
      "metadata": {
        "colab": {
          "base_uri": "https://localhost:8080/"
        },
        "id": "7GSMHy0FSVjG",
        "outputId": "86841b1b-fb18-465b-a675-d3e348213d9a"
      },
      "outputs": [
        {
          "name": "stdout",
          "output_type": "stream",
          "text": [
            "(2, 2, 2, 3, 3)\n"
          ]
        }
      ],
      "source": [
        "t=(2,3)\n",
        "print((t[0],)*t[1]+(t[1],)*t[0])\n"
      ]
    },
    {
      "cell_type": "code",
      "execution_count": null,
      "metadata": {
        "id": "wlnLA5yzZYI8"
      },
      "outputs": [],
      "source": []
    },
    {
      "cell_type": "code",
      "execution_count": null,
      "metadata": {
        "colab": {
          "base_uri": "https://localhost:8080/"
        },
        "id": "2KKr3Ce2YcWe",
        "outputId": "5164d22d-de8d-4f69-d04d-234fea79de67"
      },
      "outputs": [
        {
          "data": {
            "text/plain": [
              "3"
            ]
          },
          "execution_count": 18,
          "metadata": {},
          "output_type": "execute_result"
        }
      ],
      "source": [
        "def row_index_with_most_number_of_zeros(matrix:list)->int:\n",
        "  if not matrix:\n",
        "    return -1\n",
        "\n",
        "  zero_count=0\n",
        "  max_zero_index=-1\n",
        "  max_zero_count=-1\n",
        "  for i,row in enumerate(matrix):\n",
        "    for value in row:\n",
        "      if value==0:\n",
        "        zero_count+=1\n",
        "        if zero_count>max_zero_count:\n",
        "          max_zero_count=max_zero_count\n",
        "          max_zero_index=i\n",
        "  return max_zero_index\n",
        "\n",
        "\n",
        "\n",
        "matrix=[[1,0,1,4,1],[1,5,1,1,2],[2,0,2,0,3],[3,0,0,0,4]]\n",
        "row_index_with_most_number_of_zeros(matrix)\n"
      ]
    },
    {
      "cell_type": "code",
      "execution_count": null,
      "metadata": {
        "colab": {
          "background_save": true
        },
        "id": "6YwKR0SeTyiu"
      },
      "outputs": [],
      "source": [
        "def top_k_teams(batsmen:list,k:int)->list:\n",
        "  team_runs={}\n",
        "  for batsman in batsmen:\n",
        "    if batsman[\"teams\"] not in team_runs:\n",
        "      team_runs[batsma[\"teams\"]]=0\n",
        "    team_runs[batsman[\"teams\"]]+=batsman[\"runs\"]\n",
        "  return sorted(team_runs,key=team_runs.get,reverse=True)[:k]\n",
        "\n",
        "batsmen = [\n",
        "    {'name': 'Player 1', 'runs': 50, 'team': 'Team A'},\n",
        "    {'name': 'Player 2', 'runs': 60, 'team': 'Team B'},\n",
        "    {'name': 'Player 3', 'runs': 40, 'team': 'Team A'},\n",
        "    {'name': 'Player 4', 'runs': 70, 'team': 'Team C'},\n",
        "    {'name': 'Player 5', 'runs': 30, 'team': 'Team B'},\n",
        "    {'name': 'Player 6', 'runs': 80, 'team': 'Team D'},\n",
        "    {'name': 'Player 7', 'runs': 20, 'team': 'Team C'},\n",
        "]\n",
        "top_k_teams(batsmen)"
      ]
    },
    {
      "cell_type": "code",
      "execution_count": null,
      "metadata": {
        "id": "qAjiaz9OHq3z"
      },
      "outputs": [],
      "source": [
        "def find_longest_antakshari(words):\n",
        "  max_len=1\n",
        "  prev_word=words[0]\n",
        "  antakshari_len=-1\n",
        "  for word in words[-1]:\n",
        "    if prev_word[-1]==word[0]:\n",
        "      antakshari_len+=1\n",
        "    else:\n",
        "      antakshari_len=1\n",
        "    if antakshari_len>=max_len:\n",
        "      max_len=antakshari_len\n",
        "    prev_word=word\n",
        "  return max_len\n",
        "words=input()\n",
        "\n",
        "n=int(input())\n",
        "for i in range(n):\n",
        "  print(find_longest_antakshari(input().split(',')))"
      ]
    },
    {
      "cell_type": "code",
      "execution_count": null,
      "metadata": {
        "id": "wufrVdYRPiGQ"
      },
      "outputs": [],
      "source": [
        "2\n",
        "150\n",
        "-10 10 -10 5\n",
        "20 -20 30 -10\n",
        "Sample Output\n",
        "\n",
        "140,150,145\n",
        "145,175,155\n",
        "Explanation\n",
        "\n",
        "Day 1:\n",
        "\n",
        "Initial balance: 150\n",
        "Transactions: -10, 10, -10, 5\n",
        "Calculations:\n",
        "\n",
        "Balance after -10: 140\n",
        "Balance after +10: 150\n",
        "Balance after -10: 140\n",
        "Balance after +5: 145\n",
        "Min balance: 140 Max balance: 150 Current Balance: 145\n",
        "\n",
        "Output for Day 1: 140,150,145\n",
        "\n",
        "Day 2:\n",
        "\n",
        "Initial balance (end balance of Day 1): 145\n",
        "Transactions: 20, -20, 30, -10\n",
        "Calculations:\n",
        "\n",
        "Balance after +20: 165\n",
        "Balance after -20: 145\n",
        "Balance after +30: 175\n",
        "Balance after -10: 165\n",
        "Min balance: 145 Max balance: 175 Current Balance: 165\n",
        "\n",
        "Output for Day 2: 145,175,165"
      ]
    },
    {
      "cell_type": "code",
      "execution_count": null,
      "metadata": {
        "colab": {
          "base_uri": "https://localhost:8080/"
        },
        "id": "kWlHBjBJRAYo",
        "outputId": "af99951c-d0ff-4d0b-f238-a35280288640"
      },
      "outputs": [
        {
          "name": "stdout",
          "output_type": "stream",
          "text": [
            "2\n",
            "150\n",
            "-10,10,-10,5\n",
            "150,140,150\n",
            "20,-20,30,-10\n",
            "150,150,150\n"
          ]
        }
      ],
      "source": [
        "def min_max_last_balance(initial_balance,transactions):\n",
        "  min_balance=max_balance=curr_balance=initial_balance\n",
        "  for t in transactions:\n",
        "    curr_balance+=t\n",
        "    if curr_balance<min_balance:\n",
        "      min_balance=curr_balance\n",
        "    if curr_balance>max_balance:\n",
        "      max_balanec=curr_balance\n",
        "\n",
        "  return max_balance,min_balance,curr_balance\n",
        "\n",
        "n=int(input())\n",
        "initial_balance=int(input())\n",
        "for i in range(n):\n",
        "  transactions=map(int,input().split(','))\n",
        "  max_balance,min_balance,curr_balance=min_max_last_balance(initial_balance,transactions)\n",
        "  print(f\"{max_balance},{min_balance},{initial_balance}\")"
      ]
    },
    {
      "cell_type": "code",
      "execution_count": null,
      "metadata": {
        "id": "vkeZmtWMRlpO"
      },
      "outputs": [],
      "source": [
        "def courses_sorted_by_enrollment(student_courses:dict)->list:\n",
        "  course_count={}\n",
        "  for courses in student_courses.values():\n",
        "    for course in courses:\n",
        "      if course not in course_count:\n",
        "        course_count[course]=0\n",
        "      course_count[course]+=1\n",
        "  return sorted(course_count,key=course_count.get,reverese=True)\n",
        "\n",
        "\n"
      ]
    },
    {
      "cell_type": "code",
      "execution_count": null,
      "metadata": {
        "colab": {
          "base_uri": "https://localhost:8080/"
        },
        "id": "YjrEsSag1I5L",
        "outputId": "7aecb6e3-7787-4a8f-84cb-af49f46ff4e4"
      },
      "outputs": [
        {
          "data": {
            "text/plain": [
              "[(('Argentina', 'Germany'), 4, 0),\n",
              " (('Argentina', 'Germany'), 1, 0),\n",
              " (('Argentina', 'Germany'), 1, 0)]"
            ]
          },
          "execution_count": 15,
          "metadata": {},
          "output_type": "execute_result"
        }
      ],
      "source": [
        "def  get_leaderboard(matches:list)->list:\n",
        "  team_data={}\n",
        "  for match in matches:\n",
        "    teams=match[\"team1\"],match[\"team2\"]\n",
        "    goals=match[\"goals1\"],match[\"goals2\"]\n",
        "    for team in teams:\n",
        "\n",
        "      if team not in team_data:\n",
        "        team_data[team]={\"score\":0,\"goals\":0}\n",
        "\n",
        "    if goals[0]>goals[1]:\n",
        "      team_data[teams[0]][\"score\"]+=2\n",
        "\n",
        "    elif goals[0]<goals[1]:\n",
        "      team_data[teams[1]][\"score\"]+=2\n",
        "\n",
        "\n",
        "    else:\n",
        "      team_data[teams[0]][\"score\"]+=1\n",
        "      team_data[teams[1]][\"score\"]+=1\n",
        "\n",
        "  return sorted([(teams, team_data[team][\"score\"], team_data[team][\"goals\"]) for team in team_data], key=lambda x: (x[0],x[1]), reverse =True)\n",
        "\n",
        "matches = [\n",
        "    {'team1': 'Brazil', 'team2': 'Argentina', 'goals1': 2, 'goals2': 1},\n",
        "    {'team1': 'Germany', 'team2': 'Brazil', 'goals1': 0, 'goals2': 3},\n",
        "    {'team1': 'Argentina', 'team2': 'Germany', 'goals1': 1, 'goals2': 1},\n",
        "]\n",
        "\n",
        "\n",
        "get_leaderboard(matches)\n"
      ]
    },
    {
      "cell_type": "code",
      "execution_count": null,
      "metadata": {
        "colab": {
          "base_uri": "https://localhost:8080/"
        },
        "id": "nQKuZu9s12g3",
        "outputId": "357d5740-633f-4645-bb07-804555a69835"
      },
      "outputs": [
        {
          "data": {
            "text/plain": [
              "[('Ashwin', 1, 11.5)]"
            ]
          },
          "execution_count": 20,
          "metadata": {},
          "output_type": "execute_result"
        }
      ],
      "source": [
        "def best_performers(overs:list)->list:\n",
        "  bowlers={}\n",
        "  for over in overs:\n",
        "    for bowler in over:\n",
        "      if bowler not in bowlers:\n",
        "        bowlers[bowler]={\"runs\":0,\"wickets\":0,\"overs\":0}\n",
        "\n",
        "      for ball in over[bowler]:\n",
        "\n",
        "        if isinstance(ball,int):\n",
        "          bowlers[bowler][\"runs\"]+= ball\n",
        "\n",
        "\n",
        "        elif ball ==\"W\":\n",
        "\n",
        "          bowlers[bowler][\"wickets\"]+=1\n",
        "\n",
        "        elif ball== \"Wd\":\n",
        "          bowlers[bowler][\"runs\"]+=1\n",
        "\n",
        "        elif ball[:2]==\"Nb\":\n",
        "          bowlers[bowler][\"runs\"]+= 1 + int(ball[-2])\n",
        "\n",
        "      bowlers[bowler][\"overs\"]+=1\n",
        "\n",
        "\n",
        "  for bow in bowlers:\n",
        "    return sorted([(bow,bowlers[bow][\"wickets\"], round((bowlers[bow][\"runs\"])/(bowlers[bow][\"overs\"]),2))], key = lambda x:(x[1],x[2]), reverse = True)\n",
        "\n",
        "\n",
        "overs = [\n",
        "    {'Ashwin': [1, 1, 0, 'W', 'Wd', 6, 'Nb[4]', 0]},  # Ashwin: 14 runs, 1 wicket\n",
        "    {'Bumrah': [0, 0, 'W', 1, 0, 0]},                # Bumrah: 1 run, 1 wicket\n",
        "    {'Ashwin': [4, 0, 'Wd', 1, 1, 2, 0, 0]},         # Ashwin: 9 runs, 0 wickets\n",
        "    {'Bumrah': [6, 'W', 0, 0, 'Nb[2]', 0]},          # Bumrah: 9 runs, 1 wicket\n",
        "]\n",
        "\n",
        "best_performers(overs)"
      ]
    },
    {
      "cell_type": "code",
      "execution_count": null,
      "metadata": {
        "colab": {
          "base_uri": "https://localhost:8080/"
        },
        "id": "VpZWescN-m1a",
        "outputId": "8651740f-ca40-40ac-e0cc-fb57d2142d78"
      },
      "outputs": [
        {
          "data": {
            "text/plain": [
              "[('Bumrah', 2, 5.0), ('Ashwin', 1, 11.5)]"
            ]
          },
          "execution_count": 21,
          "metadata": {},
          "output_type": "execute_result"
        }
      ],
      "source": [
        "def best_performers(overs: list) -> list:\n",
        "\n",
        "    bowlers = { }\n",
        "\n",
        "    for over in overs:\n",
        "        for bowler in over:\n",
        "            if bowler not in bowlers:\n",
        "                bowlers[bowler] = {'runs': 0, 'wickets': 0, 'overs': 0}\n",
        "\n",
        "            # Updating wickets and runs.\n",
        "            for ball in over[bowler]:\n",
        "                if isinstance(ball, int):\n",
        "                    bowlers[bowler]['runs'] += ball\n",
        "\n",
        "                elif ball == 'W':\n",
        "                    bowlers[bowler]['wickets'] += 1\n",
        "\n",
        "                elif ball == 'Wd':\n",
        "                    bowlers[bowler]['runs'] += 1\n",
        "\n",
        "                elif ball.startswith('Nb'):\n",
        "                    bowlers[bowler]['runs'] += 1 + int(ball[-2])\n",
        "\n",
        "            # Updating the overs count.\n",
        "            bowlers[bowler]['overs'] += 1\n",
        "\n",
        "\n",
        "    return sorted( [(bow, bowlers[bow]['wickets'], round(bowlers[bow]['runs']/bowlers[bow]['overs'], 2))\n",
        "                    for bow in bowlers],\n",
        "                    key = lambda x: (x[1], -x[2]),\n",
        "                    reverse = True )\n",
        "\n",
        "overs = [\n",
        "    {'Ashwin': [1, 1, 0, 'W', 'Wd', 6, 'Nb[4]', 0]},  # Ashwin: 14 runs, 1 wicket\n",
        "    {'Bumrah': [0, 0, 'W', 1, 0, 0]},                # Bumrah: 1 run, 1 wicket\n",
        "    {'Ashwin': [4, 0, 'Wd', 1, 1, 2, 0, 0]},         # Ashwin: 9 runs, 0 wickets\n",
        "    {'Bumrah': [6, 'W', 0, 0, 'Nb[2]', 0]},          # Bumrah: 9 runs, 1 wicket\n",
        "]\n",
        "\n",
        "best_performers(overs)"
      ]
    },
    {
      "cell_type": "code",
      "execution_count": null,
      "metadata": {
        "colab": {
          "base_uri": "https://localhost:8080/"
        },
        "id": "MHlqkhBu1_sB",
        "outputId": "936b7d76-49c8-42b5-ac33-6ebb9691a434"
      },
      "outputs": [
        {
          "data": {
            "text/plain": [
              "[('Bumrah', 2, 5.0), ('Ashwin', 1, 11.5)]"
            ]
          },
          "execution_count": 6,
          "metadata": {},
          "output_type": "execute_result"
        }
      ],
      "source": [
        "def best_performers(overs:list)->list:\n",
        "  bowlers={}\n",
        "  for over in overs:\n",
        "    for bowler in over:\n",
        "      if bowler not in bowlers:\n",
        "        bowlers[bowler]={\"runs\":0,\"wickets\":0,\"overs\":0}\n",
        "      for ball in over[bowler]:\n",
        "        if isinstance(ball,int):\n",
        "          bowlers[bowler][\"runs\"]+=ball\n",
        "        elif ball==\"W\":\n",
        "          bowlers[bowler][\"wickets\"]+=1\n",
        "        elif ball==\"Wd\":\n",
        "          bowlers[bowler][\"runs\"]+=1\n",
        "        elif ball[:2]==\"Nb\":\n",
        "          bowlers[bowler][\"runs\"]+=1+ int(ball[-2])\n",
        "    bowlers[bowler][\"overs\"]+=1\n",
        "  return sorted([(bow,bowlers[bow][\"wickets\"], round(bowlers[bow][\"runs\"]/bowlers[bow][\"overs\"], 2)) for bow in bowlers], key=lambda x: (x[1],-x[2]),reverse = True)\n",
        "overs = [\n",
        "    {'Ashwin': [1, 1, 0, 'W', 'Wd', 6, 'Nb[4]', 0]},  # Ashwin: 14 runs, 1 wicket\n",
        "    {'Bumrah': [0, 0, 'W', 1, 0, 0]},                # Bumrah: 1 run, 1 wicket\n",
        "    {'Ashwin': [4, 0, 'Wd', 1, 1, 2, 0, 0]},         # Ashwin: 9 runs, 0 wickets\n",
        "    {'Bumrah': [6, 'W', 0, 0, 'Nb[2]', 0]},          # Bumrah: 9 runs, 1 wicket\n",
        "]\n",
        "\n",
        "best_performers(overs)\n"
      ]
    },
    {
      "cell_type": "code",
      "execution_count": null,
      "metadata": {
        "colab": {
          "base_uri": "https://localhost:8080/"
        },
        "id": "Y7SoF8Xf2TIG",
        "outputId": "bd8bb65d-11a4-4373-aa3c-266e62e3e47a"
      },
      "outputs": [
        {
          "name": "stdout",
          "output_type": "stream",
          "text": [
            "123\n"
          ]
        },
        {
          "data": {
            "text/plain": [
              "6"
            ]
          },
          "execution_count": 13,
          "metadata": {},
          "output_type": "execute_result"
        }
      ],
      "source": [
        "def digit_product(n:int)->int:\n",
        "  prod=1\n",
        "  for i in str(abs(n)):\n",
        "    prod*=int(i)\n",
        "  return prod\n",
        "\n",
        "n=int(input())\n",
        "\n",
        "\n",
        "\n",
        "digit_product(n)"
      ]
    },
    {
      "cell_type": "code",
      "execution_count": null,
      "metadata": {
        "colab": {
          "base_uri": "https://localhost:8080/",
          "height": 36
        },
        "id": "a9j3rVIv2nG_",
        "outputId": "23470c89-e233-48b1-ec1e-514d52ff10ae"
      },
      "outputs": [
        {
          "data": {
            "application/vnd.google.colaboratory.intrinsic+json": {
              "type": "string"
            },
            "text/plain": [
              "'PythoN ProgramminG'"
            ]
          },
          "execution_count": 30,
          "metadata": {},
          "output_type": "execute_result"
        }
      ],
      "source": [
        "def capitalize_first_and_last(sentence:str)->str:\n",
        "  word=sentence.split()\n",
        "  word=[word[0][0].upper()+ word[0][1:-1]+ word[0][-1].upper()+' '+ word[1][0].upper()+ word[1][1:-1]+ word[1][-1].upper()  if len(word)>1 else word.upper()]\n",
        "  return ' '.join(word)\n",
        "\n",
        "\n",
        "\n",
        "\n",
        "sentence=\"python programming\"\n",
        "capitalize_first_and_last(sentence)\n",
        "\n"
      ]
    },
    {
      "cell_type": "code",
      "execution_count": null,
      "metadata": {
        "id": "Ttkn0heS8Jci"
      },
      "outputs": [],
      "source": [
        "def capitalize_first_and_last(sentence: str) -> str:\n",
        "    words = sentence.split()\n",
        "    capitalized_words = []\n",
        "\n",
        "    for word in words:\n",
        "        if len(word) > 1:\n",
        "            capitalized_word = word[0].upper() + word[1:-1] + word[-1].upper()\n",
        "        else:\n",
        "            capitalized_word = word.upper()\n",
        "        capitalized_words.append(capitalized_word)\n",
        "\n",
        "    return ' '.join(capitalized_words)\n",
        "\n",
        "# Example usage:\n",
        "sentence = \"python programming language is amazing\"\n",
        "print(capitalize_first_and_last(sentence))\n"
      ]
    },
    {
      "cell_type": "code",
      "execution_count": null,
      "metadata": {
        "colab": {
          "base_uri": "https://localhost:8080/"
        },
        "id": "vf_SSw2-8Kb8",
        "outputId": "374ab4e3-bce9-4a4e-d2bb-630c802bcfe9"
      },
      "outputs": [
        {
          "name": "stdout",
          "output_type": "stream",
          "text": [
            "PythoN ProgramminG\n"
          ]
        }
      ],
      "source": [
        "def capitalize_first_and_last(sentence:str)->str:\n",
        "  words=sentence.split()\n",
        "  capitalized_words=[]\n",
        "  for word in words:\n",
        "    if len(word)>1:\n",
        "      capitalize_word=word[0].upper()+word[1:-1]+ word[-1].upper()\n",
        "    else:\n",
        "      capitalize_word = word.upper()\n",
        "    capitalized_words.append(capitalize_word)\n",
        "  return ' '.join(capitalized_words)\n",
        "\n",
        "sentence = \"python programming\"\n",
        "print(capitalize_first_and_last(sentence))"
      ]
    },
    {
      "cell_type": "code",
      "execution_count": null,
      "metadata": {
        "colab": {
          "base_uri": "https://localhost:8080/",
          "height": 36
        },
        "id": "FqXUoMsx-Dz2",
        "outputId": "1055838a-1c56-47ed-d178-4125957d5ee6"
      },
      "outputs": [
        {
          "data": {
            "application/vnd.google.colaboratory.intrinsic+json": {
              "type": "string"
            },
            "text/plain": [
              "'PythoN ProgramminG'"
            ]
          },
          "execution_count": 41,
          "metadata": {},
          "output_type": "execute_result"
        }
      ],
      "source": [
        "def capitalize_first_and_last(sentence:str)->str:\n",
        "  words=sentence.split()\n",
        "  capitalized_words=[]\n",
        "  for word in words:\n",
        "    if len(word)>1:\n",
        "      capitalize_word=word[0].upper()+word[1:-1]+word[-1].upper()\n",
        "    else:\n",
        "      capitalize_word=word.upper()\n",
        "    capitalized_words.append(capitalize_word)\n",
        "  return ' '.join(capitalized_words)\n",
        "sentence=\"python programming\"\n",
        "capitalize_first_and_last(sentence)\n"
      ]
    },
    {
      "cell_type": "code",
      "execution_count": null,
      "metadata": {
        "colab": {
          "base_uri": "https://localhost:8080/",
          "height": 53
        },
        "id": "u7byRFf0_-Sy",
        "outputId": "151042e1-0ed9-4f71-89c7-a27298c34718"
      },
      "outputs": [
        {
          "name": "stdout",
          "output_type": "stream",
          "text": [
            "3\n"
          ]
        },
        {
          "data": {
            "application/vnd.google.colaboratory.intrinsic+json": {
              "type": "string"
            },
            "text/plain": [
              "'ab'"
            ]
          },
          "execution_count": 44,
          "metadata": {},
          "output_type": "execute_result"
        }
      ],
      "source": [
        "def kth_longest_word(words:list,k:int)->str:\n",
        "  return sorted(words,key=len, reverse=True)[k-1]\n",
        "k = int(input())\n",
        "words=['a', 'abc', 'abcd', 'ab']\n",
        "kth_longest_word(words,k)"
      ]
    },
    {
      "cell_type": "code",
      "execution_count": null,
      "metadata": {
        "colab": {
          "base_uri": "https://localhost:8080/"
        },
        "id": "u647ioC7D7r1",
        "outputId": "ebc0b385-82e1-49c4-dd9c-16a7c6ae4987"
      },
      "outputs": [
        {
          "data": {
            "text/plain": [
              "((1, 2, 3), (4, 5, 6))"
            ]
          },
          "execution_count": 2,
          "metadata": {},
          "output_type": "execute_result"
        }
      ],
      "source": [
        "from types import resolve_bases\n",
        "def unflatten(t:tuple,m:int,n:int)->tuple:\n",
        "  result=[]\n",
        "  for i in range(m):\n",
        "    row=t[i*n: (i+1)*n]\n",
        "    result.append(row)\n",
        "  return tuple(result)\n",
        "\n",
        "unflatten((1,2,3,4,5,6),2,3)\n"
      ]
    },
    {
      "cell_type": "code",
      "execution_count": null,
      "metadata": {
        "colab": {
          "base_uri": "https://localhost:8080/"
        },
        "id": "7eNawOSjkk29",
        "outputId": "86ce1e69-7676-41af-e73a-c2a5328f5731"
      },
      "outputs": [
        {
          "name": "stdout",
          "output_type": "stream",
          "text": [
            "HelloWorld\n",
            "['H', 'e', 'l', 'l', 'o', 'W', 'o', 'r', 'l', 'd']\n"
          ]
        },
        {
          "data": {
            "text/plain": [
              "False"
            ]
          },
          "execution_count": 27,
          "metadata": {},
          "output_type": "execute_result"
        }
      ],
      "source": [
        "def is_heterogram(sentence:str)->bool:\n",
        "  lst=[]\n",
        "  words=sentence.split(\" \")\n",
        "  sep=''.join(words)\n",
        "  print(sep)\n",
        "  for i in sep:\n",
        "\n",
        "    lst.append(i)\n",
        "  print(lst)\n",
        "  return len(lst)==len(set(lst))\n",
        "\n",
        "\n",
        "sentence='Hello World'\n",
        "is_heterogram(sentence)\n"
      ]
    },
    {
      "cell_type": "code",
      "execution_count": null,
      "metadata": {
        "colab": {
          "base_uri": "https://localhost:8080/"
        },
        "id": "Dq1QCqCundxY",
        "outputId": "755c18e9-d0e2-458a-c2a2-041ff439658e"
      },
      "outputs": [
        {
          "data": {
            "text/plain": [
              "{2: 20, 4: 30}"
            ]
          },
          "execution_count": 1,
          "metadata": {},
          "output_type": "execute_result"
        }
      ],
      "source": [
        "def filter_keys_by_value(d:dict,thresold:int)->None:\n",
        "  keys=list(d.keys())\n",
        "  for key in keys:\n",
        "    if d[key]<=thresold:\n",
        "      del d[key]\n",
        "  return d\n",
        "\n",
        "d = {1: 10, 2: 20, 3: 5, 4: 30}\n",
        "filter_keys_by_value(d,15)"
      ]
    },
    {
      "cell_type": "code",
      "execution_count": null,
      "metadata": {
        "colab": {
          "base_uri": "https://localhost:8080/"
        },
        "id": "0mOkKBvQXv0E",
        "outputId": "3a7d6f73-0310-416a-9e40-990c24775f7b"
      },
      "outputs": [
        {
          "name": "stdout",
          "output_type": "stream",
          "text": [
            "19\n"
          ]
        },
        {
          "data": {
            "text/plain": [
              "3"
            ]
          },
          "execution_count": 5,
          "metadata": {},
          "output_type": "execute_result"
        }
      ],
      "source": [
        "def is_happy_number(n:int)->bool:\n",
        "  seen =set()\n",
        "  while n!=1 and n not in seen:\n",
        "    seen.add(n)\n",
        "    for i in str(n):\n",
        "      n=sum([int(i)**2])\n",
        "  return n==1\n",
        "n=int(input())\n",
        "is_happy_number(n)\n",
        "\n",
        "\n",
        "\n",
        "\n",
        "\n",
        "def n_happy_numbers(numbers:list)->int:\n",
        "  count=0\n",
        "  for x in numbers:\n",
        "    if is_happy_number(x):\n",
        "      count+=1\n",
        "  return count\n",
        "\n",
        "numbers=[19,4,29,23]\n",
        "n_happy_numbers(numbers)"
      ]
    },
    {
      "cell_type": "code",
      "execution_count": null,
      "metadata": {
        "colab": {
          "base_uri": "https://localhost:8080/"
        },
        "id": "JSGP22cxcxPM",
        "outputId": "6ed04f8c-a1c6-4407-a30d-ec130da75ab0"
      },
      "outputs": [
        {
          "name": "stdout",
          "output_type": "stream",
          "text": [
            "19\n"
          ]
        },
        {
          "data": {
            "text/plain": [
              "3"
            ]
          },
          "execution_count": 10,
          "metadata": {},
          "output_type": "execute_result"
        }
      ],
      "source": [
        "def is_happy_number(n:int)->bool:\n",
        "  seen=set()\n",
        "  while n!=1 and n not in seen:\n",
        "    seen.add(n)\n",
        "    for i in str(n):\n",
        "      n=sum([int(i)**2])\n",
        "  return n==1\n",
        "n=int(input())\n",
        "is_happy_number(n)\n",
        "\n",
        "def n_happy_numbers(numbers:list)->list:\n",
        "  count=0\n",
        "  for x in numbers:\n",
        "    if is_happy_number(x):\n",
        "      count+=1\n",
        "  return count\n",
        "number=[19,2,4,29,23]\n",
        "n_happy_numbers(numbers)"
      ]
    },
    {
      "cell_type": "code",
      "execution_count": null,
      "metadata": {
        "colab": {
          "base_uri": "https://localhost:8080/"
        },
        "id": "dybMYyp9dIMn",
        "outputId": "6a05c538-86c7-4531-fe79-75472d5e53ca"
      },
      "outputs": [
        {
          "data": {
            "text/plain": [
              "4"
            ]
          },
          "execution_count": 11,
          "metadata": {},
          "output_type": "execute_result"
        }
      ],
      "source": [
        "def second_largest(lst:list)->int:\n",
        "  lst=sorted(lst,reverse=True)\n",
        "  return lst[1]\n",
        "lst=[1, 2, 3, 4, 5]\n",
        "second_largest(lst)"
      ]
    },
    {
      "cell_type": "code",
      "execution_count": null,
      "metadata": {
        "colab": {
          "base_uri": "https://localhost:8080/"
        },
        "id": "4fCPCFuDI0vW",
        "outputId": "69d57e75-a625-4e57-ac45-1ab13783e1c8"
      },
      "outputs": [
        {
          "data": {
            "text/plain": [
              "(3, -1, 2, 0)"
            ]
          },
          "execution_count": 13,
          "metadata": {},
          "output_type": "execute_result"
        }
      ],
      "source": [
        "def arithmetic_operation(t:tuple)->tuple:\n",
        "  a,b=t\n",
        "  return (a+b,a-b,a*b,a//b)\n",
        "\n",
        "\n",
        "t=(1,2)\n",
        "arithmetic_operation(t)"
      ]
    },
    {
      "cell_type": "code",
      "execution_count": null,
      "metadata": {
        "colab": {
          "base_uri": "https://localhost:8080/"
        },
        "id": "v1FYuyxfJYLY",
        "outputId": "4cd693b7-cb53-4d15-f449-7ddf9ff669e9"
      },
      "outputs": [
        {
          "data": {
            "text/plain": [
              "{1, 2, 4, 5}"
            ]
          },
          "execution_count": 17,
          "metadata": {},
          "output_type": "execute_result"
        }
      ],
      "source": [
        "def not_present_in_both(list1:list,list2:list)->list:\n",
        "  s1=set(list1)\n",
        "  s2=set(list2)\n",
        "  return s1.symmetric_difference(s2)\n",
        "\n",
        "not_present_in_both([1, 2, 3], [3, 4, 5])"
      ]
    },
    {
      "cell_type": "code",
      "execution_count": null,
      "metadata": {
        "colab": {
          "base_uri": "https://localhost:8080/"
        },
        "id": "scs6U3hWKY-k",
        "outputId": "43bc8e33-bc8c-47ca-8cfa-d1cffe542572"
      },
      "outputs": [
        {
          "name": "stdout",
          "output_type": "stream",
          "text": [
            "db\n",
            "ace\n",
            "acedb\n"
          ]
        }
      ],
      "source": [
        "def modify_string_1(s:str)->str:\n",
        "  even=s[::2]\n",
        "  odd=s[1::2][::-1]\n",
        "  print(odd)\n",
        "  print(even)\n",
        "  print(even+odd)\n",
        "s='abcde'\n",
        "modify_string_1(s)"
      ]
    },
    {
      "cell_type": "code",
      "execution_count": null,
      "metadata": {
        "colab": {
          "base_uri": "https://localhost:8080/"
        },
        "id": "bMq4hRZeLoTx",
        "outputId": "39e0013c-b804-48c8-edce-08d1bd8227a2"
      },
      "outputs": [
        {
          "data": {
            "text/plain": [
              "{'a': 3, 'b': 1, 'c': 3}"
            ]
          },
          "execution_count": 29,
          "metadata": {},
          "output_type": "execute_result"
        }
      ],
      "source": [
        "def create_count_dict(lst1:list,lst2:list)->dict:\n",
        "\n",
        "\n",
        "    return {item:lst2.count(item) for item in lst1}\n",
        "\n",
        "\n",
        "\n",
        "lst1=['a', 'b', 'c']\n",
        "lst2=['a', 'b', 'a', 'a', 'c', 'c', 'c']\n",
        "create_count_dict(lst1,lst2)\n"
      ]
    },
    {
      "cell_type": "code",
      "execution_count": null,
      "metadata": {
        "colab": {
          "base_uri": "https://localhost:8080/"
        },
        "id": "_oDreYRvM_Hv",
        "outputId": "4b1a957e-7286-4b64-d6ef-6b7c5d07f5eb"
      },
      "outputs": [
        {
          "data": {
            "text/plain": [
              "2.17"
            ]
          },
          "execution_count": 31,
          "metadata": {},
          "output_type": "execute_result"
        }
      ],
      "source": [
        "def average_of_numebers(lst:list)->float:\n",
        "  nums=[]\n",
        "  for item in lst:\n",
        "    if isinstance(item,(int,float)):\n",
        "      nums.append(item)\n",
        "  if not nums:\n",
        "    return -1\n",
        "  return round(sum(nums)/len(nums),2)\n",
        "\n",
        "lst=[1, 2.5, 'a', 3, 'b']\n",
        "average_of_numebers(lst)"
      ]
    },
    {
      "cell_type": "code",
      "execution_count": null,
      "metadata": {
        "colab": {
          "base_uri": "https://localhost:8080/"
        },
        "id": "OncjJZ4jHkIR",
        "outputId": "abadbb40-1e51-4af6-a1e8-2d14498a4463"
      },
      "outputs": [
        {
          "data": {
            "text/plain": [
              "2.17"
            ]
          },
          "execution_count": 45,
          "metadata": {},
          "output_type": "execute_result"
        }
      ],
      "source": [
        "def average_of_numbers(lst:list)->float:\n",
        "  nums=[]\n",
        "  for item in lst:\n",
        "    if isinstance(item,(int,float)):\n",
        "      nums.append(item)\n",
        "    if not nums:\n",
        "      return -1\n",
        "  return round(sum(nums)/len(nums),2)\n",
        "\n",
        "lst=[1,2.5,'a',3,'b']\n",
        "average_of_numbers(lst)\n"
      ]
    },
    {
      "cell_type": "code",
      "execution_count": null,
      "metadata": {
        "colab": {
          "base_uri": "https://localhost:8080/"
        },
        "id": "TitKFpigNfCb",
        "outputId": "c492926b-1a62-405d-de36-d85a42d9dc85"
      },
      "outputs": [
        {
          "data": {
            "text/plain": [
              "4"
            ]
          },
          "execution_count": 67,
          "metadata": {},
          "output_type": "execute_result"
        }
      ],
      "source": [
        "\n",
        "def most_frequent_element(lst:list):\n",
        "  d={}\n",
        "  for item in lst:\n",
        "    if item in d:\n",
        "      d[item]+=1\n",
        "    else:\n",
        "      d[item]=1\n",
        "  return(sorted(d.items()))[-1][-0]\n",
        "lst=[1, 2, 2, 3, 3, 3, 4, 4, 4, 4]\n",
        "most_frequent_element(lst)\n",
        "\n"
      ]
    },
    {
      "cell_type": "code",
      "execution_count": null,
      "metadata": {
        "colab": {
          "base_uri": "https://localhost:8080/"
        },
        "id": "YKOJQH8DVcQ6",
        "outputId": "eee8c7f4-06e1-4581-e4ca-ed1a77d1590b"
      },
      "outputs": [
        {
          "data": {
            "text/plain": [
              "True"
            ]
          },
          "execution_count": 80,
          "metadata": {},
          "output_type": "execute_result"
        }
      ],
      "source": [
        "def most_frequent_element(s:str, word_list:list)->bool:\n",
        "  for i in range(1,len(s)):\n",
        "    if s[:i] in word_list and s[i:] in word_list:\n",
        "      return True\n",
        "  return False\n",
        "\n",
        "s='helloworld'\n",
        "word_list= [\"hello\", \"world\", \"good\", \"bye\"]\n",
        "most_frequent_element(s, word_list)"
      ]
    },
    {
      "cell_type": "code",
      "execution_count": null,
      "metadata": {
        "colab": {
          "base_uri": "https://localhost:8080/"
        },
        "id": "-mr50HCuc9z6",
        "outputId": "6a2b59d7-56d5-4d01-be72-d5c2961f5176"
      },
      "outputs": [
        {
          "data": {
            "text/plain": [
              "[(-9, 1, 0), (5, 2, -1), (0, 2, 0), (-6, 2, 1), (0, 2, 1), (1, 2, 1)]"
            ]
          },
          "execution_count": 83,
          "metadata": {},
          "output_type": "execute_result"
        }
      ],
      "source": [
        "def sort_tuples_by_second_then_third(input_list):\n",
        "  return sorted(input_list,key=lambda x: (x[1],x[2],x[0]))\n",
        "\n",
        "input_list=[(0,2,0),(1,2,1),(-6,2,1),(0,2,1),(-9,1,0),(5,2,-1)]\n",
        "sort_tuples_by_second_then_third(input_list)"
      ]
    },
    {
      "cell_type": "code",
      "execution_count": null,
      "metadata": {
        "colab": {
          "base_uri": "https://localhost:8080/"
        },
        "id": "A7PGLCuldBap",
        "outputId": "2d10800c-db9f-4946-8bf4-a5da8411d109"
      },
      "outputs": [
        {
          "name": "stdout",
          "output_type": "stream",
          "text": [
            "1\n"
          ]
        },
        {
          "data": {
            "text/plain": [
              "[5, 1, 2, 3, 4]"
            ]
          },
          "execution_count": 89,
          "metadata": {},
          "output_type": "execute_result"
        }
      ],
      "source": [
        "\n",
        "def rotate_list(lst:list,k:int)->list:\n",
        "  n=len(lst)\n",
        "  k = k% n\n",
        "  return lst[n-k:]+lst[:n-k]\n",
        "\n",
        "lst=[1, 2, 3, 4, 5]\n",
        "k =int(input())\n",
        "rotate_list(lst,k)\n",
        "\n",
        "\n"
      ]
    },
    {
      "cell_type": "code",
      "execution_count": null,
      "metadata": {
        "colab": {
          "base_uri": "https://localhost:8080/"
        },
        "id": "FZqbPbtHeYRr",
        "outputId": "46872049-1003-4584-9811-0c59e1332fbb"
      },
      "outputs": [
        {
          "data": {
            "text/plain": [
              "[1, 9, 25]"
            ]
          },
          "execution_count": 91,
          "metadata": {},
          "output_type": "execute_result"
        }
      ],
      "source": [
        "def squares_of_odds(lst:list)->list:\n",
        "  return [x**2 for x in lst if x % 2!=0]\n",
        "lst=[1, 2, 3, 4, 5]\n",
        "squares_of_odds(lst)"
      ]
    },
    {
      "cell_type": "code",
      "execution_count": null,
      "metadata": {
        "colab": {
          "base_uri": "https://localhost:8080/"
        },
        "id": "XV_IE8ysiNnS",
        "outputId": "10c7e47f-9281-4a00-a606-506f60abd778"
      },
      "outputs": [
        {
          "name": "stdout",
          "output_type": "stream",
          "text": [
            "[1, 9, 25]\n"
          ]
        }
      ],
      "source": [
        "def squares_of_odds(lst:list)->list:\n",
        "  l=[]\n",
        "  for x in lst:\n",
        "    if x%2!=0:\n",
        "      l.append(x**2)\n",
        "  print(l)\n",
        "\n",
        "lst=[1, 2, 3, 4, 5]\n",
        "squares_of_odds(lst)"
      ]
    },
    {
      "cell_type": "code",
      "execution_count": null,
      "metadata": {
        "colab": {
          "base_uri": "https://localhost:8080/"
        },
        "id": "7MLIPWk-i8kU",
        "outputId": "86fcaea2-25e2-4e79-a129-6de6abc5f4fe"
      },
      "outputs": [
        {
          "name": "stdout",
          "output_type": "stream",
          "text": [
            "[(1, 'a'), (2, 'b'), (3, 'c')]\n",
            "((1, 'a'), (2, 'b'), (3, 'c'))\n"
          ]
        }
      ],
      "source": [
        "def pair_elements(t1:tuple,t2:list)->tuple:\n",
        "  lst=[]\n",
        "  for item1,item2 in zip(t1,t2):\n",
        "    lst.append((item1,item2))\n",
        "  print(lst)\n",
        "  print(tuple(lst))\n",
        "t1=(1, 2, 3)\n",
        "t2=('a', 'b', 'c')\n",
        "pair_elements(t1,t2)\n"
      ]
    },
    {
      "cell_type": "code",
      "execution_count": null,
      "metadata": {
        "colab": {
          "base_uri": "https://localhost:8080/",
          "height": 36
        },
        "id": "ohrNJy7Otxud",
        "outputId": "9f3bf0e1-44f6-4676-9808-d37ce0a3273e"
      },
      "outputs": [
        {
          "data": {
            "application/vnd.google.colaboratory.intrinsic+json": {
              "type": "string"
            },
            "text/plain": [
              "'python, hello'"
            ]
          },
          "execution_count": 118,
          "metadata": {},
          "output_type": "execute_result"
        }
      ],
      "source": [
        "def modify_string_2(t:tuple)->str:\n",
        "  return ', '.join([str(t[1]),str(t[0])])\n",
        "t=(\"hello\",\"python\")\n",
        "modify_string_2(t)"
      ]
    },
    {
      "cell_type": "code",
      "execution_count": null,
      "metadata": {
        "colab": {
          "base_uri": "https://localhost:8080/"
        },
        "id": "eTYw4D0gt05_",
        "outputId": "b4d34da3-4127-49a8-e8c9-effc8da318c5"
      },
      "outputs": [
        {
          "data": {
            "text/plain": [
              "{'a', 'e', 'i', 'o'}"
            ]
          },
          "execution_count": 120,
          "metadata": {},
          "output_type": "execute_result"
        }
      ],
      "source": [
        "def unique_vowels(s:str)->set:\n",
        "  arg=set()\n",
        "  for char in s:\n",
        "    if char.lower() in 'aeiou':\n",
        "      arg.add(char)\n",
        "  return arg\n",
        "s='aeio'\n",
        "unique_vowels(s)\n",
        "\n"
      ]
    },
    {
      "cell_type": "code",
      "execution_count": null,
      "metadata": {
        "colab": {
          "base_uri": "https://localhost:8080/"
        },
        "id": "_8DC8yJ7wQbh",
        "outputId": "f95b90b9-e046-4b7b-d22e-a48d1de70a92"
      },
      "outputs": [
        {
          "data": {
            "text/plain": [
              "{1: 'a', 2: 'b', 3: 'c'}"
            ]
          },
          "execution_count": 126,
          "metadata": {},
          "output_type": "execute_result"
        }
      ],
      "source": [
        "def inverted_dictionary(inverted_dict):\n",
        "  dict1={}\n",
        "  for key,value in inverted_dict.items():\n",
        "\n",
        "    dict1[value]=key\n",
        "  return dict1\n",
        "\n",
        "\n",
        "\n",
        "inverted_dict={'a': 1, 'b': 2, 'c': 3}\n",
        "inverted_dictionary(inverted_dict)"
      ]
    },
    {
      "cell_type": "code",
      "execution_count": null,
      "metadata": {
        "colab": {
          "base_uri": "https://localhost:8080/"
        },
        "id": "K_nAEST1xDkH",
        "outputId": "78b9132b-03e0-4942-dded-a0d81902d0a9"
      },
      "outputs": [
        {
          "data": {
            "text/plain": [
              "-120"
            ]
          },
          "execution_count": 131,
          "metadata": {},
          "output_type": "execute_result"
        }
      ],
      "source": [
        " def factorial(n:int):\n",
        "  if n==0 :\n",
        "    return 1\n",
        "  else:\n",
        "    if n<1:\n",
        "      f=1\n",
        "    else:\n",
        "      f=0\n",
        "    ans=1\n",
        "    for i in range(1,abs(n)+1):\n",
        "      ans*=i\n",
        "    return -ans if f else ansMB\n",
        "factorial(-5)"
      ]
    },
    {
      "cell_type": "code",
      "execution_count": null,
      "metadata": {
        "colab": {
          "base_uri": "https://localhost:8080/"
        },
        "id": "l-FTwfSzyVfP",
        "outputId": "9b4303f0-e52f-4440-e4cb-52f9c340303b"
      },
      "outputs": [
        {
          "name": "stdout",
          "output_type": "stream",
          "text": [
            "5\n",
            "3\n"
          ]
        },
        {
          "data": {
            "text/plain": [
              "(34, 16)"
            ]
          },
          "execution_count": 8,
          "metadata": {},
          "output_type": "execute_result"
        }
      ],
      "source": [
        "def sum_squares_abs_diff_squares(a:int,b:int)->tuple:\n",
        "  return (a**2 + b**2,abs(a**2-b**2))\n",
        "\n",
        "a= int(input())\n",
        "\n",
        "b= int(input())\n",
        "sum_squares_abs_diff_squares(a,b)"
      ]
    },
    {
      "cell_type": "code",
      "execution_count": null,
      "metadata": {
        "colab": {
          "base_uri": "https://localhost:8080/"
        },
        "id": "N06YeBNIzL9T",
        "outputId": "abb1487b-66dc-4c11-870a-b292afa9bd4f"
      },
      "outputs": [
        {
          "data": {
            "text/plain": [
              "True"
            ]
          },
          "execution_count": 16,
          "metadata": {},
          "output_type": "execute_result"
        }
      ],
      "source": [
        "def is_odd_length_palindrome(s:str)->bool:\n",
        "\n",
        "    return s==s[::-1] and len(s)%2!=0\n",
        "\n",
        "s='pop'\n",
        "is_odd_length_palindrome(s)"
      ]
    },
    {
      "cell_type": "code",
      "execution_count": null,
      "metadata": {
        "colab": {
          "base_uri": "https://localhost:8080/"
        },
        "id": "cWiDIkN21Ixc",
        "outputId": "af215cc6-ecfe-4f8f-f8eb-9a91c19f4d02"
      },
      "outputs": [
        {
          "data": {
            "text/plain": [
              "[1, 2, 5]"
            ]
          },
          "execution_count": 23,
          "metadata": {},
          "output_type": "execute_result"
        }
      ],
      "source": [
        "def remove_the_element_at_two_indices(l:list,i1:int,i2:int):\n",
        "  i1,i2 = sorted([i1,i2],reverse=True)\n",
        "  del l[i1]\n",
        "  del l[i2]\n",
        "  return l\n",
        "\n",
        "l=[1,2,3,4,5]\n",
        "i1=2\n",
        "i2=3\n",
        "remove_the_element_at_two_indices(l,i1,i2)"
      ]
    },
    {
      "cell_type": "code",
      "execution_count": null,
      "metadata": {
        "id": "SotYmN1T71uD"
      },
      "outputs": [],
      "source": [
        "def sum_of_squares_of_even(nums:list)->list:\n",
        "  return sum([num**2 for num in num if num%2==0])\n",
        "  return sum(map(lambda x: x**2, filter(lambda x: x%2==0,nums)))  # Functional\n",
        "\n"
      ]
    },
    {
      "cell_type": "code",
      "execution_count": null,
      "metadata": {
        "colab": {
          "base_uri": "https://localhost:8080/"
        },
        "id": "_ZgmWsQA8eV5",
        "outputId": "8e122ff0-b0bc-44e5-d742-d56e21ddae1b"
      },
      "outputs": [
        {
          "data": {
            "text/plain": [
              "20"
            ]
          },
          "execution_count": 27,
          "metadata": {},
          "output_type": "execute_result"
        }
      ],
      "source": [
        "def sum_of_squares_of_even(nums:list)->int:\n",
        "\n",
        "  sum=0\n",
        "  for num in nums:\n",
        "    if num%2==0:\n",
        "       sum=sum+(num**2)\n",
        "  return sum\n",
        "\n",
        "\n",
        "nums=[1,2,3,4,5]\n",
        "sum_of_squares_of_even(nums)"
      ]
    },
    {
      "cell_type": "code",
      "execution_count": null,
      "metadata": {
        "colab": {
          "base_uri": "https://localhost:8080/"
        },
        "id": "UcY8HONj9sH-",
        "outputId": "e9402dcd-a2ea-4a9c-cb73-b03a77315d49"
      },
      "outputs": [
        {
          "name": "stdout",
          "output_type": "stream",
          "text": [
            "2\n",
            "Hello World\n",
            "Python Programming\n",
            "hEllO wOrld\n",
            "pythOn prOgrAmmIng\n"
          ]
        }
      ],
      "source": [
        "def pass_type(s:str)->str:\n",
        "  vowels='aeiouAEIOU'\n",
        "  result=''.join(char.upper() if char in vowels else char.lower() for char in s)\n",
        "  return result\n",
        "\n",
        "n=int(input())\n",
        "lines=[input() for _ in range(n)]\n",
        "for line in lines:\n",
        "  print(pass_type(line))\n"
      ]
    },
    {
      "cell_type": "code",
      "execution_count": null,
      "metadata": {
        "colab": {
          "base_uri": "https://localhost:8080/"
        },
        "id": "TQPn24PD-SmA",
        "outputId": "41ea2597-6463-4d6e-a555-82de4e5a5f83"
      },
      "outputs": [
        {
          "name": "stdout",
          "output_type": "stream",
          "text": [
            "Hello World\n",
            "['Hello', 'World']\n",
            "Hello World\n"
          ]
        }
      ],
      "source": [
        "s= input()\n",
        "word=s.split(' ')\n",
        "\n",
        "lst=[]\n",
        "\n",
        "for i in word:\n",
        "  lst.append(i)\n",
        "print(lst)\n",
        "print(' '.join(lst))"
      ]
    },
    {
      "cell_type": "code",
      "execution_count": null,
      "metadata": {
        "colab": {
          "base_uri": "https://localhost:8080/"
        },
        "id": "LR3-ELh0qJ5z",
        "outputId": "0d675a27-d3c3-4a4f-a8a7-2ad38c9bff32"
      },
      "outputs": [
        {
          "name": "stdout",
          "output_type": "stream",
          "text": [
            "2\n",
            "Hello World\n",
            "Python Programming\n",
            "hEllO wOrld\n",
            "pythOn prOgrAmmIng\n"
          ]
        }
      ],
      "source": [
        "def pass_type(s:str):\n",
        "  vowel='aeiouAEIOU'\n",
        "  result= ''.join(char.upper() if char in vowel else char.lower() for char in s)\n",
        "  return result\n",
        "\n",
        "n=int(input())\n",
        "lines=[input() for _ in range(n)]\n",
        "for line in lines:\n",
        "  print(pass_type(line))"
      ]
    },
    {
      "cell_type": "code",
      "execution_count": null,
      "metadata": {
        "colab": {
          "base_uri": "https://localhost:8080/"
        },
        "id": "o_Ew9XeDUEXr",
        "outputId": "378a71e6-1f86-4f41-c8d9-1da074eacab4"
      },
      "outputs": [
        {
          "name": "stdout",
          "output_type": "stream",
          "text": [
            "2\n",
            "hello\n",
            "python pro\n",
            "['hello', 'python pro']\n",
            "('hello', 'python pro')\n",
            "hello python pro\n"
          ]
        }
      ],
      "source": [
        "n=int(input())\n",
        "lines=[input() for _ in range(n)]\n",
        "print(lines)\n",
        "print(tuple(lines))\n",
        "\n",
        "result=' '.join(lines)\n",
        "print(result)"
      ]
    },
    {
      "cell_type": "code",
      "execution_count": null,
      "metadata": {
        "id": "XADVaUOQXwd4"
      },
      "outputs": [],
      "source": [
        "\n"
      ]
    },
    {
      "cell_type": "code",
      "execution_count": null,
      "metadata": {
        "colab": {
          "base_uri": "https://localhost:8080/"
        },
        "id": "nDf-xyhxixzM",
        "outputId": "b8660853-942b-4541-b0d3-0c4b32d9bc75"
      },
      "outputs": [
        {
          "name": "stdout",
          "output_type": "stream",
          "text": [
            "5\n",
            "apple\n",
            "orange\n",
            "pineapple\n",
            "mango\n",
            "kiwi\n",
            "['apple', 'egnaro', 'pineapple', 'ognam', 'iwik']\n",
            "apple\n",
            "egnaro\n",
            "pineapple\n",
            "ognam\n",
            "iwik\n"
          ]
        }
      ],
      "source": [
        "n=int(input())\n",
        "lines=[input() for _ in range(n)]\n",
        "for i in range(len(lines)):\n",
        "  if i%2!=0 and n%2!=0:\n",
        "    lines[i]=lines[i][::-1]\n",
        "if n%2:\n",
        "  lines[-1]=lines[-1][::-1]\n",
        "\n",
        "print(lines)\n",
        "for row in lines:\n",
        "  print(row)"
      ]
    },
    {
      "cell_type": "code",
      "execution_count": null,
      "metadata": {
        "id": "pq10CfuxBU9o"
      },
      "outputs": [],
      "source": [
        "def get_filter(criteria):\n",
        "  if criteria=='continuous':\n",
        "    return lambda x: x[-3:].lower()=='ing'\n",
        "  if criteria=='vowel_rich':\n",
        "    return lambda x:len([c  for c in x.lower() if c in 'aeiou'])>5\n",
        "  if criteria=='consonant_rich':\n",
        "    return lambda x: len([c for c in x.lower() if c.isalpha() and c not in'aeiou'])>5\n",
        "\n",
        "  if criteria=='sorted':\n",
        "    return lambda x: \"\".join(sorted(x.lower()))==x.lower()\n",
        "\n",
        "\n",
        "def get_words_by_criteria(words,criteria=None):\n",
        "  filter_func=get_filter(criteria)\n",
        "  if filter_fun is not None:\n",
        "    return list(filter_func,words)"
      ]
    },
    {
      "cell_type": "code",
      "execution_count": null,
      "metadata": {
        "id": "HP_9YI_xY08l"
      },
      "outputs": [],
      "source": [
        "def get_filter(criteria):\n",
        "  if criteria==\"continous\":\n",
        "    return lambda x: x[-3:].lower()=='ing'\n",
        "  if criteria==\"vowel_rich\":\n",
        "    return lambda x: len([c for c in x.lower() if c in 'aeiou'])>5\n",
        "  if criteria==\"consonant_rich\":\n",
        "    return lambda x: len([c for c in x.lower() if c not in 'aeiou'])>5\n",
        "  if criteria==\"sorted\":\n",
        "    return lambda x :\"\".join(soterd(x.lower())==x.lower())\n",
        "\n",
        "\n",
        "words = [\"running\", \"aeiobcdioe\", \"acc\", \"xyz\", \"BOTbot\", \"BboOTt\", \"jumpiNg\", \"SPINNING\", \"alphabetical\"]\n",
        "def get_words_by_criteria(words,criteria=None):\n",
        "  filter_fun=get_filter(critria)\n",
        "  if filter_fun not in None:\n",
        "    return list(filter_fun,words)"
      ]
    },
    {
      "cell_type": "code",
      "execution_count": null,
      "metadata": {
        "colab": {
          "base_uri": "https://localhost:8080/"
        },
        "id": "Y1lqzHw2cIpC",
        "outputId": "e83979aa-7439-458c-adc3-51853aaae319"
      },
      "outputs": [
        {
          "name": "stdout",
          "output_type": "stream",
          "text": [
            "['101', '102', '103', '104', '105']\n"
          ]
        }
      ],
      "source": [
        "def get_filter(criteria,data):\n",
        "  if criteria is None:\n",
        "    return lambda x:True\n",
        "  if criteria==\"fail\":\n",
        "    return lambda x: x<40\n",
        "  if criteria==\"toppers\":\n",
        "    return lambda x: x>=90\n",
        "  for row in data:\n",
        "    marks=[row[1]]\n",
        "    avg=sum(marks)/len(marks)\n",
        "  if criteria==\"above_average\":\n",
        "    return lambda x: x>=avg\n",
        "  if criteria==\"below_average\":\n",
        "    return lambda x: x<average\n",
        "\n",
        "def get_roll_nos(data:list,criteria=None):\n",
        "  filter_fun=get_filter(criteria,data)\n",
        "  if filter_fun is not None:\n",
        "    return [rollno for rollno,marks in data if filter_fun(marks)]\n",
        "\n",
        "\n",
        "\n",
        "\n",
        "\n",
        "data = [(\"101\", 85), (\"102\", 75), (\"103\", 45), (\"104\", 95), (\"105\", 35)]\n",
        "print(get_roll_nos(data,'above_average'))"
      ]
    },
    {
      "cell_type": "code",
      "execution_count": null,
      "metadata": {
        "colab": {
          "base_uri": "https://localhost:8080/"
        },
        "id": "QDUkGom-lGtl",
        "outputId": "6363a5d5-6316-42e9-c6a8-13d6684d9217"
      },
      "outputs": [
        {
          "name": "stdout",
          "output_type": "stream",
          "text": [
            "5\n",
            "\\       /\n",
            " \\     /\n",
            "  \\   /\n",
            "   \\ /\n",
            "    v\n"
          ]
        }
      ],
      "source": [
        "n=int(input())\n",
        "for i in range(n-1):\n",
        "  print(f\"{' '*i}\\\\{' '*(2*(n-i)-3)}/\")\n",
        "\n",
        "print(' '*(n-1)+'v')"
      ]
    },
    {
      "cell_type": "code",
      "execution_count": null,
      "metadata": {
        "colab": {
          "base_uri": "https://localhost:8080/"
        },
        "id": "ej68P5bYnc0s",
        "outputId": "3ea08a4a-6b56-43ab-e46d-17b69a65885c"
      },
      "outputs": [
        {
          "name": "stdout",
          "output_type": "stream",
          "text": [
            "2\n",
            "\\ /\n",
            " v\n"
          ]
        }
      ],
      "source": [
        "\n",
        "n = int(input())\n",
        "for i in range(n-1):\n",
        "    print(f\"{' '*i}\\\\{' '*(2*(n-i)-3)}/\")\n",
        "print(' '*(n-1)+'v')\n"
      ]
    },
    {
      "cell_type": "code",
      "execution_count": null,
      "metadata": {
        "colab": {
          "base_uri": "https://localhost:8080/"
        },
        "id": "20cM7wHA7OBW",
        "outputId": "71c61e14-20de-46c2-beab-56e00ad546bb"
      },
      "outputs": [
        {
          "name": "stdout",
          "output_type": "stream",
          "text": [
            "8\n",
            "\\             /\n",
            " \\           /\n",
            "  \\         /\n",
            "   \\       /\n",
            "    \\     /\n",
            "     \\   /\n",
            "      \\ /\n",
            "       v\n"
          ]
        }
      ],
      "source": [
        "n=int(input())\n",
        "for i in range(n-1):\n",
        "  print(f\"{' '*i}\\\\{' '*(2*(n-i)-3)}/\")\n",
        "print(' '*(n-1) + 'v')"
      ]
    },
    {
      "cell_type": "code",
      "execution_count": null,
      "metadata": {
        "colab": {
          "base_uri": "https://localhost:8080/"
        },
        "id": "x_REBlcU8hDs",
        "outputId": "66e884b0-6ce5-4594-9dc3-505ef04729dd"
      },
      "outputs": [
        {
          "name": "stdout",
          "output_type": "stream",
          "text": [
            "5\n",
            "\\         /\n",
            " \\       /\n",
            "  \\     /\n",
            "   \\   /\n",
            "    \\ /\n",
            "     x\n",
            "    / \\\n",
            "   /   \\\n",
            "  /     \\\n",
            " /       \\\n",
            "/         \\\n"
          ]
        }
      ],
      "source": [
        "n=int(input())\n",
        "for i in range(n):\n",
        "  print(f\"{' '*(i)}\\\\{' '*(2*(n-i)-1)}/\")\n",
        "print(' '*(n)+'x')\n",
        "for i in range(n-1,-1,-1):\n",
        "  print(f\"{' '*(i)}/{' '*(2*(n-i)-1)}\\\\\")"
      ]
    },
    {
      "cell_type": "code",
      "execution_count": null,
      "metadata": {
        "colab": {
          "base_uri": "https://localhost:8080/"
        },
        "id": "h-qOHOgf_mVd",
        "outputId": "0c10ca60-8b5a-40e6-91f8-0da4ecfad1fe"
      },
      "outputs": [
        {
          "name": "stdout",
          "output_type": "stream",
          "text": [
            "5\n"
          ]
        },
        {
          "data": {
            "text/plain": [
              "True"
            ]
          },
          "execution_count": 34,
          "metadata": {},
          "output_type": "execute_result"
        }
      ],
      "source": [
        "def is_positive_odd_or_negative_even(n:int)->bool:\n",
        "  return ((n%2!=0 and n>0) or (n%2==0 and n<0))\n",
        "n= int(input())\n",
        "is_positive_odd_or_negative_even(n)"
      ]
    },
    {
      "cell_type": "code",
      "execution_count": null,
      "metadata": {
        "colab": {
          "base_uri": "https://localhost:8080/"
        },
        "id": "lH1N1WpyGbO6",
        "outputId": "14a65347-85d3-475d-b69a-62059d645fd6"
      },
      "outputs": [
        {
          "data": {
            "text/plain": [
              "False"
            ]
          },
          "execution_count": 39,
          "metadata": {},
          "output_type": "execute_result"
        }
      ],
      "source": [
        "def within_and_has_double_quotes(s:str)->bool:\n",
        "  return s[0]==s[-1]=='\"' and '\"' in s[1:-1]\n",
        "s=\"abcd\\\"efgh\"\n",
        "within_and_has_double_quotes(s)"
      ]
    },
    {
      "cell_type": "code",
      "execution_count": null,
      "metadata": {
        "colab": {
          "base_uri": "https://localhost:8080/"
        },
        "id": "A06ayMolIhKC",
        "outputId": "5f45d674-f670-415b-9276-c372c405993b"
      },
      "outputs": [
        {
          "name": "stdout",
          "output_type": "stream",
          "text": [
            "5\n"
          ]
        },
        {
          "data": {
            "text/plain": [
              "(1, 2, 3, 3, 3, 3, 3, 4, 5)"
            ]
          },
          "execution_count": 42,
          "metadata": {},
          "output_type": "execute_result"
        }
      ],
      "source": [
        "def replace_middle_with_n_times_middle(t:tuple,n:int)->tuple:\n",
        "  m=len(t)//2\n",
        "  result= t[:m]+(t[m],)*n+t[m+1:]\n",
        "  return result\n",
        "\n",
        "t=(1, 2, 3, 4, 5)\n",
        "n=int(input())\n",
        "replace_middle_with_n_times_middle(t,n)"
      ]
    },
    {
      "cell_type": "code",
      "execution_count": null,
      "metadata": {
        "colab": {
          "base_uri": "https://localhost:8080/"
        },
        "id": "q9cL0--dJ0CX",
        "outputId": "eb7ad885-f4f3-446b-9e89-0bf6c83cd56f"
      },
      "outputs": [
        {
          "name": "stdout",
          "output_type": "stream",
          "text": [
            "3\n",
            "1,2\n",
            "3\n",
            "3,4\n",
            "1\n",
            "4,5\n",
            "9\n"
          ]
        }
      ],
      "source": [
        "n=int(input())\n",
        "for i in range(n):\n",
        "  a,b=map(int,input().split(','))\n",
        "  if i%2==0:\n",
        "    print(a+b)\n",
        "  else:\n",
        "    print(abs(a-b))\n"
      ]
    },
    {
      "cell_type": "code",
      "execution_count": null,
      "metadata": {
        "colab": {
          "base_uri": "https://localhost:8080/"
        },
        "id": "TBb18vveLNW1",
        "outputId": "8ab4cc64-18ce-4cbf-b6bf-0f7264f453de"
      },
      "outputs": [
        {
          "name": "stdout",
          "output_type": "stream",
          "text": [
            "3\n",
            "1,2\n",
            "3\n",
            "3,4\n",
            "1\n",
            "5,6\n",
            "11\n"
          ]
        }
      ],
      "source": [
        "n=int(input())\n",
        "for i in range(n):\n",
        "  result=input().split(',')\n",
        "  a,b=result[0],result[1]\n",
        "  if i %2==0:\n",
        "    print(int(a)+int(b))\n",
        "  else:\n",
        "    print(abs(int(a)-int(b)))\n"
      ]
    },
    {
      "cell_type": "code",
      "execution_count": null,
      "metadata": {
        "colab": {
          "base_uri": "https://localhost:8080/"
        },
        "id": "fI5BLdZ8NFSQ",
        "outputId": "5ba40157-8740-4a78-82aa-9115fd4b3de6"
      },
      "outputs": [
        {
          "data": {
            "text/plain": [
              "[1, 4, 7, 8, 9]"
            ]
          },
          "execution_count": 67,
          "metadata": {},
          "output_type": "execute_result"
        }
      ],
      "source": [
        "#Matrix Walk\n",
        "def walk_L(M):\n",
        "  path=[]\n",
        "  m=len(M)\n",
        "  for i in range(m):\n",
        "    path.append(M[i][0])\n",
        "  for i in range(1,m):\n",
        "    path.append(M[m-1][i])\n",
        "  return  path\n",
        "\n",
        "M = [[1, 2, 3],[4, 5, 6],[7, 8, 9]]\n",
        "walk_L(M)"
      ]
    },
    {
      "cell_type": "code",
      "execution_count": null,
      "metadata": {
        "id": "W-ZxokYnTVlH"
      },
      "outputs": [],
      "source": []
    },
    {
      "cell_type": "code",
      "execution_count": null,
      "metadata": {
        "colab": {
          "base_uri": "https://localhost:8080/"
        },
        "id": "O17dmU3vR6ED",
        "outputId": "b5a33d96-e8e5-4a7d-8749-fcc9af773924"
      },
      "outputs": [
        {
          "data": {
            "text/plain": [
              "[1, 2, 3, 5, 7, 8, 9]"
            ]
          },
          "execution_count": 35,
          "metadata": {},
          "output_type": "execute_result"
        }
      ],
      "source": [
        "from re import M\n",
        "def walk_Z(M):\n",
        "  path=[]\n",
        "  m=len(M)\n",
        "  for i in range(m):\n",
        "    path.append(M[0][i])\n",
        "  for i in range(1,m):\n",
        "    path.append(M[i][m-i-1])\n",
        "  for i in range(m):\n",
        "    path.append(M[m-1][i])\n",
        "  return path\n",
        "M = [[1, 2, 3],[4, 5, 6],[7, 8, 9]]\n",
        "walk_M(M)"
      ]
    },
    {
      "cell_type": "code",
      "execution_count": null,
      "metadata": {
        "id": "d7bOw5nozVHh"
      },
      "outputs": [],
      "source": []
    },
    {
      "cell_type": "code",
      "execution_count": null,
      "metadata": {
        "colab": {
          "base_uri": "https://localhost:8080/"
        },
        "id": "n_50WwIeT7fE",
        "outputId": "3a6f9f8f-9344-4a7c-c1ad-73ad2fd79457"
      },
      "outputs": [
        {
          "name": "stdout",
          "output_type": "stream",
          "text": [
            "[1, 2, 3, 4, 6, 7, 8, 9]\n"
          ]
        }
      ],
      "source": [
        "def walk_O(M):\n",
        "  path=[]\n",
        "  m=len(M)\n",
        "  for i in range(m):\n",
        "    path.append(M[0][i])\n",
        "  for i in range(0,m,2):\n",
        "    path.append(M[1][i])\n",
        "  for i in range(m):\n",
        "    path.append(M[2][i])\n",
        "  print(path)\n",
        "M = [[1, 2, 3],[4, 5, 6],[7, 8, 9]]\n",
        "walk_O(M)"
      ]
    },
    {
      "cell_type": "code",
      "execution_count": null,
      "metadata": {
        "colab": {
          "base_uri": "https://localhost:8080/"
        },
        "id": "k1Jq3Kt35AYD",
        "outputId": "2170cde6-9718-4c98-ac51-8873b7b8e710"
      },
      "outputs": [
        {
          "name": "stdout",
          "output_type": "stream",
          "text": [
            "[1, 2, 3, 6, 9, 8, 7, 4]\n"
          ]
        }
      ],
      "source": [
        "def walk_O(M):\n",
        "  path=[]\n",
        "  m=len(M)\n",
        "  for i in range(m):\n",
        "    path.append(M[0][i])\n",
        "  for i in range(1,m):\n",
        "    path.append(M[i][m-1])\n",
        "  for i in range(m-2,-1,-1):\n",
        "    path.append(M[m-1][i])\n",
        "  for i in range(m-2,0,-1):\n",
        "    path.append(M[i][0])\n",
        "  print(path)\n",
        "M = [[1, 2, 3],[4, 5, 6],[7, 8, 9]]\n",
        "walk_O(M)"
      ]
    },
    {
      "cell_type": "code",
      "execution_count": null,
      "metadata": {
        "colab": {
          "base_uri": "https://localhost:8080/"
        },
        "id": "tRAKiquH7RwM",
        "outputId": "7d266a95-f118-4e78-c8d0-156c6f76b189"
      },
      "outputs": [
        {
          "name": "stdout",
          "output_type": "stream",
          "text": [
            "1\n",
            "[4]\n"
          ]
        }
      ],
      "source": [
        "M = [[1, 2, 3],[4, 5, 6],[7, 8, 9]]\n",
        "path=[]\n",
        "m=len(M)\n",
        "for i in range(m-2,0,-1):\n",
        "\n",
        "  path.append(M[i][0])\n",
        "print(path)"
      ]
    },
    {
      "cell_type": "code",
      "execution_count": 6,
      "metadata": {
        "colab": {
          "base_uri": "https://localhost:8080/"
        },
        "id": "XOdVlgnp9Ugq",
        "outputId": "16564928-0285-40c3-8b79-77806d4d0ee9"
      },
      "outputs": [
        {
          "output_type": "stream",
          "name": "stdout",
          "text": [
            "[1, 2, 3, 6, 9, 8, 7, 4]\n",
            "None\n"
          ]
        }
      ],
      "source": [
        "#Matrix Walk\n",
        "def walk_L(M):\n",
        "  path=[]\n",
        "  m=len(M)\n",
        "  for i in range(m):\n",
        "    path.append(M[i][0])\n",
        "  for i in range(1,m):\n",
        "    path.append(M[m-1][i])\n",
        "  return  path\n",
        "\n",
        "def walk_Z(M):\n",
        "  path=[]\n",
        "  m=len(M)\n",
        "  for i in range(m):\n",
        "    path.append(M[0][i])\n",
        "  for i in range(1,m):\n",
        "    path.append(M[i][m-i-1])\n",
        "  for i in range(1,m):\n",
        "    path.append(M[m-1][i])\n",
        "  return path\n",
        "\n",
        "def walk_O(M):\n",
        "  path=[]\n",
        "  m=len(M)\n",
        "  for i in range(m):\n",
        "    path.append(M[0][i])\n",
        "  for i in range(1,m):\n",
        "    path.append(M[i][m-1])\n",
        "  for i in range(m-2,-1,-1):\n",
        "    path.append(M[m-1][i])\n",
        "  for i in range(m-2,0,-1):\n",
        "    path.append(M[i][0])\n",
        "  print(path)\n",
        "\n",
        "\n",
        "\n",
        "\n",
        "def walk_matrix(M,shape):\n",
        "  if shape=='L':\n",
        "    return walk_L(M)\n",
        "  elif shape=='Z':\n",
        "    return walk_Z(M)\n",
        "  elif shape=='O':\n",
        "    return walk_O(M)\n",
        "  else:\n",
        "    return None\n",
        "\n",
        "M = [[1, 2, 3],[4, 5, 6],[7, 8, 9]]\n",
        "print(walk_O(M))\n"
      ]
    },
    {
      "cell_type": "code",
      "execution_count": null,
      "metadata": {
        "colab": {
          "base_uri": "https://localhost:8080/"
        },
        "id": "RoCN_yWRAye9",
        "outputId": "81938850-95a2-46f9-c03c-39861c060a59"
      },
      "outputs": [
        {
          "name": "stdout",
          "output_type": "stream",
          "text": [
            "sum_until_0\n",
            "10\n",
            "20\n",
            "30\n",
            "40\n",
            "0\n",
            "100\n"
          ]
        }
      ],
      "source": [
        "# We  have to use only and for the while loop\n",
        "task =input()\n",
        "if task == \"sum_until_0\":\n",
        "  total=0\n",
        "  n=int(input())\n",
        "  while n!=0:\n",
        "    total+=n\n",
        "    n=int(input())\n",
        "  print(total)\n",
        "\n",
        "\n"
      ]
    },
    {
      "cell_type": "code",
      "execution_count": null,
      "metadata": {
        "id": "SfeWn3H-PDhn"
      },
      "outputs": [],
      "source": [
        "task = input()\n",
        "# <eoi>\n",
        "\n",
        "if task == \"sum_until_0\":\n",
        "    total = 0\n",
        "    n = int(input())\n",
        "    while n != 0: # the terminal condition\n",
        "        total += n # add n to the total\n",
        "        n = int(input()) # take the next n form the input\n",
        "    print(total)\n",
        "\n",
        "elif task == \"total_price\":\n",
        "    total_price = 0\n",
        "    while True: # repeat forever since we are breaking inside\n",
        "        line = input()\n",
        "        if line == \"END\": # The terminal condition\n",
        "            break\n",
        "        quantity, price = line.split() # split uses space by default\n",
        "        quantity, price = int(quantity), int(price) # convert to ints\n",
        "        total_price += quantity * price # accumulate the total price\n",
        "    print(total_price)\n",
        "elif task == \"only_ed_or_ing\":\n",
        "\n",
        "    word = input()\n",
        "    while word.lower() != \"stop\":\n",
        "        if word.lower().endswith(\"ed\") or word.lower()[-3:]==\"ing\": # both ways of doing it\n",
        "            print(word)\n",
        "        word = input()\n",
        "\n",
        "elif task == \"reverse_sum_palindrome\":\n",
        "\n",
        "    num = int(input())\n",
        "    while num !=-1:\n",
        "        rev_num = int(str(num)[::-1])\n",
        "        num_sum = num+rev_num\n",
        "        if str(num_sum) == str(num_sum)[::-1]:\n",
        "            print(num)\n",
        "        num = int(input())\n",
        "\n",
        "elif task == \"double_string\":\n",
        "\n",
        "    line = input()\n",
        "    while line != \"\":\n",
        "        print(line*2)\n",
        "        line = input()\n",
        "\n",
        "elif task == \"odd_char\":\n",
        "\n",
        "\n",
        "    line = input()\n",
        "    while line[-1] != \".\":\n",
        "        print(line[::2],end=\" \")\n",
        "        line = input()\n",
        "    print(line[::2])\n",
        "\n",
        "elif task == \"only_even_squares\":\n",
        "\n",
        "\n",
        "    while True:\n",
        "        line = input()\n",
        "        if line == \"NAN\":\n",
        "            break\n",
        "        num = int(line)\n",
        "        if num % 2 == 0:\n",
        "            print(num * num)\n",
        "\n",
        "elif task == \"only_odd_lines\":\n",
        "\n",
        "    result  = \"\"\n",
        "    line_no = 1\n",
        "    while True:\n",
        "        line = input()\n",
        "        if line == \"END\":\n",
        "            break\n",
        "        if line_no%2:\n",
        "            result = line + \" \" + result\n",
        "        line_no+=1\n",
        "    print(result)\n"
      ]
    },
    {
      "cell_type": "code",
      "execution_count": null,
      "metadata": {
        "colab": {
          "base_uri": "https://localhost:8080/"
        },
        "id": "YWYNjKidPwCn",
        "outputId": "1130ba53-2a6a-4f4d-f828-b2766ac6fc26"
      },
      "outputs": [
        {
          "name": "stdout",
          "output_type": "stream",
          "text": [
            "factorial\n",
            "5\n",
            "1\n",
            "2\n",
            "3\n",
            "4\n",
            "5\n",
            "120\n"
          ]
        }
      ],
      "source": [
        "task=input()\n",
        "if task=='factorial':\n",
        "  n=int(input())\n",
        "  result=1\n",
        "  for i in range(1,n+1):\n",
        "    print(i)\n",
        "    result*=i\n",
        "  print(result)\n",
        "\n",
        "\n",
        "\n"
      ]
    },
    {
      "cell_type": "code",
      "execution_count": null,
      "metadata": {
        "colab": {
          "base_uri": "https://localhost:8080/"
        },
        "id": "qrFJVtHVUx8m",
        "outputId": "e0d2db62-1c4b-436d-c568-fee39fd4745d"
      },
      "outputs": [
        {
          "name": "stdout",
          "output_type": "stream",
          "text": [
            "even_numbers\n",
            "20\n",
            "0\n",
            "2\n",
            "4\n",
            "6\n",
            "8\n",
            "10\n",
            "12\n",
            "14\n",
            "16\n",
            "18\n",
            "20\n"
          ]
        }
      ],
      "source": [
        "task=input()\n",
        "if task==\"even_numbers\":\n",
        "  n= int(input())\n",
        "  for i in range(0,n+1,2):\n",
        "    print(i)\n"
      ]
    },
    {
      "cell_type": "code",
      "execution_count": null,
      "metadata": {
        "colab": {
          "base_uri": "https://localhost:8080/"
        },
        "id": "39bDbH8TVIJI",
        "outputId": "ea4534af-3e44-4586-8fab-16971ce70117"
      },
      "outputs": [
        {
          "name": "stdout",
          "output_type": "stream",
          "text": [
            "power_sequence\n",
            "3\n",
            "1\n",
            "2\n",
            "4\n"
          ]
        }
      ],
      "source": [
        "task=input()\n",
        "if task==\"power_sequence\":\n",
        "  n=int(input())\n",
        "  result=1\n",
        "  for i in range(n):\n",
        "    print(result)\n",
        "    result*=2"
      ]
    },
    {
      "cell_type": "code",
      "execution_count": null,
      "metadata": {
        "colab": {
          "base_uri": "https://localhost:8080/"
        },
        "id": "9PPyM-bhW-_z",
        "outputId": "c7f171b1-cd43-4528-85aa-4d44adda7da8"
      },
      "outputs": [
        {
          "name": "stdout",
          "output_type": "stream",
          "text": [
            "sum_not_divisible\n",
            "20\n",
            "120\n"
          ]
        }
      ],
      "source": [
        "task=input()\n",
        "if task==\"sum_not_divisible\":\n",
        "  n=int(input())\n",
        "  total=0\n",
        "  for i in range(1,n):\n",
        "    if i%4!=0 and i%5!=0:\n",
        "      total+=i\n",
        "  print(total)"
      ]
    },
    {
      "cell_type": "code",
      "execution_count": null,
      "metadata": {
        "colab": {
          "base_uri": "https://localhost:8080/"
        },
        "id": "5DIoO-hyYB9w",
        "outputId": "155d8431-b6ce-4390-d7c0-46be7955ff6d"
      },
      "outputs": [
        {
          "name": "stdout",
          "output_type": "stream",
          "text": [
            "From_k\n",
            "3\n",
            "99\n",
            "78\n",
            "38\n",
            "18\n"
          ]
        }
      ],
      "source": [
        "task=input()\n",
        "if task==\"From_k\":\n",
        "  n=int(input())\n",
        "  k=int(input())\n",
        "  count=0\n",
        "  for i in range(k,0,-1):\n",
        "    i_str=str(i)\n",
        "    if \"5\" not in i_str and \"9\" not in i_str and  i%2!=0:\n",
        "      print(i_str[::-1])\n",
        "      count+=1\n",
        "      if count==n:\n",
        "        break\n",
        "\n",
        "\n",
        "\n",
        "\n",
        "\n"
      ]
    },
    {
      "cell_type": "code",
      "execution_count": null,
      "metadata": {
        "colab": {
          "base_uri": "https://localhost:8080/"
        },
        "id": "sqLzIiH1w8Ro",
        "outputId": "5087e1a4-7086-44d7-b554-d24192c04cac"
      },
      "outputs": [
        {
          "name": "stdout",
          "output_type": "stream",
          "text": [
            "Analtics\n",
            "8\n",
            "24\n",
            "24\n",
            "26\n",
            "28\n",
            "30\n",
            "32\n",
            "34\n",
            "36\n",
            "38\n"
          ]
        }
      ],
      "source": [
        "task=input()\n",
        "if task==\"Analtics\":\n",
        "  n=int(input())\n",
        "  k=int(input())\n",
        "  count=0\n",
        "  for i in range(k,100):\n",
        "    if i %2==0:\n",
        "      print(i)\n",
        "      count+=1\n",
        "      if count==n:\n",
        "        break"
      ]
    },
    {
      "cell_type": "code",
      "execution_count": null,
      "metadata": {
        "colab": {
          "base_uri": "https://localhost:8080/"
        },
        "id": "mEoLq0TI0ctd",
        "outputId": "77b20bf7-5e8f-444e-9e2a-e34b6a15788a"
      },
      "outputs": [
        {
          "name": "stdout",
          "output_type": "stream",
          "text": [
            "string_iter\n",
            "1234\n",
            "1\n",
            "2\n",
            "6\n",
            "12\n"
          ]
        }
      ],
      "source": [
        "task=input()\n",
        "if task==\"string_iter\":\n",
        "  s= input()\n",
        "  prev=1\n",
        "  for char in s:\n",
        "    num=int(char)\n",
        "    print(num*prev)\n",
        "    prev=num\n",
        "\n"
      ]
    },
    {
      "cell_type": "code",
      "execution_count": null,
      "metadata": {
        "id": "TXRCQ20b3DOx"
      },
      "outputs": [],
      "source": [
        "task=input()\n",
        "if task==\"list_iter\":\n"
      ]
    },
    {
      "cell_type": "code",
      "execution_count": null,
      "metadata": {
        "colab": {
          "base_uri": "https://localhost:8080/"
        },
        "id": "K5QXQa_i21Gv",
        "outputId": "261eb998-b12b-42ec-af7a-91422fdc1c57"
      },
      "outputs": [
        {
          "name": "stdout",
          "output_type": "stream",
          "text": [
            "1,'a',[1,2]\n",
            "(1, 'a', [1, 2])\n",
            "1-type:<class 'int'>\n",
            "a-type:<class 'str'>\n",
            "[1, 2]-type:<class 'list'>\n"
          ]
        }
      ],
      "source": [
        "lst=eval(input())\n",
        "print(lst)\n",
        "for elem in lst:\n",
        "  print(f\"{elem}-type:{type(elem)}\")\n"
      ]
    },
    {
      "cell_type": "code",
      "execution_count": null,
      "metadata": {
        "colab": {
          "base_uri": "https://localhost:8080/"
        },
        "id": "NCemWYwD5LOC",
        "outputId": "a686e209-a2d0-4c44-f414-bc1508470585"
      },
      "outputs": [
        {
          "name": "stdout",
          "output_type": "stream",
          "text": [
            "permutation\n",
            "rit\n",
            "ri\n",
            "rt\n",
            "ir\n",
            "it\n",
            "tr\n",
            "ti\n"
          ]
        }
      ],
      "source": [
        "task=input()\n",
        "if task==\"permutation\":\n",
        "  s=input()\n",
        "  for i in range(len(s)):\n",
        "    for j in range(len(s)):\n",
        "      if i!=j:\n",
        "        print(s[i]+s[j])"
      ]
    },
    {
      "cell_type": "code",
      "execution_count": null,
      "metadata": {
        "colab": {
          "base_uri": "https://localhost:8080/"
        },
        "id": "-LDfES-K7u9U",
        "outputId": "6b4bc170-4eaa-4e21-b18e-ba13be55e846"
      },
      "outputs": [
        {
          "name": "stdout",
          "output_type": "stream",
          "text": [
            "permutation\n",
            "ritesh\n",
            "rt\n",
            "rs\n",
            "ir\n",
            "it\n",
            "is\n",
            "er\n",
            "ei\n",
            "et\n",
            "es\n",
            "eh\n",
            "st\n",
            "hr\n",
            "hi\n",
            "ht\n",
            "hs\n"
          ]
        }
      ],
      "source": [
        "task=input()\n",
        "if task==\"permutation\":\n",
        "  s=input()\n",
        "  for i in range(len(s)):\n",
        "    for j in range(len(s)):\n",
        "      if i!=j and s[i]<s[j]:\n",
        "        print(s[i]+s[j])"
      ]
    },
    {
      "cell_type": "code",
      "execution_count": null,
      "metadata": {
        "colab": {
          "base_uri": "https://localhost:8080/"
        },
        "id": "nFTblgsG9Vnn",
        "outputId": "94812725-4413-42b2-8beb-326e6f82b26a"
      },
      "outputs": [
        {
          "name": "stdout",
          "output_type": "stream",
          "text": [
            "repeat_the_repeat\n",
            "5\n",
            "1 2 3 4 5 \n",
            "1 2 3 4 5 \n",
            "1 2 3 4 5 \n",
            "1 2 3 4 5 \n",
            "1 2 3 4 5 \n"
          ]
        }
      ],
      "source": [
        "task=input()\n",
        "if task==\"repeat_the_repeat\":\n",
        "  n=int(input())\n",
        "  for _ in range(n):\n",
        "    for i in range(1,n+1):\n",
        "      print(i,end=' ')\n",
        "    print()"
      ]
    },
    {
      "cell_type": "code",
      "execution_count": null,
      "metadata": {
        "colab": {
          "base_uri": "https://localhost:8080/"
        },
        "id": "NyqdcxxoCZhD",
        "outputId": "85a19f6f-5015-4176-a5b5-34decd1dba92"
      },
      "outputs": [
        {
          "name": "stdout",
          "output_type": "stream",
          "text": [
            "increment\n",
            "5\n",
            "0\n",
            "01\n",
            "012\n",
            "0123\n",
            "01234\n",
            "012345\n"
          ]
        }
      ],
      "source": [
        "task=input()\n",
        "if task==\"increment\":\n",
        "  n=int(input())\n",
        "  for i in range(0,n+1):\n",
        "    for j in range(0,i+1):\n",
        "      print(j,end='')\n",
        "    print()"
      ]
    },
    {
      "cell_type": "code",
      "execution_count": null,
      "metadata": {
        "colab": {
          "base_uri": "https://localhost:8080/"
        },
        "id": "ntrVAgiUY2pq",
        "outputId": "f0051bdd-63ae-4a16-9573-3979cc6a99c8"
      },
      "outputs": [
        {
          "name": "stdout",
          "output_type": "stream",
          "text": [
            "increment\n",
            "5\n",
            "1\n",
            "121\n",
            "12321\n",
            "1234321\n",
            "123454321\n"
          ]
        }
      ],
      "source": [
        "task=input()\n",
        "if task==\"increment\":\n",
        "  n=int(input())\n",
        "  for i in range(1,n+1):\n",
        "    for j in range(1,i+1):\n",
        "      print(j,end='')\n",
        "    for j in range(i-1,0,-1):\n",
        "      print(j,end=\"\")\n",
        "    print()"
      ]
    },
    {
      "cell_type": "code",
      "execution_count": null,
      "metadata": {
        "colab": {
          "base_uri": "https://localhost:8080/"
        },
        "id": "4TAWDbwDdT0d",
        "outputId": "493771ee-d870-427c-a092-44e092813c6e"
      },
      "outputs": [
        {
          "name": "stdout",
          "output_type": "stream",
          "text": [
            "factors\n",
            "25\n",
            "1\n",
            "5\n",
            "25\n"
          ]
        }
      ],
      "source": [
        "#applications of loop\n",
        "task=input()\n",
        "if task==\"factors\":\n",
        "  n=int(input())\n",
        "  for i in range(1,n+1):\n",
        "    if n%i==0:\n",
        "      print(i)"
      ]
    },
    {
      "cell_type": "code",
      "execution_count": null,
      "metadata": {
        "colab": {
          "base_uri": "https://localhost:8080/"
        },
        "id": "HiO4Sq7gg7Zg",
        "outputId": "b2259e3d-7307-4292-ff18-07064819c9cf"
      },
      "outputs": [
        {
          "name": "stdout",
          "output_type": "stream",
          "text": [
            "find_min\n",
            "5\n",
            "10\n",
            "20\n",
            "8\n",
            "12\n",
            "15\n",
            "8\n"
          ]
        }
      ],
      "source": [
        "task=input()\n",
        "if task==\"find_min\":\n",
        "  n=int(input())\n",
        "  minimum=int(input())\n",
        "  for i in range(n-1):\n",
        "    current=int(input())\n",
        "    if current<minimum:\n",
        "      minimum=current\n",
        "  print(minimum)"
      ]
    },
    {
      "cell_type": "code",
      "execution_count": null,
      "metadata": {
        "colab": {
          "base_uri": "https://localhost:8080/"
        },
        "id": "eLgqoUmxjP_e",
        "outputId": "67552e47-ca4a-45c9-8944-184ce94d2c49"
      },
      "outputs": [
        {
          "name": "stdout",
          "output_type": "stream",
          "text": [
            "prime_check\n",
            "7\n",
            "False\n"
          ]
        }
      ],
      "source": [
        "# @title Default title text\n",
        "task=input()\n",
        "if task==\"prime_check\":\n",
        "  n=int(input())\n",
        "  if n<=1:\n",
        "    print(False)\n",
        "  else:\n",
        "\n",
        "    flag=True\n",
        "    for i in range(1,int(n**0.5)+1):\n",
        "\n",
        "      if n%i==0:\n",
        "        flag=False\n",
        "        print(False)\n",
        "        break\n",
        "      if flag:\n",
        "        print(True)"
      ]
    },
    {
      "cell_type": "code",
      "execution_count": null,
      "metadata": {
        "colab": {
          "base_uri": "https://localhost:8080/"
        },
        "id": "K1HdPmTrp5zm",
        "outputId": "aba7789b-5f43-4461-cf9a-5d95b3805a43"
      },
      "outputs": [
        {
          "name": "stdout",
          "output_type": "stream",
          "text": [
            "prime_check\n",
            "89\n",
            "False\n"
          ]
        }
      ],
      "source": [
        "task=input()\n",
        "if task==\"prime_check\":\n",
        "  n=int(input())\n",
        "  if n<=1:\n",
        "    print(False)\n",
        "\n",
        "  else:\n",
        "    flag=True\n",
        "    for i in range(1,int(n**0.5)+1):\n",
        "      if n%i==0:\n",
        "        flag=False\n",
        "        print(False)\n",
        "        break\n",
        "    if flag:\n",
        "      print(True)\n",
        "\n"
      ]
    },
    {
      "cell_type": "code",
      "execution_count": null,
      "metadata": {
        "colab": {
          "base_uri": "https://localhost:8080/"
        },
        "id": "eAx80kuQtg_-",
        "outputId": "745c63bc-08b9-4c59-face-920da677d1af"
      },
      "outputs": [
        {
          "name": "stdout",
          "output_type": "stream",
          "text": [
            "is_sorted\n",
            "abcdef\n",
            "True\n"
          ]
        }
      ],
      "source": [
        "task=input()\n",
        "if task==\"is_sorted\":\n",
        "  s=input()\n",
        "  for i in range(len(s)-1):\n",
        "    if s[i]>s[i+1]:\n",
        "      print(False)\n",
        "      break\n",
        "  else:\n",
        "    print(True)\n"
      ]
    },
    {
      "cell_type": "code",
      "execution_count": null,
      "metadata": {
        "colab": {
          "base_uri": "https://localhost:8080/"
        },
        "id": "0UzyjXaPwMv8",
        "outputId": "ee29b9ec-3cec-497a-cb37-76a097efb315"
      },
      "outputs": [
        {
          "name": "stdout",
          "output_type": "stream",
          "text": [
            "anytrue\n",
            "2\n",
            "44\n",
            "12\n",
            "True\n"
          ]
        }
      ],
      "source": [
        "task=input()\n",
        "if task==\"anytrue\":\n",
        "  n=int(input())\n",
        "  for _ in range(n):\n",
        "    num=int(input())\n",
        "    if num%3==0:\n",
        "\n",
        "      print(True)\n",
        "      break\n",
        "  else:\n",
        "    print(False)"
      ]
    },
    {
      "cell_type": "code",
      "execution_count": null,
      "metadata": {
        "colab": {
          "base_uri": "https://localhost:8080/"
        },
        "id": "d1q0kPxGw3Ay",
        "outputId": "8267e74b-e4a3-4638-abfb-d6c373625437"
      },
      "outputs": [
        {
          "name": "stdout",
          "output_type": "stream",
          "text": [
            "mahattan\n",
            "down\n",
            "left\n",
            "right\n",
            "right\n",
            "stop\n",
            "2\n"
          ]
        }
      ],
      "source": [
        "task=input()\n",
        "if task==\"mahattan\":\n",
        "  x,y=0,0\n",
        "  while True:\n",
        "    move=input().strip()\n",
        "    if move==\"stop\":\n",
        "      break\n",
        "    elif move==\"up\":\n",
        "      y+=1\n",
        "    elif move==\"down\":\n",
        "      y-=1\n",
        "    elif move==\"left\":\n",
        "      x+=1\n",
        "    elif move==\"right\":\n",
        "      x-=1\n",
        "  print(abs(x)+abs(y))\n"
      ]
    },
    {
      "cell_type": "code",
      "execution_count": null,
      "metadata": {
        "id": "dISngJAtk3ba"
      },
      "outputs": [],
      "source": [
        "int_iterable=range(1,10,3)\n",
        "string_iterable=[\"Apple\",\"Orange\",\"Banana\"]\n",
        "some_value=4\n",
        "some_collection=[1,2,3]\n",
        "some_iterable=(1,2,3)\n",
        "another_iterable={\"apple\",\"banana\",\"cherry\"}\n",
        "yet_another_iterable=range(1,10)\n",
        "empt_list=[]\n",
        "empty_set=set()\n",
        "empty_tuple=()\n",
        "singleton_list=[1]\n",
        "singleton_set={1}\n",
        "singleton_tuple=(1,)\n",
        "a_falsy_list=[]\n",
        "singleton_set=set()\n",
        "a_truthy_tuple=(1,2,3)\n",
        "int_iterable_min=min(int_iterable)\n",
        "int_iterable_max=max(int_iterbale)\n",
        "int_iterable_sum=sum(int_iterable)\n",
        "int_iterable_len=len(int_iterable)\n",
        "int_iterable_sorted=sorted(int_iterbale)\n",
        "int_iterable_sorted_desc=sorted(int_iterbale,reverse=True)\n",
        "\n",
        "if not is_instance(int_iterable,set):\n",
        "  int_iterabl_reversed=list(reversed(int(int_iterable)))\n",
        "else:\n",
        "  int_iterable_reversed=sorted(int_iterable,reverse=True)\n",
        "if not is_instance(some_collection,set):\n",
        "  third_last_element=some_collection[-3]\n",
        "else:\n",
        "  third_last_element=None\n",
        "if not is_instance(some_collection,set):\n",
        "  odd_index_elements=some_collecton[1::2]\n",
        "else:\n",
        "  odd_index_elements=None\n",
        "is_some_value_in_some_collection=some_value in some_collection\n",
        "\n",
        "\n",
        "if not is_instance(some_collection,set):\n",
        "  is_some_value_in_even_indices=some_value in some_collection[::2]\n",
        "\n",
        "else:\n",
        "  is_some_value_in_even_indices=None\n",
        "\n",
        "all_iterable=list(some_iterable)+list(another_iterable)+list(yet_another_iterable)\n",
        "\n",
        "\n",
        "if not isinstance(sring_iterable,set):\n",
        "  all_concat=\"-\".join(string_iterable)\n",
        "else:\n",
        "  all_concat=\"-\".join(sorted(string_iterable))\n",
        "\n",
        "\n"
      ]
    },
    {
      "cell_type": "code",
      "execution_count": null,
      "metadata": {
        "colab": {
          "base_uri": "https://localhost:8080/"
        },
        "id": "CgF6lgCp_1Ms",
        "outputId": "e3c1200d-c5d9-41a1-b8f2-9f97e4955506"
      },
      "outputs": [
        {
          "name": "stdout",
          "output_type": "stream",
          "text": [
            "Bleuberry\n",
            "Guava\n",
            "sorted: ['Apple', 'Banana', 'Cherry', 'Grapes']\n",
            "append: Bleuberry\n",
            "insert: ['Apple', 'Banana', 'Cherry', 'Guava', 'Grapes', 'Bleuberry']\n",
            "extend: ['Apple', 'Banana', 'Cherry', 'Guava', 'Grapes', 'Bleuberry', 'Apple', 'Banana', 'Cherry']\n",
            "Grapes\n",
            "pop: ['Apple', 'Banana', 'Cherry', 'Guava', 'Bleuberry', 'Apple', 'Banana', 'Cherry']\n",
            "remove ['Apple', 'Banana', 'Cherry', 'Bleuberry', 'Apple', 'Banana', 'Cherry']\n",
            "modify_index [None, 'Banana', None, 'Bleuberry', None, 'Banana', None]\n",
            "[None, 'Banana', None, 'Bleuberry', 'Banana', None]\n",
            "delete_slice ['Banana', 'Bleuberry', None]\n"
          ]
        },
        {
          "data": {
            "text/plain": [
              "(['Banana', 'Bleuberry', None], 'Grapes')"
            ]
          },
          "execution_count": 13,
          "metadata": {},
          "output_type": "execute_result"
        }
      ],
      "source": [
        "def list_mutating_operations(items:list,item1,item2):\n",
        "  items.sort()\n",
        "  print(\"sorted:\",items)\n",
        "\n",
        "  items.append(item1)\n",
        "  print(\"append:\",item1)\n",
        "\n",
        "  items.insert(3,item2)\n",
        "  print(\"insert:\",items)\n",
        "\n",
        "  items.extend(items[:3])\n",
        "  print(\"extend:\",items)\n",
        "\n",
        "  popped_item=items.pop(4)\n",
        "  print(popped_item)\n",
        "  print(\"pop:\",items)\n",
        "\n",
        "  items.remove(item2)\n",
        "  print(\"remove\",items)\n",
        "\n",
        "  items[::2]= [None]*len(items[::2])\n",
        "  print(\"modify_index\",items)\n",
        "\n",
        "  del items[-3] # delete the last third elements\n",
        "  print(items)\n",
        "\n",
        "  del items[::2]\n",
        "  print(\"delete_slice\",items)\n",
        "\n",
        "  return items,popped_item\n",
        "\n",
        "items=[\"Apple\", \"Cherry\",\"Banana\",\"Grapes\"]\n",
        "item1=input()\n",
        "item2=input()\n",
        "list_mutating_operations(items,item1,item2)"
      ]
    },
    {
      "cell_type": "code",
      "execution_count": null,
      "metadata": {
        "colab": {
          "base_uri": "https://localhost:8080/"
        },
        "id": "uDYQpzNKFlb-",
        "outputId": "f073160e-106c-4c99-807c-cfc2d9aa3b18"
      },
      "outputs": [
        {
          "name": "stdout",
          "output_type": "stream",
          "text": [
            "Blueberry\n",
            "Guava\n",
            "insert: ['Apple', 'Cherry', 'Guava', 'Banana', 'Grapes']\n"
          ]
        }
      ],
      "source": [
        "items=[\"Apple\", \"Cherry\",\"Banana\",\"Grapes\"]\n",
        "item1=input()\n",
        "item2=input()\n",
        "items.insert(2,item2)\n",
        "print(\"insert:\",items)"
      ]
    },
    {
      "cell_type": "code",
      "execution_count": null,
      "metadata": {
        "colab": {
          "base_uri": "https://localhost:8080/"
        },
        "id": "k50C_sB5I5eX",
        "outputId": "7b89b6d3-39ee-4cb1-e3d8-ae7d1d579c29"
      },
      "outputs": [
        {
          "name": "stdout",
          "output_type": "stream",
          "text": [
            "Blueberry\n",
            "guava\n",
            "extend ['Apple', 'Cherry', 'Banana', 'Grapes', 'Apple', 'Cherry', 'Banana']\n"
          ]
        }
      ],
      "source": [
        "items=[\"Apple\", \"Cherry\",\"Banana\",\"Grapes\"]\n",
        "item1=input()\n",
        "item2=input()\n",
        "items.extend(items[:3])\n",
        "print(\"extend\",items)\n"
      ]
    },
    {
      "cell_type": "code",
      "execution_count": null,
      "metadata": {
        "colab": {
          "base_uri": "https://localhost:8080/"
        },
        "id": "bkIhQ1buJ-Uw",
        "outputId": "3af27cf8-4620-4f07-84e9-fb7c8a328d4a"
      },
      "outputs": [
        {
          "name": "stdout",
          "output_type": "stream",
          "text": [
            "Blueberry\n",
            "Guava\n",
            "Grapes\n",
            "pop: ['Apple', 'Cherry', 'Banana']\n"
          ]
        }
      ],
      "source": [
        "items=[\"Apple\", \"Cherry\",\"Banana\",\"Grapes\"]\n",
        "item1=input()\n",
        "item2=input()\n",
        "popped_item=items.pop(3)\n",
        "print(popped_item)\n",
        "print(\"pop:\",items)"
      ]
    },
    {
      "cell_type": "code",
      "execution_count": null,
      "metadata": {
        "colab": {
          "base_uri": "https://localhost:8080/"
        },
        "id": "fuq8joGfF7-S",
        "outputId": "49dae79e-8f03-40d2-a6e0-c5bbc6a43171"
      },
      "outputs": [
        {
          "name": "stdout",
          "output_type": "stream",
          "text": [
            "Blueberry\n",
            "Guava\n",
            "insert: ['Apple', 'Cherry', 'Guava', 'Banana', 'Grapes']\n",
            "remove ['Apple', 'Cherry', 'Banana', 'Grapes']\n"
          ]
        }
      ],
      "source": [
        "items=[\"Apple\", \"Cherry\",\"Banana\",\"Grapes\"]\n",
        "item1=input()\n",
        "item2=input()\n",
        "items.insert(2,item2)\n",
        "print(\"insert:\",items)\n",
        "items.remove(item2)\n",
        "print(\"remove\",items)"
      ]
    },
    {
      "cell_type": "code",
      "execution_count": null,
      "metadata": {
        "id": "bAzf6bGoPNEG"
      },
      "outputs": [],
      "source": [
        "def list_non_mutating_operations(items:list,item1,item2):\n",
        "  print(\"sorted:\",sorted(items))\n",
        "  print(\"append:\",items+[item1])\n",
        "  print(\"insert\",items[:3]+[item2]+items[3:])\n",
        "  print(\"extend:\",items+items[:3])\n",
        "  print(\"pop\",items[:4]+items[5:])\n",
        "\n",
        "  index=items.index(item2)\n",
        "\n",
        "  print(\"modify_slice\",items[:index]+items[index+1:])\n",
        "\n",
        "\n",
        "  print(\"modify_index\",items[:3]+[None]+items[4:])\n",
        "  modified=items[::]\n",
        "  modified[::2]=[None]*len(modified[::2])\n",
        "  print(modified)\n",
        "\n",
        "  print(\"delete_slice\",modified[1::2])\n",
        "\n",
        "  return items\n",
        "\n",
        "items=[\"Apple\", \"Cherry\",\"Banana\",\"Grapes\"]\n",
        "item1=input()\n",
        "item2=input()\n",
        "list_non_mutating_operations(items,item1,item2)"
      ]
    },
    {
      "cell_type": "code",
      "execution_count": null,
      "metadata": {
        "id": "dwrDGL3pZr9S"
      },
      "outputs": [],
      "source": [
        "def do_set_operation(set1,set2,set3,item1,item2):\n",
        "  set1.add(item1)\n",
        "  print(sorted(set1))\n",
        "  set1.discard(item2)\n",
        "  print(sorted(set1))\n",
        "  set1.update(set2)\n",
        "  print(sorted(set1))\n",
        "\n",
        "#adding the element of set2 in set 1\n",
        "\n",
        "  set1.difference_update(set3)\n",
        "  print(sorted(set1))\n",
        "# element of set3 remove from the set 1\n",
        "\n",
        "\n",
        "  print(sorted(set2 & set3))\n",
        "\n",
        "\n",
        "# it  common element of the set2 and set 3\n",
        "\n",
        "  print(sorted(set1 | set2 | set3))\n",
        "\n",
        "# it is presenting all the non common element of set1 and set 2 and set 3\n",
        "\n",
        "  print(sorted(set2-set3))\n",
        "\n",
        "# it s printing all the element of set2 that is not present in set 3\n",
        "\n",
        "  print(sorted(set2.symmetric_difference(set3)))\n",
        "# it is printing all the non common element from set2 and set3\n",
        "\n",
        "\n",
        "  return set1,sorted(set1),sorted(set2),sorted(set3)"
      ]
    },
    {
      "cell_type": "code",
      "execution_count": null,
      "metadata": {
        "colab": {
          "base_uri": "https://localhost:8080/"
        },
        "id": "Gi_tcYxNg9Ty",
        "outputId": "0cd83840-afc7-47bc-cd4d-11b1b1fc05ce"
      },
      "outputs": [
        {
          "data": {
            "text/plain": [
              "-4"
            ]
          },
          "execution_count": 26,
          "metadata": {},
          "output_type": "execute_result"
        }
      ],
      "source": [
        "min=None\n",
        "def find_min(items:list):\n",
        "  min=items[0]\n",
        "  for i in items[1:]:\n",
        "    if i<min:\n",
        "      min=i\n",
        "  return min\n",
        "\n",
        "items=[1,2,3,4,-4]\n",
        "find_min(items)"
      ]
    },
    {
      "cell_type": "code",
      "execution_count": null,
      "metadata": {
        "colab": {
          "base_uri": "https://localhost:8080/"
        },
        "id": "sxy24uMoi3Mt",
        "outputId": "7cd6d5f5-5f8e-4cce-8490-2f5fd38a99da"
      },
      "outputs": [
        {
          "data": {
            "text/plain": [
              "[2, 1, 4, 3, 6, 5]"
            ]
          },
          "execution_count": 27,
          "metadata": {},
          "output_type": "execute_result"
        }
      ],
      "source": [
        "def odd_increment_even_decrement_no_modify(items):\n",
        "  lst=[]\n",
        "  for i in items:\n",
        "    if i%2!=0:\n",
        "      lst.append(i+1)\n",
        "    else:\n",
        "      lst.append(i-1)\n",
        "  return lst\n",
        "\n",
        "\n",
        "items=[1,2,3,4,5,6]\n",
        "odd_increment_even_decrement_no_modify(items)"
      ]
    },
    {
      "cell_type": "code",
      "execution_count": null,
      "metadata": {
        "id": "r_XNnme1jwTG"
      },
      "outputs": [],
      "source": [
        "def odd_square_even_double_modify(items:list)->list:\n",
        "  for i in range(len(items)):\n",
        "    if items[i]%2!=0:\n",
        "      items[i]**=2\n",
        "    else:\n",
        "      items[i]*=2\n",
        "  return items"
      ]
    },
    {
      "cell_type": "code",
      "execution_count": null,
      "metadata": {
        "id": "xHUtxhOvkUrs"
      },
      "outputs": [],
      "source": [
        "def more_than_two_unique_vowels(sentence):\n",
        "  vowels=\"aeiou\"\n",
        "  words=set() # i need in set\n",
        "  for word in sentence.split():\n",
        "    if len(set(word) & vowels)>2:\n",
        "      words.add(word)\n",
        "  return words"
      ]
    },
    {
      "cell_type": "code",
      "execution_count": null,
      "metadata": {
        "colab": {
          "base_uri": "https://localhost:8080/"
        },
        "id": "MnY84uBYdcQx",
        "outputId": "a8e77bdd-3858-463c-93b6-941aacee7bc0"
      },
      "outputs": [
        {
          "name": "stdout",
          "output_type": "stream",
          "text": [
            "functions,are,not,complicated\n"
          ]
        },
        {
          "data": {
            "text/plain": [
              "{'complicated', 'functions'}"
            ]
          },
          "execution_count": 6,
          "metadata": {},
          "output_type": "execute_result"
        }
      ],
      "source": [
        "def more_than_two_unique_vowels(sentence):\n",
        "  words=set()\n",
        "  vowels=set('aeiou')\n",
        "  for word in sentence.split(\",\"):\n",
        "    if len(set(word) & vowels)>2:\n",
        "      words.add(word)\n",
        "  return words\n",
        "sentence=input()\n",
        "more_than_two_unique_vowels(sentence)\n"
      ]
    },
    {
      "cell_type": "code",
      "execution_count": null,
      "metadata": {
        "colab": {
          "base_uri": "https://localhost:8080/"
        },
        "id": "94S4U1WUx5vy",
        "outputId": "d8d25dd0-a3b7-474e-f313-3a8ca9f68219"
      },
      "outputs": [
        {
          "name": "stdout",
          "output_type": "stream",
          "text": [
            "45\n"
          ]
        }
      ],
      "source": [
        "lst=[[1,2,3,4],[10,20],[5]]\n",
        "total=0\n",
        "for row in lst:\n",
        "  for col in row:\n",
        "    total+=col\n",
        "print(total)\n",
        "\n",
        "\n"
      ]
    },
    {
      "cell_type": "code",
      "execution_count": null,
      "metadata": {
        "colab": {
          "base_uri": "https://localhost:8080/"
        },
        "id": "Gz8zM-K80eSv",
        "outputId": "8796eb4f-a4d4-426c-d625-8ecb24db2263"
      },
      "outputs": [
        {
          "data": {
            "text/plain": [
              "45"
            ]
          },
          "execution_count": 9,
          "metadata": {},
          "output_type": "execute_result"
        }
      ],
      "source": [
        "def sum_of_list_of_lists(lol):\n",
        "  total=0\n",
        "  for row in lol:\n",
        "    for col in row:\n",
        "      total+=col\n",
        "  return total\n",
        "lol=[[1,2,3,4],[10,20],[5]]\n",
        "sum_of_list_of_lists(lol)\n"
      ]
    },
    {
      "cell_type": "code",
      "execution_count": null,
      "metadata": {
        "colab": {
          "base_uri": "https://localhost:8080/"
        },
        "id": "UBZygn0W1fUy",
        "outputId": "1ddd2e76-376f-457c-a299-c81a01186220"
      },
      "outputs": [
        {
          "data": {
            "text/plain": [
              "[1, 2, 3, 4, 10, 20, 5]"
            ]
          },
          "execution_count": 10,
          "metadata": {},
          "output_type": "execute_result"
        }
      ],
      "source": [
        "def flatten(lst):\n",
        "  temp=[]\n",
        "  for row in lst:\n",
        "    for col in row:\n",
        "      temp.append(col)\n",
        "  return temp\n",
        "lst=[[1,2,3,4],[10,20],[5]]\n",
        "flatten(lst)\n"
      ]
    },
    {
      "cell_type": "code",
      "execution_count": null,
      "metadata": {
        "colab": {
          "base_uri": "https://localhost:8080/",
          "height": 36
        },
        "id": "PrW48fcQ16KO",
        "outputId": "fd97b195-cdc2-444a-93ce-e59a8035a957"
      },
      "outputs": [
        {
          "data": {
            "application/vnd.google.colaboratory.intrinsic+json": {
              "type": "string"
            },
            "text/plain": [
              "'cde'"
            ]
          },
          "execution_count": 14,
          "metadata": {},
          "output_type": "execute_result"
        }
      ],
      "source": [
        "def all_common(lst):\n",
        "  emp=set(lst[0]) # first we set the first elem of the list as a reference\n",
        "  for word in lst[1:]: # Then we go through the each elem of the wordexcept first\n",
        "\n",
        "    emp=emp&set(word) # then intersection\n",
        "  return \"\".join(sorted(emp)) # then we have to sorted in alphabetic order\n",
        "\n",
        "lst=[\"abcde\",\"bcdef\",\"cdefg\"]\n",
        "all_common(lst)"
      ]
    },
    {
      "cell_type": "code",
      "execution_count": null,
      "metadata": {
        "colab": {
          "base_uri": "https://localhost:8080/"
        },
        "id": "7zCifA5C3xBE",
        "outputId": "adb47650-c890-49bd-824e-82de1450b4c6"
      },
      "outputs": [
        {
          "data": {
            "text/plain": [
              "{'a', 'and', 'are', 'bat', 'car', 'he', 'is', 'playing', 'she', 'this', 'with'}"
            ]
          },
          "execution_count": 20,
          "metadata": {},
          "output_type": "execute_result"
        }
      ],
      "source": [
        "def vocabulary(sentences):\n",
        "  data=set()\n",
        "  for i in sentences:\n",
        "    for col in i.split(\" \"):\n",
        "      data.add(col.lower())\n",
        "  return data\n",
        "sentences=[\"This is a car\",\"He is playing with a bat\",\"He and she are playing\"]\n",
        "vocabulary(sentences)"
      ]
    },
    {
      "cell_type": "code",
      "execution_count": null,
      "metadata": {
        "id": "4O9H8i914cT5"
      },
      "outputs": [],
      "source": [
        "def swap_halves(items):\n",
        "    ...\n",
        "\n",
        "def swap_at_index(items,k):\n",
        "    ...\n",
        "\n",
        "def rotate_k(items,k=1):\n",
        "    ...\n",
        "\n",
        "def first_and_last_index(items,elem):\n",
        "    ...\n",
        "\n",
        "def reverse_first_and_last_halves(items):\n",
        "    ...\n"
      ]
    },
    {
      "cell_type": "code",
      "execution_count": null,
      "metadata": {
        "colab": {
          "base_uri": "https://localhost:8080/"
        },
        "id": "O4MukY696R28",
        "outputId": "f314bdad-7559-46bb-ba3b-754fd6b31e9a"
      },
      "outputs": [
        {
          "data": {
            "text/plain": [
              "(4, 5, 6, 1, 2, 3)"
            ]
          },
          "execution_count": 24,
          "metadata": {},
          "output_type": "execute_result"
        }
      ],
      "source": [
        "def swap_halves(t):\n",
        "  m=len(t)//2\n",
        "  return t[m:]+t[:m]\n",
        "t=(1,2,3,4,5,6)\n",
        "swap_halves(t)"
      ]
    },
    {
      "cell_type": "code",
      "execution_count": null,
      "metadata": {
        "colab": {
          "base_uri": "https://localhost:8080/"
        },
        "id": "lCbNOd5w7GGZ",
        "outputId": "99b659e7-d918-458e-bb7d-f3872334db7c"
      },
      "outputs": [
        {
          "name": "stdout",
          "output_type": "stream",
          "text": [
            "1\n"
          ]
        },
        {
          "data": {
            "text/plain": [
              "(3, 4, 5, 6, 1, 2)"
            ]
          },
          "execution_count": 27,
          "metadata": {},
          "output_type": "execute_result"
        }
      ],
      "source": [
        "def swap_at_index(items,k):\n",
        "  return items[k+1:]+items[:k+1]\n",
        "\n",
        "\n",
        "\n",
        "items=(1,2,3,4,5,6)\n",
        "k=int(input())\n",
        "swap_at_index(items,k)"
      ]
    },
    {
      "cell_type": "code",
      "execution_count": null,
      "metadata": {
        "colab": {
          "base_uri": "https://localhost:8080/"
        },
        "id": "pgvPyyt_AfTa",
        "outputId": "8d395fea-d531-4244-e298-733ab82ff9bc"
      },
      "outputs": [
        {
          "data": {
            "text/plain": [
              "(2, 3, 4, 5, 6, 1)"
            ]
          },
          "execution_count": 29,
          "metadata": {},
          "output_type": "execute_result"
        }
      ],
      "source": [
        "def rotate_k(items,k):\n",
        "  k=k%len(items)\n",
        "  return items[-k:]+items[:-k]\n",
        "items=(1,2,3,4,5,6)\n",
        "k=11\n",
        "rotate_k(items,k)"
      ]
    },
    {
      "cell_type": "code",
      "execution_count": null,
      "metadata": {
        "colab": {
          "base_uri": "https://localhost:8080/"
        },
        "id": "n1jiY3McFPgQ",
        "outputId": "14f8e5bf-1582-4534-a5c7-4b807b221bb9"
      },
      "outputs": [
        {
          "name": "stdout",
          "output_type": "stream",
          "text": [
            "1\n",
            "[0, 2, 1, 4, 8, 6]\n"
          ]
        },
        {
          "data": {
            "text/plain": [
              "(2, 2)"
            ]
          },
          "execution_count": 10,
          "metadata": {},
          "output_type": "execute_result"
        }
      ],
      "source": [
        "def first_last_index(items,elem):\n",
        "  lst=list(items)\n",
        "  print(lst)\n",
        "  temp=[]\n",
        "  for i,num in enumerate(lst):\n",
        "    if num==elem:\n",
        "      temp.append(i)\n",
        "  if len(temp)==1:\n",
        "    temp.append(temp[0])\n",
        "\n",
        "\n",
        "  return tuple(temp)\n",
        "\n",
        "items=(0,2,1,4,8,6)\n",
        "elem=int(input())\n",
        "first_last_index(items,elem)"
      ]
    },
    {
      "cell_type": "code",
      "execution_count": null,
      "metadata": {
        "colab": {
          "base_uri": "https://localhost:8080/"
        },
        "id": "O3tI_HQIv-NA",
        "outputId": "8d699546-bd97-4687-f54a-b1ef4bfa63eb"
      },
      "outputs": [
        {
          "name": "stdout",
          "output_type": "stream",
          "text": [
            "1\n"
          ]
        },
        {
          "data": {
            "text/plain": [
              "(2, 2)"
            ]
          },
          "execution_count": 12,
          "metadata": {},
          "output_type": "execute_result"
        }
      ],
      "source": [
        "def first_last_index(items,elem):\n",
        "\n",
        "  return items.index(elem),len(items)-1-items[::-1].index(elem)\n",
        "items=(0,2,1,4,8,6)\n",
        "elem=int(input())\n",
        "first_last_index(items,elem)"
      ]
    },
    {
      "cell_type": "code",
      "execution_count": null,
      "metadata": {
        "colab": {
          "base_uri": "https://localhost:8080/"
        },
        "id": "PsqyDjkgwdxO",
        "outputId": "d353fda4-b591-4993-eadd-a5233847ee9f"
      },
      "outputs": [
        {
          "name": "stdout",
          "output_type": "stream",
          "text": [
            "1\n"
          ]
        },
        {
          "data": {
            "text/plain": [
              "(2, 2)"
            ]
          },
          "execution_count": 17,
          "metadata": {},
          "output_type": "execute_result"
        }
      ],
      "source": [
        "def first_last_index(items,elem):\n",
        "  return items.index(elem), len(items)-1-items[::-1].index(elem)\n",
        "items=(0,2,1,4,8,6)\n",
        "elem=int(input())\n",
        "first_last_index(items,elem)"
      ]
    },
    {
      "cell_type": "code",
      "execution_count": null,
      "metadata": {
        "colab": {
          "base_uri": "https://localhost:8080/"
        },
        "id": "Q-2oehHfCn-A",
        "outputId": "72fda19a-8292-4c62-dd25-7fcf5fe115c1"
      },
      "outputs": [
        {
          "data": {
            "text/plain": [
              "[4, 3, 2, 1, 8, 7, 6, 5]"
            ]
          },
          "execution_count": 22,
          "metadata": {},
          "output_type": "execute_result"
        }
      ],
      "source": [
        "def reverse_first_and_last_halves(items):\n",
        "    m=len(items)//2\n",
        "    items[:m],items[m:]=items[:m][::-1],items[m:][::-1]\n",
        "    return items\n",
        "\n",
        "items=[1,2,3,4,5,6,7,8]\n",
        "reverse_first_and_last_halves(items)"
      ]
    },
    {
      "cell_type": "code",
      "execution_count": null,
      "metadata": {
        "colab": {
          "base_uri": "https://localhost:8080/"
        },
        "id": "lwMitDz8Dxn2",
        "outputId": "886435fe-9914-476c-886d-d5d1f69bbc01"
      },
      "outputs": [
        {
          "data": {
            "text/plain": [
              "30"
            ]
          },
          "execution_count": 23,
          "metadata": {},
          "output_type": "execute_result"
        }
      ],
      "source": [
        "def sum_of_squares(numbers):\n",
        "  return sum([num**2 for num in numbers])\n",
        "\n",
        "numbers=[1,2,3,4]\n",
        "sum_of_squares(numbers)"
      ]
    },
    {
      "cell_type": "code",
      "execution_count": null,
      "metadata": {
        "colab": {
          "base_uri": "https://localhost:8080/"
        },
        "id": "4jvAtSTgESWX",
        "outputId": "de11a744-91cc-4c07-92a0-af8908541ee0"
      },
      "outputs": [
        {
          "data": {
            "text/plain": [
              "30"
            ]
          },
          "execution_count": 26,
          "metadata": {},
          "output_type": "execute_result"
        }
      ],
      "source": [
        "def sum_of_squares(numbers):\n",
        "  sum=0\n",
        "  for num in numbers:\n",
        "    sum+=num**2\n",
        "  return sum\n",
        "numbers=[1,2,3,4]\n",
        "sum_of_squares(numbers)\n"
      ]
    },
    {
      "cell_type": "code",
      "execution_count": null,
      "metadata": {
        "colab": {
          "base_uri": "https://localhost:8080/"
        },
        "id": "QVCuGOwpFYU7",
        "outputId": "9c761443-a08b-4753-a251-bfe22fb0a9d4"
      },
      "outputs": [
        {
          "name": "stdout",
          "output_type": "stream",
          "text": [
            "(1, 2)\n",
            "(3, 4)\n",
            "(1, 5)\n"
          ]
        }
      ],
      "source": [
        "def total_cost(cart):\n",
        "  for i  in cart:\n",
        "    print(i)\n",
        "\n",
        "\n",
        "\n",
        "cart=[(1,2),(3,4),(1,5)]\n",
        "total_cost(cart)\n"
      ]
    },
    {
      "cell_type": "code",
      "execution_count": null,
      "metadata": {
        "colab": {
          "base_uri": "https://localhost:8080/"
        },
        "id": "mQ8WoW0Iw2xT",
        "outputId": "a4f4dfe1-7a05-40a2-f110-5f7824f0936d"
      },
      "outputs": [
        {
          "data": {
            "text/plain": [
              "19"
            ]
          },
          "execution_count": 7,
          "metadata": {},
          "output_type": "execute_result"
        }
      ],
      "source": [
        "def total_cost(cart):\n",
        "\n",
        "    return sum([price*quantity for price,quantity in cart])\n",
        "\n",
        "cart=[(1,2),(3,4),(1,5)]\n",
        "total_cost(cart)\n"
      ]
    },
    {
      "cell_type": "code",
      "execution_count": null,
      "metadata": {
        "colab": {
          "base_uri": "https://localhost:8080/"
        },
        "id": "Er22KwX26Goy",
        "outputId": "9016cc57-00c5-43dc-b0a6-4de587c45bbe"
      },
      "outputs": [
        {
          "data": {
            "text/plain": [
              "19"
            ]
          },
          "execution_count": 10,
          "metadata": {},
          "output_type": "execute_result"
        }
      ],
      "source": [
        "def total_cost(cart):\n",
        "  sum=0\n",
        "  for price,quantity in cart:\n",
        "    sum+=price*quantity\n",
        "\n",
        "  return sum\n",
        "\n",
        "\n",
        "cart=[(1,2),(3,4),(1,5)]\n",
        "total_cost(cart)\n"
      ]
    },
    {
      "cell_type": "code",
      "execution_count": null,
      "metadata": {
        "colab": {
          "base_uri": "https://localhost:8080/",
          "height": 53
        },
        "id": "tgFwr8mg4dcQ",
        "outputId": "5dc7350f-223c-403b-aab6-0670e784eaf1"
      },
      "outputs": [
        {
          "name": "stdout",
          "output_type": "stream",
          "text": [
            "ordinary wizarding levels\n"
          ]
        },
        {
          "data": {
            "application/vnd.google.colaboratory.intrinsic+json": {
              "type": "string"
            },
            "text/plain": [
              "'O.W.L.'"
            ]
          },
          "execution_count": 20,
          "metadata": {},
          "output_type": "execute_result"
        }
      ],
      "source": [
        "def abbreviation(sentence):\n",
        "  return \".\".join(i[0].upper() for i in sentence.split(\" \"))+\".\"\n",
        "\n",
        "\n",
        "\n",
        "\n",
        "sentence=input()\n",
        "abbreviation(sentence)"
      ]
    },
    {
      "cell_type": "code",
      "execution_count": null,
      "metadata": {
        "colab": {
          "base_uri": "https://localhost:8080/"
        },
        "id": "EHWBZtBd9-w5",
        "outputId": "40f5ab44-5efc-4b0f-9913-fb75e8d022ee"
      },
      "outputs": [
        {
          "data": {
            "text/plain": [
              "['noon', 'dad', 'madam']"
            ]
          },
          "execution_count": 23,
          "metadata": {},
          "output_type": "execute_result"
        }
      ],
      "source": [
        "def palindromes(words):\n",
        "  temp=[]\n",
        "  for i in words:\n",
        "    if i[::]==i[::-1]:\n",
        "      temp.append(i)\n",
        "  return temp\n",
        "\n",
        "\n",
        "\n",
        "words=[\"moon\",\"noon\",\"dad\", \"dog\", \"cat\", \"madam\"]\n",
        "palindromes(words)"
      ]
    },
    {
      "cell_type": "code",
      "execution_count": null,
      "metadata": {
        "colab": {
          "base_uri": "https://localhost:8080/"
        },
        "id": "krmrQbOy-puO",
        "outputId": "709c62f4-4842-42f0-eeef-70297ca5525a"
      },
      "outputs": [
        {
          "data": {
            "text/plain": [
              "['noon', 'dad', 'madam']"
            ]
          },
          "execution_count": 25,
          "metadata": {},
          "output_type": "execute_result"
        }
      ],
      "source": [
        "def palindrome(words):\n",
        "  return [i for i in words if i[::]==i[::-1]]\n",
        "\n",
        "\n",
        "words=[\"moon\",\"noon\",\"dad\", \"dog\", \"cat\", \"madam\"]\n",
        "palindromes(words)"
      ]
    },
    {
      "cell_type": "code",
      "execution_count": null,
      "metadata": {
        "id": "G_Q-PCR9_gOZ"
      },
      "outputs": [],
      "source": [
        "\"List comprehensions are a good start for functional programming\""
      ]
    },
    {
      "cell_type": "code",
      "execution_count": null,
      "metadata": {
        "colab": {
          "base_uri": "https://localhost:8080/"
        },
        "id": "1AQKhky8_wFo",
        "outputId": "16b5269d-4744-45a1-a421-71f545604806"
      },
      "outputs": [
        {
          "data": {
            "text/plain": [
              "{'a',\n",
              " 'c',\n",
              " 'e',\n",
              " 'f',\n",
              " 'g',\n",
              " 'h',\n",
              " 'i',\n",
              " 'l',\n",
              " 'm',\n",
              " 'n',\n",
              " 'o',\n",
              " 'p',\n",
              " 'r',\n",
              " 's',\n",
              " 't',\n",
              " 'u'}"
            ]
          },
          "execution_count": 37,
          "metadata": {},
          "output_type": "execute_result"
        }
      ],
      "source": [
        "def all_chars_from_big_words(sentence):\n",
        "  data=set()\n",
        "  for word in sentence.split():\n",
        "    if len(word)>5:\n",
        "      for letter in word:\n",
        "        data.add(letter)\n",
        "  return data\n",
        "\n",
        "sentence=\"List comprehensions are a good start for functional programming\"\n",
        "all_chars_from_big_words(sentence)"
      ]
    },
    {
      "cell_type": "code",
      "execution_count": null,
      "metadata": {
        "id": "Kso9Dx99CQ5P"
      },
      "outputs": [],
      "source": [
        "def all_chars_from_big_words(sentence):\n",
        "  return {letter.lower() for word in sentence.split() for letter in word if len(word)>5}\n"
      ]
    },
    {
      "cell_type": "code",
      "execution_count": null,
      "metadata": {
        "colab": {
          "base_uri": "https://localhost:8080/"
        },
        "id": "fvspYjdYCEd_",
        "outputId": "ee055404-f018-490e-af3d-33d5f6a778e9"
      },
      "outputs": [
        {
          "data": {
            "text/plain": [
              "[1, 2, 3, 4, 1, 2, 3, 4, 1, 2, 3, 4]"
            ]
          },
          "execution_count": 40,
          "metadata": {},
          "output_type": "execute_result"
        }
      ],
      "source": [
        "def flatten(lol):\n",
        "  temp=[]\n",
        "  for row in lol:\n",
        "    for elem in row:\n",
        "      temp.append(elem)\n",
        "  return temp\n",
        "lol=[[1,2,3,4],[1,2,3,4],[1,2,3,4]]\n",
        "flatten(lol)"
      ]
    },
    {
      "cell_type": "code",
      "execution_count": null,
      "metadata": {
        "colab": {
          "base_uri": "https://localhost:8080/"
        },
        "id": "paoEHp2BEqQS",
        "outputId": "c69ccad1-881e-4d48-905e-8a75914a5cb6"
      },
      "outputs": [
        {
          "data": {
            "text/plain": [
              "[1, 2, 3, 4, 1, 2, 3, 4, 1, 2, 3, 4]"
            ]
          },
          "execution_count": 57,
          "metadata": {},
          "output_type": "execute_result"
        }
      ],
      "source": [
        "def flatten(lol):\n",
        "  return [elem for row in lol for elem in row]\n",
        "lol=[[1,2,3,4],[1,2,3,4],[1,2,3,4]]\n",
        "flatten(lol)"
      ]
    },
    {
      "cell_type": "code",
      "execution_count": null,
      "metadata": {
        "colab": {
          "base_uri": "https://localhost:8080/"
        },
        "id": "EBwEphb7FEIG",
        "outputId": "63fdd94c-0830-43b7-d865-117d2b1ba4da"
      },
      "outputs": [
        {
          "name": "stdout",
          "output_type": "stream",
          "text": [
            "2\n"
          ]
        },
        {
          "data": {
            "text/plain": [
              "[[1, 2, 3, 4, 1, 2], [3, 4, 1, 2, 3, 4]]"
            ]
          },
          "execution_count": 48,
          "metadata": {},
          "output_type": "execute_result"
        }
      ],
      "source": [
        "def unflatten(items,n_rows):\n",
        "  n_cols=len(items)//n_rows\n",
        "  return [[items[n_cols*j+i] for i in range(n_cols)] for j in range(n_rows)]\n",
        "\n",
        "n_rows=int(input())\n",
        "items=[1, 2, 3, 4, 1, 2, 3, 4, 1, 2, 3, 4]\n",
        "unflatten(items,n_rows)"
      ]
    },
    {
      "cell_type": "code",
      "execution_count": null,
      "metadata": {
        "colab": {
          "base_uri": "https://localhost:8080/"
        },
        "id": "QBCcrlovG3S4",
        "outputId": "5b1f8feb-18f7-4d7a-c999-d666fe04cc9d"
      },
      "outputs": [
        {
          "name": "stdout",
          "output_type": "stream",
          "text": [
            "3\n"
          ]
        },
        {
          "data": {
            "text/plain": [
              "[[1, 2, 3, 4], [1, 2, 3, 4], [1, 2, 3, 4]]"
            ]
          },
          "execution_count": 6,
          "metadata": {},
          "output_type": "execute_result"
        }
      ],
      "source": [
        "def unflatten(items, n_rows):\n",
        "  n_cols=len(items)//n_rows\n",
        "  return [[items[n_cols*j+i] for i in range(n_cols)] for j in range(n_rows)]\n",
        "\n",
        "\n",
        "\n",
        "n_rows=int(input())\n",
        "items=[1, 2, 3, 4, 1, 2, 3, 4, 1, 2, 3, 4]\n",
        "unflatten(items, n_rows)"
      ]
    },
    {
      "cell_type": "code",
      "execution_count": null,
      "metadata": {
        "colab": {
          "base_uri": "https://localhost:8080/"
        },
        "id": "_UNhOgUCK8LX",
        "outputId": "30155a83-f62d-4086-f17c-fa6d32c9eece"
      },
      "outputs": [
        {
          "name": "stdout",
          "output_type": "stream",
          "text": [
            "2\n"
          ]
        },
        {
          "data": {
            "text/plain": [
              "[[1, 2, 3, 4, 1, 2], [3, 4, 1, 2, 3, 4]]"
            ]
          },
          "execution_count": 14,
          "metadata": {},
          "output_type": "execute_result"
        }
      ],
      "source": [
        "\n",
        "def unflatten(items,n_rows):\n",
        "  n_cols=len(items)//n_rows\n",
        "  result=[]\n",
        "  for j in range(n_rows):\n",
        "    row=[]\n",
        "    for i in range(n_cols):\n",
        "      index=n_cols*j+i\n",
        "      row.append(items[index])\n",
        "    result.append(row)\n",
        "  return result\n",
        "\n",
        "n_rows=int(input())\n",
        "items=[1, 2, 3, 4, 1, 2, 3, 4, 1, 2, 3, 4]\n",
        "unflatten(items, n_rows)\n",
        "\n",
        "\n"
      ]
    },
    {
      "cell_type": "code",
      "execution_count": null,
      "metadata": {
        "colab": {
          "base_uri": "https://localhost:8080/"
        },
        "id": "LzQMyShnH2_X",
        "outputId": "b7e72e59-9a07-48b8-f4cb-8f785b8c231f"
      },
      "outputs": [
        {
          "name": "stdout",
          "output_type": "stream",
          "text": [
            "2\n"
          ]
        },
        {
          "data": {
            "text/plain": [
              "[[1, 2, 3, 4, 1, 2], [3, 4, 1, 2, 3, 4]]"
            ]
          },
          "execution_count": 17,
          "metadata": {},
          "output_type": "execute_result"
        }
      ],
      "source": [
        "def unflatten(items,n_rows):\n",
        "  n_cols=len(items)//n_rows\n",
        "  result=[]\n",
        "  for j in range(n_rows):\n",
        "    row=[]\n",
        "    for i in range(n_cols):\n",
        "      row.append(items[n_cols*j+i])\n",
        "    result.append(row)\n",
        "  return result\n",
        "\n",
        "n_rows=int(input())\n",
        "items=[1, 2, 3, 4, 1, 2, 3, 4, 1, 2, 3, 4]\n",
        "unflatten(items, n_rows)"
      ]
    },
    {
      "cell_type": "code",
      "execution_count": null,
      "metadata": {
        "colab": {
          "base_uri": "https://localhost:8080/"
        },
        "id": "2LUtSzU-OnlB",
        "outputId": "efaa8562-7904-4da8-e1d3-33a604c0a0f6"
      },
      "outputs": [
        {
          "name": "stdout",
          "output_type": "stream",
          "text": [
            "3\n"
          ]
        },
        {
          "data": {
            "text/plain": [
              "[[1, 0, 0], [0, 1, 0], [0, 0, 1]]"
            ]
          },
          "execution_count": 19,
          "metadata": {},
          "output_type": "execute_result"
        }
      ],
      "source": [
        "def make_identity_matrix(m):\n",
        "  result=[]\n",
        "  for i in range(m):\n",
        "    row=[]\n",
        "    for j in range(m):\n",
        "      if i==j:\n",
        "        row.append(1)\n",
        "      else:\n",
        "        row.append(0)\n",
        "    result.append(row)\n",
        "  return result\n",
        "\n",
        "m= int(input())\n",
        "make_identity_matrix(m)\n"
      ]
    },
    {
      "cell_type": "code",
      "execution_count": null,
      "metadata": {
        "colab": {
          "base_uri": "https://localhost:8080/"
        },
        "id": "iZzsnVkSRRFY",
        "outputId": "b39168f1-59bc-4e7f-f814-4cf78733c62b"
      },
      "outputs": [
        {
          "name": "stdout",
          "output_type": "stream",
          "text": [
            "3\n"
          ]
        },
        {
          "data": {
            "text/plain": [
              "[[1, 0, 0], [0, 1, 0], [0, 0, 1]]"
            ]
          },
          "execution_count": 21,
          "metadata": {},
          "output_type": "execute_result"
        }
      ],
      "source": [
        "def make_identity_matrix(m):\n",
        "  return [[1 if i==j else 0 for j in range(m)] for i in range(m)]\n",
        "\n",
        "\n",
        "m= int(input())\n",
        "make_identity_matrix(m)\n"
      ]
    },
    {
      "cell_type": "code",
      "execution_count": null,
      "metadata": {
        "colab": {
          "base_uri": "https://localhost:8080/"
        },
        "id": "ltrWbWuJPwxX",
        "outputId": "56f537c3-3aff-42a8-e739-7512efd13de1"
      },
      "outputs": [
        {
          "name": "stdout",
          "output_type": "stream",
          "text": [
            "3\n"
          ]
        },
        {
          "data": {
            "text/plain": [
              "[[1, 0, 0], [1, 2, 0], [1, 2, 3]]"
            ]
          },
          "execution_count": 25,
          "metadata": {},
          "output_type": "execute_result"
        }
      ],
      "source": [
        "def make_lower_triangular_matrix(m):\n",
        "  result=[]\n",
        "  for j in range(m):\n",
        "    row=[]\n",
        "    for i in range(m):\n",
        "      if i<=j:\n",
        "        row.append(i+1)\n",
        "      else:\n",
        "        row.append(0)\n",
        "    result.append(row)\n",
        "  return result\n",
        "m= int(input())\n",
        "make_lower_triangular_matrix(m)\n",
        "\n"
      ]
    },
    {
      "cell_type": "code",
      "execution_count": null,
      "metadata": {
        "colab": {
          "base_uri": "https://localhost:8080/"
        },
        "id": "Hb0zdzy5TtxC",
        "outputId": "360147c8-382e-44e9-bcb5-19c66b10c12e"
      },
      "outputs": [
        {
          "name": "stdout",
          "output_type": "stream",
          "text": [
            "3\n"
          ]
        },
        {
          "data": {
            "text/plain": [
              "[[1, 0, 0], [1, 2, 0], [1, 2, 3]]"
            ]
          },
          "execution_count": 27,
          "metadata": {},
          "output_type": "execute_result"
        }
      ],
      "source": [
        "def make_lower_triangular_matrix(m):\n",
        "  return [[i+1 if i<=j else 0 for i in range(m)] for j in range(m)]\n",
        "\n",
        "m= int(input())\n",
        "make_lower_triangular_matrix(m)\n",
        "\n"
      ]
    },
    {
      "cell_type": "code",
      "execution_count": null,
      "metadata": {
        "id": "8VXT2qDV7A01"
      },
      "outputs": [],
      "source": [
        "def dictionary_operations(fruit_prices:dict, fruits:list):\n",
        "    # add the fruit fruits[0] to fruit_prices with cost 3\n",
        "    ...\n",
        "    order_print(fruit_prices) # this function is in the hidden code\n",
        "\n",
        "    # modify the cost of fruits[1] as 2 in fruit_prices\n",
        "    ...\n",
        "    order_print(fruit_prices)\n",
        "\n",
        "    # increase the cost of fruits[2] by 2 in fruit_prices\n",
        "    ...\n",
        "    order_print(fruit_prices)\n",
        "\n",
        "    # delete both key and value for fruits[3] from fruit_prices\n",
        "    ...\n",
        "    order_print(fruit_prices)\n",
        "\n",
        "    # print the price of fruits[4]\n",
        "\n",
        "    ...\n",
        "\n",
        "    # print the names of fruits in fruit prices as a list sorted in ascending order\n",
        "    ...\n",
        "\n",
        "    # print the prices of the fruits as a list sorted in ascending order.\n",
        "    ...\n",
        "\n",
        "def increase_prices(fruit_prices:dict) -> None:\n",
        "    '''\n",
        "    Increase the prices of every fruit by 20 percent and round to two decimal places\n",
        "\n",
        "    Arguments:\n",
        "    fruit_prices: dict - fruit name as key and price as value\n",
        "\n",
        "    Return:\n",
        "    None - Do not return any thing - modify inplace\n",
        "    '''\n",
        "    ...\n",
        "\n",
        "def dict_from_string(string:str,key_type,value_type):\n",
        "    '''\n",
        "    Given a string where each line has a comma seperated key-value pair, create a dictionary out of it. Also convert the types of key and values to the given types.\n",
        "\n",
        "    Arguments:\n",
        "    string - str: string to be parsed\n",
        "    key_type - class: the data type of the keys\n",
        "    value_type - class: the data type of the values\n",
        "\n",
        "    Return:\n",
        "    D - dict: the output dictionary\n",
        "    '''\n",
        "    ...\n",
        "\n",
        "def dict_to_string(D:dict) -> str:\n",
        "    '''\n",
        "    Convert the given dictionary back to the string fromat produced by `dict_from_string`. Again, do not use loops or conditionals, use comprehensions.\n",
        "\n",
        "    '''\n",
        "    ...\n"
      ]
    },
    {
      "cell_type": "code",
      "execution_count": null,
      "metadata": {
        "colab": {
          "base_uri": "https://localhost:8080/"
        },
        "id": "bM1-nBeN6thJ",
        "outputId": "260a22ea-b987-48db-8d5e-481c6788d98e"
      },
      "outputs": [
        {
          "name": "stdout",
          "output_type": "stream",
          "text": [
            "{'Apple': 3, 'Banana': 2, 'Cherry': 5, 'Grapes': 3, 'Orange': 4}\n"
          ]
        }
      ],
      "source": [
        "def dictionary_opreation(fruit_prices:dict,fruits:list):\n",
        "  fruit_prices[fruits[0]]=3\n",
        "  ordered=dict(sorted(fruit_prices.items()))\n",
        "  print(ordered)\n",
        "fruit_prices={\"Orange\": 4, \"Grapes\": 3,\"Banana\": 2, \"Cherry\": 5}\n",
        "fruits=[\"Apple\",\"Orange\",\"Grapes\",\"Banana\",\"Cherry\"]\n",
        "dictionary_opreation(fruit_prices,fruits)"
      ]
    },
    {
      "cell_type": "code",
      "execution_count": null,
      "metadata": {
        "colab": {
          "base_uri": "https://localhost:8080/"
        },
        "id": "zSY8AOd79r40",
        "outputId": "c1972f29-3125-432e-efc5-9c6c4624964e"
      },
      "outputs": [
        {
          "name": "stdout",
          "output_type": "stream",
          "text": [
            "{'Apple': 3, 'Banana': 2, 'Cherry': 5, 'Grapes': 3, 'Orange': 4}\n"
          ]
        }
      ],
      "source": [
        "def dictionary_operation(fruit_prices:dict,fruits:list):\n",
        "  fruit_prices[fruits[0]]=3\n",
        "  ordered=dict(sorted(fruit_prices.items()))\n",
        "  print(ordered)\n",
        "fruit_prices={\"Orange\": 4, \"Grapes\": 3,\"Banana\": 2, \"Cherry\": 5}\n",
        "fruits=[\"Apple\",\"Orange\",\"Grapes\",\"Banana\",\"Cherry\"]\n",
        "dictionary_operation(fruit_prices,fruits)\n"
      ]
    },
    {
      "cell_type": "code",
      "execution_count": null,
      "metadata": {
        "colab": {
          "base_uri": "https://localhost:8080/"
        },
        "id": "DeOeUtlrDq1L",
        "outputId": "d27160e8-6fa9-48be-d6bb-e64806f754c4"
      },
      "outputs": [
        {
          "name": "stdout",
          "output_type": "stream",
          "text": [
            "{'Banana': 2, 'Grapes': 3, 'Apple': 3, 'Orange': 4, 'Cherry': 5}\n"
          ]
        }
      ],
      "source": [
        "def dictionary_operation(fruit_prices:dict,fruits:list):\n",
        "  fruit_prices[fruits[0]]=3\n",
        "  ordered=dict(sorted(fruit_prices.items(),key=lambda x:x[1]))\n",
        "  print(ordered)\n",
        "\n",
        "fruit_prices={\"Orange\": 4, \"Grapes\": 3,\"Banana\": 2, \"Cherry\": 5}\n",
        "fruits=[\"Apple\",\"Orange\",\"Grapes\",\"Banana\",\"Cherry\"]\n",
        "dictionary_operation(fruit_prices,fruits)"
      ]
    },
    {
      "cell_type": "code",
      "execution_count": null,
      "metadata": {
        "colab": {
          "base_uri": "https://localhost:8080/"
        },
        "id": "pD3Oet1DEjay",
        "outputId": "2f7429e9-49c7-4d06-81f2-537b0de462e7"
      },
      "outputs": [
        {
          "name": "stdout",
          "output_type": "stream",
          "text": [
            "{'Apple': 3, 'Banana': 2, 'Cherry': 5, 'Grapes': 3, 'Orange': 4}\n"
          ]
        }
      ],
      "source": [
        "def operation(fruit_prices):\n",
        "  fruit_prices[fruits[0]]=3\n",
        "  rev=dict(sorted(fruit_prices.items(),reverse=True))\n",
        "  print(rev)\n",
        "\n",
        "fruit_prices={\"Orange\": 4, \"Grapes\": 3,\"Banana\": 2, \"Cherry\": 5}\n",
        "opreation(fruit_prices,fruits)\n"
      ]
    },
    {
      "cell_type": "code",
      "execution_count": null,
      "metadata": {
        "colab": {
          "base_uri": "https://localhost:8080/"
        },
        "id": "uzlRRlChGDIF",
        "outputId": "dc2e447c-2614-4227-89ee-27260c43c720"
      },
      "outputs": [
        {
          "name": "stdout",
          "output_type": "stream",
          "text": [
            "{'Cherry': 5, 'Orange': 4, 'Grapes': 3, 'Apple': 3, 'Banana': 2}\n"
          ]
        }
      ],
      "source": [
        "def operation(fruit_prices:dict,items:list):\n",
        "\n",
        "  fruit_prices[fruits[0]]=3\n",
        "  desc=dict(sorted(fruit_prices.items(),key=lambda x:x[1], reverse=True))\n",
        "  print(desc)\n",
        "\n",
        "fruit_prices={\"Orange\": 4, \"Grapes\": 3,\"Banana\": 2, \"Cherry\": 5}\n",
        "fruits=[\"Apple\",\"Orange\",\"Grapes\",\"Banana\",\"Cherry\"]\n",
        "operation(fruit_prices,fruits)\n"
      ]
    },
    {
      "cell_type": "code",
      "execution_count": null,
      "metadata": {
        "colab": {
          "base_uri": "https://localhost:8080/"
        },
        "id": "qLlanRSNJh2n",
        "outputId": "923c3bd3-8017-4bb0-ded4-e5c5d032cbc0"
      },
      "outputs": [
        {
          "name": "stdout",
          "output_type": "stream",
          "text": [
            "{'Cherry': 5, 'Orange': 4, 'Grapes': 3, 'Banana': 2}\n"
          ]
        }
      ],
      "source": [
        "def operation(fruit_prices:dict,items:list):\n",
        "  fruit_prices[fruits[1]]=4\n",
        "  ordered=dict(sorted(fruit_prices.items(),key=lambda x:x[1],reverse=True))\n",
        "\n",
        "  print(ordered)\n",
        "\n",
        "fruit_prices={\"Orange\": 4, \"Grapes\": 3,\"Banana\": 2, \"Cherry\": 5}\n",
        "fruits=[\"Apple\",\"Orange\",\"Grapes\",\"Banana\",\"Cherry\"]\n",
        "operation(fruit_prices,fruits)\n"
      ]
    },
    {
      "cell_type": "code",
      "execution_count": null,
      "metadata": {
        "colab": {
          "base_uri": "https://localhost:8080/"
        },
        "id": "h3zY4SWlMBZa",
        "outputId": "87751b32-148d-4089-fba2-b61905eb9902"
      },
      "outputs": [
        {
          "name": "stdout",
          "output_type": "stream",
          "text": [
            "{'Grapes': 5, 'Cherry': 5, 'Orange': 4, 'Banana': 2}\n"
          ]
        }
      ],
      "source": [
        "def operation(fruit_prices:dict,items:list):\n",
        "  fruit_prices[fruits[2]]+=2\n",
        "  ord=dict(sorted(fruit_prices.items(),key=lambda x:x[1],reverse=True))\n",
        "  print(ord)\n",
        "fruit_prices={\"Orange\": 4, \"Grapes\": 3,\"Banana\": 2, \"Cherry\": 5}\n",
        "fruits=[\"Apple\",\"Orange\",\"Grapes\",\"Banana\",\"Cherry\"]\n",
        "operation(fruit_prices,fruits)\n"
      ]
    },
    {
      "cell_type": "code",
      "execution_count": null,
      "metadata": {
        "colab": {
          "base_uri": "https://localhost:8080/"
        },
        "id": "JlXmVbFGMwag",
        "outputId": "5293af63-f788-49d9-b852-bae543ecceb4"
      },
      "outputs": [
        {
          "name": "stdout",
          "output_type": "stream",
          "text": [
            "{'Cherry': 5, 'Orange': 4, 'Grapes': 3}\n",
            "5\n",
            "['Cherry', 'Grapes', 'Orange']\n",
            "[3, 4, 5]\n"
          ]
        }
      ],
      "source": [
        "def operation(fruit_prices:dict,items:list):\n",
        "  del fruit_prices[fruits[3]]\n",
        "  ordered=dict(sorted(fruit_prices.items(),key=lambda x:x[1],reverse=True))\n",
        "  print(ordered)\n",
        "  print(fruit_prices[fruits[4]])\n",
        "  print(sorted(fruit_prices.keys()))\n",
        "  print(sorted(fruit_prices.values()))\n",
        "\n",
        "fruit_prices={\"Orange\": 4, \"Grapes\": 3,\"Banana\": 2, \"Cherry\": 5}\n",
        "fruits=[\"Apple\",\"Orange\",\"Grapes\",\"Banana\",\"Cherry\"]\n",
        "operation(fruit_prices,fruits)"
      ]
    },
    {
      "cell_type": "code",
      "execution_count": null,
      "metadata": {
        "colab": {
          "base_uri": "https://localhost:8080/"
        },
        "id": "_kGchwwBGALu",
        "outputId": "79cb1e3f-4e46-4368-d355-6e531c6f7121"
      },
      "outputs": [
        {
          "data": {
            "text/plain": [
              "{'Orange': 4.8, 'Grapes': 3.6, 'Banana': 2.4, 'Cherry': 6.0}"
            ]
          },
          "execution_count": 43,
          "metadata": {},
          "output_type": "execute_result"
        }
      ],
      "source": [
        "def operation(fruit_prices:dict,items:list)->None:\n",
        "  for fruit in fruit_prices:\n",
        "    fruit_prices[fruit]*=1.2\n",
        "    fruit_prices[fruit]=round(fruit_prices[fruit],2)\n",
        "  return fruit_prices\n",
        "\n",
        "fruit_prices={\"Orange\": 4, \"Grapes\": 3,\"Banana\": 2, \"Cherry\": 5}\n",
        "fruits=[\"Apple\",\"Orange\",\"Grapes\",\"Banana\",\"Cherry\"]\n",
        "operation(fruit_prices,fruits)\n"
      ]
    },
    {
      "cell_type": "markdown",
      "metadata": {
        "id": "UfaUywp_YWjD"
      },
      "source": [
        "IMPORTANT QUESTION 1"
      ]
    },
    {
      "cell_type": "code",
      "execution_count": null,
      "metadata": {
        "colab": {
          "base_uri": "https://localhost:8080/"
        },
        "id": "59U_P-D3QGgk",
        "outputId": "ded0e33d-566e-4112-bafe-0e753eee344b"
      },
      "outputs": [
        {
          "name": "stdout",
          "output_type": "stream",
          "text": [
            "5\n",
            "Apple,2\n",
            "Banana,3\n",
            "Guava,4\n",
            "Oranges,6\n",
            "Papaya,5\n",
            "{'Apple': 2, 'Banana': 3, 'Guava': 4, 'Oranges': 6, 'Papaya': 5}\n"
          ]
        }
      ],
      "source": [
        "def dict_from_string(string:str,key_type,value_type):\n",
        "  dic={}\n",
        "  for line in string:\n",
        "\n",
        "    key,value=line.split(\",\")\n",
        "    dic[str(key.strip())]=int(value.strip())\n",
        "  return dic\n",
        "\n",
        "\n",
        "n=int(input())\n",
        "string=(input() for _ in range(n))\n",
        "result=dict_from_string(string,str,int)\n",
        "print(result)\n"
      ]
    },
    {
      "cell_type": "markdown",
      "metadata": {
        "id": "-NFf255yYi_J"
      },
      "source": []
    },
    {
      "cell_type": "markdown",
      "metadata": {
        "id": "CfonfHzjYjGB"
      },
      "source": [
        "IMPORTANT QUESTION 2"
      ]
    },
    {
      "cell_type": "code",
      "execution_count": null,
      "metadata": {
        "colab": {
          "base_uri": "https://localhost:8080/"
        },
        "id": "Fua04JGWVvmA",
        "outputId": "b179de49-b422-4784-944c-7455d6cde3ac"
      },
      "outputs": [
        {
          "name": "stdout",
          "output_type": "stream",
          "text": [
            "{'Apple': 2, 'Banana': 3, 'Orange': 4, 'Grapes': 3, 'Papaya': 5}\n"
          ]
        }
      ],
      "source": [
        "def dict_from_string(string:str,key_type,value_type):\n",
        "  dic={}\n",
        "\n",
        "  for line in string.split(\"\\n\"):\n",
        "    key,value=line.split(\",\")\n",
        "\n",
        "    dic[key_type(key.strip())]=int(value_type(value.strip()))\n",
        "  return dic\n",
        "\n",
        "\n",
        "\n",
        "string=\"\"\"Apple,2\n",
        "Banana,3\n",
        "Orange,4\n",
        "Grapes,3\n",
        "Papaya,5\"\"\"\n",
        "result=dict_from_string(string,str,int)\n",
        "print(result)\n"
      ]
    },
    {
      "cell_type": "code",
      "execution_count": null,
      "metadata": {
        "colab": {
          "base_uri": "https://localhost:8080/"
        },
        "id": "12xyLpDtZJer",
        "outputId": "1ae92b47-edd4-463c-e062-538d57a1fe9f"
      },
      "outputs": [
        {
          "name": "stdout",
          "output_type": "stream",
          "text": [
            "Orange,4\n",
            "Grapes,3\n",
            "Banana,2\n",
            "Cherry,5\n"
          ]
        }
      ],
      "source": [
        "def dict_to_string(D:dict)->str:\n",
        "  return \"\\n\".join(str(key)+\",\"+str(value) for key,value in D.items())\n",
        "\n",
        "\n",
        "D={\"Orange\": 4, \"Grapes\": 3,\"Banana\": 2, \"Cherry\": 5}\n",
        "result=dict_to_string(D)\n",
        "print(result)"
      ]
    },
    {
      "cell_type": "code",
      "execution_count": null,
      "metadata": {
        "colab": {
          "base_uri": "https://localhost:8080/"
        },
        "id": "-FPwqodDQtlx",
        "outputId": "790896da-2fb4-43ef-8907-78caebc04b96"
      },
      "outputs": [
        {
          "data": {
            "text/plain": [
              "38.0"
            ]
          },
          "execution_count": 65,
          "metadata": {},
          "output_type": "execute_result"
        }
      ],
      "source": [
        "def total_price(fruit_prices:dict,purchases)->float:\n",
        "  total=0\n",
        "  for fruit,quantity in purchases:\n",
        "    total+=fruit_prices[fruit]*quantity\n",
        "# total=price*quantity\n",
        "# price can be extract from the fruit_prices[fruit]\n",
        "  return total\n",
        "\n",
        "fruit_prices={'Apple':2.0,'Banana':3.0,'Orange':4.0,'Grapes':3.0,'Papaya':5.0}\n",
        "purchases=[(\"Apple\",3),(\"Orange\",5),(\"Grapes\",4)]\n",
        "total_price(fruit_prices,purchases)"
      ]
    },
    {
      "cell_type": "code",
      "execution_count": null,
      "metadata": {
        "id": "RbJJ0TI6fBWz"
      },
      "outputs": [],
      "source": [
        "def index_of_first_occurance(row:list,elem):\n",
        "  for i in range(len(row)):\n",
        "    if row[i]==elem:\n",
        "      return i\n",
        "\n",
        "\n",
        "def index_of_last_occurance(row:list,elem):\n",
        "  rev=row[::-1].index(elem)\n",
        "  return len(row)-1-rev\n",
        "\n",
        "\n",
        "def is_valid_coordinate(x:int,y:int,M):\n",
        "  r,c=len(M),len(M[0])\n",
        "  return  0<=x<r and 0<=y<c\n",
        "\n",
        "\n",
        "def valid_adjacent_coordinates(x:int,y:int,M):\n",
        "  return {(x1,y1) for x1,y1 in {(x-1,y),(x+1,y),(x,y-1),(x,y+1)} if is_valid_coordinate(x1,y1,M)}\n",
        "\n",
        "\n",
        "def next_coordinate_with_value(curr_coords,value,M,prev_coords=None):\n",
        "    x,y=curr_coords\n",
        "    for x1,y1 in valid_adjacent_coordinates(x,y,M)-{prev_coords}:\n",
        "        if M[x1][y1]==value:\n",
        "            return x1,y1\n",
        "\n",
        "def get_path_coordinates(M):\n",
        "\n",
        "  x_start,x_end=len(M)-1,0\n",
        "  y_start,y_end=index_of_last_occurance(M[-1],1),index_of_first_occurance(M[0],1)\n",
        "  path=[]\n",
        "  prev_coords=None\n",
        "  curr_coords=x_start,y_start\n",
        "  while curr_coords!=(x_end,y_end):\n",
        "    path.append(curr_coords)\n",
        "    curr_coords,prev_coords=next_coordinate_with_value(curr_coords,1,M,prev_coords),(curr_coords)\n",
        "  path.append(curr_coords)\n",
        "  return path\n",
        "\n",
        "\n",
        "def print_path(M):\n",
        "    path = get_path_coordinates(M)\n",
        "\n",
        "    for coordinate in path:\n",
        "        print(coordinate)\n",
        "\n",
        "\n",
        "def alternate_path(M):\n",
        "    path = get_path_coordinates(M)\n",
        "\n",
        "    for i,(x,y) in enumerate(path,1):\n",
        "        if i%2==0:\n",
        "            M[x][y] = 2\n",
        "\n",
        "def count_path(M):\n",
        "    path = get_path_coordinates(M)\n",
        "\n",
        "    for i,(x,y) in enumerate(path,1):\n",
        "        M[x][y] = i\n",
        "\n",
        "def mirror_horizontally(M):\n",
        "    path = get_path_coordinates(M)\n",
        "\n",
        "    for x,y in path:\n",
        "        M[x][-y-1] = 1\n",
        "\n",
        "def mirror_vertically(M):\n",
        "    path=get_path_coordinates(M)\n",
        "    for x,y in path:\n",
        "        M[-x-1][y]=1"
      ]
    },
    {
      "cell_type": "code",
      "execution_count": null,
      "metadata": {
        "colab": {
          "base_uri": "https://localhost:8080/"
        },
        "id": "oKDXxBs5aZYJ",
        "outputId": "19186d37-2cf1-4fa1-d35a-12e2dcfc3ce1"
      },
      "outputs": [
        {
          "data": {
            "text/plain": [
              "[False, False, False, True, True]"
            ]
          },
          "execution_count": 3,
          "metadata": {},
          "output_type": "execute_result"
        }
      ],
      "source": [
        "# with loops and conditions\n",
        "def is_greater_than_5(numbers:list)->list:\n",
        "  lst=[]\n",
        "  for num in numbers:\n",
        "    if num>5:\n",
        "      lst.append(True)\n",
        "    else:\n",
        "      lst.append(False)\n",
        "  return lst\n",
        "numbers = [3,4,5,6,7]\n",
        "is_greater_than_5(numbers)"
      ]
    },
    {
      "cell_type": "code",
      "execution_count": null,
      "metadata": {
        "colab": {
          "base_uri": "https://localhost:8080/"
        },
        "id": "8G1-nGvhcWgj",
        "outputId": "92637af4-b433-44da-913e-ae4494169025"
      },
      "outputs": [
        {
          "data": {
            "text/plain": [
              "[False, False, False, True, True]"
            ]
          },
          "execution_count": 5,
          "metadata": {},
          "output_type": "execute_result"
        }
      ],
      "source": [
        "#Without loops and conditions\n",
        "def is_greater_than_5(numbers:list)->list:\n",
        "  return list(map(lambda x:x>5,numbers))\n",
        "\n",
        "numbers = [3,4,5,6,7]\n",
        "is_greater_than_5(numbers)"
      ]
    },
    {
      "cell_type": "code",
      "execution_count": null,
      "metadata": {
        "colab": {
          "base_uri": "https://localhost:8080/"
        },
        "id": "JVhI_omUhCCa",
        "outputId": "ec4c645d-66c9-45ea-c310-55500aaf52aa"
      },
      "outputs": [
        {
          "data": {
            "text/plain": [
              "[4, 9, 25, 36, 49]"
            ]
          },
          "execution_count": 7,
          "metadata": {},
          "output_type": "execute_result"
        }
      ],
      "source": [
        "def trial(numbers:list)->list:\n",
        "  return list(map(lambda x:x**2,numbers))\n",
        "\n",
        "numbers=[2,3,5,6,7]\n",
        "trial(numbers)"
      ]
    },
    {
      "cell_type": "code",
      "execution_count": null,
      "metadata": {
        "colab": {
          "base_uri": "https://localhost:8080/"
        },
        "id": "HD5bGhRwhv0b",
        "outputId": "503d3018-18b5-43d3-8f98-7ba7ace326a1"
      },
      "outputs": [
        {
          "data": {
            "text/plain": [
              "[2, 3]"
            ]
          },
          "execution_count": 11,
          "metadata": {},
          "output_type": "execute_result"
        }
      ],
      "source": [
        "def trial(numbers:list)->list:\n",
        "  return list(filter(lambda x: x<5,numbers))\n",
        "\n",
        "numbers=[2,3,5,6,7]\n",
        "trial(numbers)"
      ]
    },
    {
      "cell_type": "code",
      "execution_count": null,
      "metadata": {
        "colab": {
          "base_uri": "https://localhost:8080/"
        },
        "id": "ustBrpiykdRG",
        "outputId": "887498f5-5bf7-43db-f0a0-b4b8c8cdbd32"
      },
      "outputs": [
        {
          "data": {
            "text/plain": [
              "[True, True]"
            ]
          },
          "execution_count": 15,
          "metadata": {},
          "output_type": "execute_result"
        }
      ],
      "source": [
        "def trial(numbers:list)->list:\n",
        "  return list(map(lambda x:x<5,filter(lambda x:x<5,numbers)))\n",
        "\n",
        "numbers=[2,3,5,6,7]\n",
        "trial(numbers)"
      ]
    },
    {
      "cell_type": "code",
      "execution_count": null,
      "metadata": {
        "colab": {
          "base_uri": "https://localhost:8080/"
        },
        "id": "gfFohIutoMcU",
        "outputId": "fbc22e54-9557-4916-93c7-457feadff77d"
      },
      "outputs": [
        {
          "data": {
            "text/plain": [
              "99"
            ]
          },
          "execution_count": 21,
          "metadata": {},
          "output_type": "execute_result"
        }
      ],
      "source": [
        "def sum_of_two_digit_numbers(numbers:list):\n",
        "  F=filter(lambda x:len(str(x))==2,numbers)\n",
        "  return sum(F)\n",
        "\n",
        "\n",
        "numbers=[23,3,15,61,777]\n",
        "sum_of_two_digit_numbers(numbers)"
      ]
    },
    {
      "cell_type": "code",
      "execution_count": null,
      "metadata": {
        "colab": {
          "base_uri": "https://localhost:8080/"
        },
        "id": "iU--Nx_opBGx",
        "outputId": "0eab1ca3-24bc-4056-c39e-7eb775afd01d"
      },
      "outputs": [
        {
          "data": {
            "text/plain": [
              "True"
            ]
          },
          "execution_count": 22,
          "metadata": {},
          "output_type": "execute_result"
        }
      ],
      "source": [
        "def is_all_has_a(words:list)->bool:\n",
        "  return all(map(lambda x:\"a\" in x.lower(),words))\n",
        "\n",
        "words=[\"Apple\", \"Orange\", \"Banana\"]\n",
        "is_all_has_a(words)"
      ]
    },
    {
      "cell_type": "code",
      "execution_count": null,
      "metadata": {
        "colab": {
          "base_uri": "https://localhost:8080/"
        },
        "id": "09F4VPRAcQNO",
        "outputId": "63a6753a-4949-4a30-8478-fabb83745987"
      },
      "outputs": [
        {
          "name": "stdout",
          "output_type": "stream",
          "text": [
            "1. Apple\n",
            "2. Orange\n",
            "3. Banana\n"
          ]
        }
      ],
      "source": [
        "def print_with_numbering(items):\n",
        "  for i,value in enumerate(items,1):\n",
        "    print(f\"{i}. {value}\")\n",
        "\n",
        "items=[\"Apple\", \"Orange\", \"Banana\"]\n",
        "print_with_numbering(items)"
      ]
    },
    {
      "cell_type": "code",
      "execution_count": null,
      "metadata": {
        "colab": {
          "base_uri": "https://localhost:8080/"
        },
        "id": "AeEj1u4AqknZ",
        "outputId": "162b143d-3780-49d2-da7a-b961bd88b683"
      },
      "outputs": [
        {
          "name": "stdout",
          "output_type": "stream",
          "text": [
            "United States-Washington, D.C.\n",
            "Brazil-Brasilia\n",
            "Nigeria-Abuja\n",
            "India-New Delhi\n",
            "Australia-Canberra\n"
          ]
        }
      ],
      "source": [
        "def parallel_print(countries,capitals):\n",
        "  for country,capital in zip(countries,capitals):\n",
        "    print(f\"{country}-{capital}\")\n",
        "\n",
        "countries = [\"United States\", \"Brazil\", \"Nigeria\", \"India\", \"Australia\"]\n",
        "capitals = [\"Washington, D.C.\",\"Brasilia\", \"Abuja\", \"New Delhi\", \"Canberra\"]\n",
        "parallel_print(countries,capitals)"
      ]
    },
    {
      "cell_type": "code",
      "execution_count": null,
      "metadata": {
        "colab": {
          "base_uri": "https://localhost:8080/"
        },
        "id": "aIdNG-wQrgpM",
        "outputId": "89f31dc1-7968-4f6c-a067-c2489d77d943"
      },
      "outputs": [
        {
          "data": {
            "text/plain": [
              "{'a': 1, 'b': 2, 'c': 3, 'd': 4, 'e': 5}"
            ]
          },
          "execution_count": 26,
          "metadata": {},
          "output_type": "execute_result"
        }
      ],
      "source": [
        "def make_dict(keys,values):\n",
        "  return dict(zip(keys,values))\n",
        "\n",
        "keys=\"abcde\"\n",
        "values=[1,2,3,4,5]\n",
        "make_dict(keys,values)"
      ]
    },
    {
      "cell_type": "code",
      "execution_count": null,
      "metadata": {
        "colab": {
          "base_uri": "https://localhost:8080/"
        },
        "id": "4bqYHymssjw-",
        "outputId": "6ca563c3-fe57-42fa-b994-64a84afabecc"
      },
      "outputs": [
        {
          "data": {
            "text/plain": [
              "[1, 2, 4]"
            ]
          },
          "execution_count": 27,
          "metadata": {},
          "output_type": "execute_result"
        }
      ],
      "source": [
        "def indices_of_big(words)->list:\n",
        "  return list(map(lambda x:x[0],filter(lambda y:len(y[1])>5,enumerate(words))))\n",
        "\n",
        "words = [\"Apple\",\"Banana\",\"Orange\",\"Kiwi\",\"Cherry\"]\n",
        "indices_of_big(words)"
      ]
    },
    {
      "cell_type": "code",
      "execution_count": null,
      "metadata": {
        "colab": {
          "base_uri": "https://localhost:8080/",
          "height": 36
        },
        "id": "YikdOubTtm59",
        "outputId": "a625488d-c4ee-40a7-a832-0c1db006cc33"
      },
      "outputs": [
        {
          "data": {
            "application/vnd.google.colaboratory.intrinsic+json": {
              "type": "string"
            },
            "text/plain": [
              "'aabbbbcccd'"
            ]
          },
          "execution_count": 28,
          "metadata": {},
          "output_type": "execute_result"
        }
      ],
      "source": [
        "def decode_rle(chars,repeats):\n",
        "  return \"\".join(map(lambda x:x[0]*x[1], zip(chars,repeats)))\n",
        "\n",
        "\n",
        "chars=\"abcd\"\n",
        "repeats=[2,4,3,1]\n",
        "decode_rle(chars,repeats)"
      ]
    },
    {
      "cell_type": "code",
      "execution_count": null,
      "metadata": {
        "id": "fReh4zmh5ZWy"
      },
      "outputs": [],
      "source": []
    },
    {
      "cell_type": "code",
      "execution_count": null,
      "metadata": {
        "colab": {
          "base_uri": "https://localhost:8080/"
        },
        "id": "sVDTA6qUzUxL",
        "outputId": "71d3549c-6470-4115-c9ff-99a37824b490"
      },
      "outputs": [
        {
          "data": {
            "text/plain": [
              "{5: ['Apple'],\n",
              " 6: ['Banana'],\n",
              " 7: ['Avocado'],\n",
              " 4: ['Amla'],\n",
              " 11: ['Black berry'],\n",
              " 10: ['Blue berry']}"
            ]
          },
          "execution_count": 34,
          "metadata": {},
          "output_type": "execute_result"
        }
      ],
      "source": [
        "def groupby(fruits:list,key:callable):\n",
        "  groups={}\n",
        "  for item in fruits:\n",
        "    group=key(item)\n",
        "    if group not in groups:\n",
        "      groups[group]=[]\n",
        "    groups[group].append(item)\n",
        "  return groups\n",
        "\n",
        "\n",
        "\n",
        "fruits=[\"Apple\",\"Banana\",\"Avocado\",\"Amla\",\"Black berry\",\"Blue berry\"]\n",
        "groupby(fruits,len)"
      ]
    },
    {
      "cell_type": "code",
      "execution_count": null,
      "metadata": {
        "colab": {
          "base_uri": "https://localhost:8080/"
        },
        "id": "a3JWGbCh5bKJ",
        "outputId": "81aedc48-4e80-47fb-826d-9db1ae8011f1"
      },
      "outputs": [
        {
          "data": {
            "text/plain": [
              "{'A': ['Apple'],\n",
              " 'B': ['Banana'],\n",
              " 'O': ['Orange'],\n",
              " 'C': ['Cherry'],\n",
              " 'M': ['Mango']}"
            ]
          },
          "execution_count": 37,
          "metadata": {},
          "output_type": "execute_result"
        }
      ],
      "source": [
        "def groupby2(data:list,key:callable):\n",
        "  groups={}\n",
        "  for item in data:\n",
        "    group=key(item)\n",
        "    if group not in  groups:\n",
        "      groups[group]=[]\n",
        "    groups[group].append(item)\n",
        "  return groups\n",
        "\n",
        "data=[\"Apple\",\"Banana\",\"Orange\",\"Cherry\",\"Mango\"]\n",
        "groupby2(fruits,lambda x:x[0])\n"
      ]
    },
    {
      "cell_type": "code",
      "execution_count": null,
      "metadata": {
        "colab": {
          "base_uri": "https://localhost:8080/"
        },
        "id": "zI3RX9ut7t1B",
        "outputId": "675cc9fb-f5bc-4a60-d3f7-4089b18d39f7"
      },
      "outputs": [
        {
          "data": {
            "text/plain": [
              "{'A': 2, 'B': 3}"
            ]
          },
          "execution_count": 40,
          "metadata": {},
          "output_type": "execute_result"
        }
      ],
      "source": [
        "def apply_to_groups(groups:dict,func:callable):\n",
        "  return {group:func(member) for group,member in groups.items()}\n",
        "\n",
        "groups= {\"A\":[\"Apple\",\"Avocado\"], \"B\":[\"Banana\",\"Black berry\",\"Blue berry\"]}\n",
        "apply_to_groups(groups,len)"
      ]
    },
    {
      "cell_type": "code",
      "execution_count": null,
      "metadata": {
        "colab": {
          "base_uri": "https://localhost:8080/"
        },
        "id": "vnzPoBV_9pYp",
        "outputId": "d6262beb-6c74-4797-cbde-dc0502db5636"
      },
      "outputs": [
        {
          "data": {
            "text/plain": [
              "{'A': 'Apple-Avocado', 'B': 'Banana-Black berry-Blue berry'}"
            ]
          },
          "execution_count": 41,
          "metadata": {},
          "output_type": "execute_result"
        }
      ],
      "source": [
        "def apply_to_groups(group:dict,func:callable):\n",
        "  return {group:func(member) for group,member in groups.items()}\n",
        "\n",
        "\n",
        "groups= {\"A\":[\"Apple\",\"Avocado\"], \"B\":[\"Banana\",\"Black berry\",\"Blue berry\"]}\n",
        "apply_to_groups(groups,'-'.join)"
      ]
    },
    {
      "cell_type": "code",
      "execution_count": null,
      "metadata": {
        "colab": {
          "base_uri": "https://localhost:8080/"
        },
        "id": "_Qp0A_Fe-Dlb",
        "outputId": "45744cbc-86ec-4d2a-c3ab-4d46e5aab210"
      },
      "outputs": [
        {
          "data": {
            "text/plain": [
              "[{'rollno': 1,\n",
              "  'city': 'chennai',\n",
              "  'maths': 4,\n",
              "  'english': 95,\n",
              "  'physics': 36,\n",
              "  'chemistry': 32,\n",
              "  '3dmodeliing': 29},\n",
              " {'rollno': 2,\n",
              "  'city': 'patna',\n",
              "  'maths': 95,\n",
              "  'english': 14,\n",
              "  'physics': 87,\n",
              "  'chemistry': 95,\n",
              "  '3dmodeliing': 70},\n",
              " {'rollno': 3,\n",
              "  'city': 'chennai',\n",
              "  'maths': 76,\n",
              "  'english': 55,\n",
              "  'physics': 5,\n",
              "  'chemistry': 4,\n",
              "  '3dmodeliing': 12},\n",
              " {'rollno': 4,\n",
              "  'city': 'patna',\n",
              "  'maths': 30,\n",
              "  'english': 65,\n",
              "  'physics': 78,\n",
              "  'chemistry': 4,\n",
              "  '3dmodeliing': 72},\n",
              " {'rollno': 5,\n",
              "  'city': 'patna',\n",
              "  'maths': 92,\n",
              "  'english': 84,\n",
              "  'physics': 90,\n",
              "  'chemistry': 70,\n",
              "  '3dmodeliing': 54},\n",
              " {'rollno': 6,\n",
              "  'city': 'patna',\n",
              "  'maths': 58,\n",
              "  'english': 76,\n",
              "  'physics': 36,\n",
              "  'chemistry': 1,\n",
              "  '3dmodeliing': 98},\n",
              " {'rollno': 7,\n",
              "  'city': 'patna',\n",
              "  'maths': 90,\n",
              "  'english': 55,\n",
              "  'physics': 44,\n",
              "  'chemistry': 36,\n",
              "  '3dmodeliing': 20},\n",
              " {'rollno': 8,\n",
              "  'city': 'patna',\n",
              "  'maths': 98,\n",
              "  'english': 44,\n",
              "  'physics': 14,\n",
              "  'chemistry': 12,\n",
              "  '3dmodeliing': 49},\n",
              " {'rollno': 9,\n",
              "  'city': 'chennai',\n",
              "  'maths': 46,\n",
              "  'english': 45,\n",
              "  'physics': 78,\n",
              "  'chemistry': 34,\n",
              "  '3dmodeliing': 6},\n",
              " {'rollno': 10,\n",
              "  'city': 'kolkata',\n",
              "  'maths': 69,\n",
              "  'english': 16,\n",
              "  'physics': 49,\n",
              "  'chemistry': 11,\n",
              "  '3dmodeliing': 71},\n",
              " {'rollno': 11,\n",
              "  'city': 'delhi',\n",
              "  'maths': 81,\n",
              "  'english': 80,\n",
              "  'physics': 47,\n",
              "  'chemistry': 74,\n",
              "  '3dmodeliing': 25},\n",
              " {'rollno': 12,\n",
              "  'city': 'chennai',\n",
              "  'maths': 6,\n",
              "  'english': 85,\n",
              "  'physics': 30,\n",
              "  'chemistry': 99,\n",
              "  '3dmodeliing': 38},\n",
              " {'rollno': 13,\n",
              "  'city': 'chennai',\n",
              "  'maths': 30,\n",
              "  'english': 13,\n",
              "  'physics': 49,\n",
              "  'chemistry': 36,\n",
              "  '3dmodeliing': 59},\n",
              " {'rollno': 14,\n",
              "  'city': 'delhi',\n",
              "  'maths': 21,\n",
              "  'english': 48,\n",
              "  'physics': 46,\n",
              "  'chemistry': 27,\n",
              "  '3dmodeliing': 86},\n",
              " {'rollno': 15,\n",
              "  'city': 'delhi',\n",
              "  'maths': 90,\n",
              "  'english': 88,\n",
              "  'physics': 83,\n",
              "  'chemistry': 10,\n",
              "  '3dmodeliing': 78},\n",
              " {'rollno': 16,\n",
              "  'city': 'patna',\n",
              "  'maths': 69,\n",
              "  'english': 94,\n",
              "  'physics': 32,\n",
              "  'chemistry': 21,\n",
              "  '3dmodeliing': 60},\n",
              " {'rollno': 17,\n",
              "  'city': 'kolkata',\n",
              "  'maths': 35,\n",
              "  'english': 82,\n",
              "  'physics': 89,\n",
              "  'chemistry': 72,\n",
              "  '3dmodeliing': 29},\n",
              " {'rollno': 18,\n",
              "  'city': 'delhi',\n",
              "  'maths': 99,\n",
              "  'english': 100,\n",
              "  'physics': 8,\n",
              "  'chemistry': 30,\n",
              "  '3dmodeliing': 5},\n",
              " {'rollno': 19,\n",
              "  'city': 'delhi',\n",
              "  'maths': 52,\n",
              "  'english': 35,\n",
              "  'physics': 9,\n",
              "  'chemistry': 28,\n",
              "  '3dmodeliing': 73},\n",
              " {'rollno': 20,\n",
              "  'city': 'delhi',\n",
              "  'maths': 28,\n",
              "  'english': 84,\n",
              "  'physics': 64,\n",
              "  'chemistry': 51,\n",
              "  '3dmodeliing': 83}]"
            ]
          },
          "execution_count": 48,
          "metadata": {},
          "output_type": "execute_result"
        }
      ],
      "source": [
        "\n",
        "import random\n",
        "\n",
        "def generate_student_data(n_students, courses, cities, random_seed=42):\n",
        "\n",
        "    random.seed(random_seed)\n",
        "    return [\n",
        "      {\n",
        "        \"rollno\": i, \"city\": random.choice(cities),\n",
        "        **{course: random.randint(1,100) for course in courses}\n",
        "      }\n",
        "      for i in range(1,n_students+1)\n",
        "    ]\n",
        "n_students=20\n",
        "courses=[\"maths\",\"english\",\"physics\",\"chemistry\",\"3dmodeliing\"]\n",
        "cities=[\"chennai\",\"patna\",\"delhi\",\"kolkata\",\"mumbai\"]\n",
        "generate_student_data(n_students, courses, cities, random_seed=42)"
      ]
    },
    {
      "cell_type": "code",
      "execution_count": null,
      "metadata": {
        "colab": {
          "background_save": true
        },
        "id": "pnRg9YnKPbpS"
      },
      "outputs": [],
      "source": [
        "import random\n",
        "def generate_student_data(n_student,courses,cities,random_seed=42):\n",
        "  random.seed(random_seed)\n",
        "  return [{ \"rollno\":i,\"city\":random.choice(cities),\n",
        "           **{course:random.randint(1,100)}}for course in courses]\n",
        "\n",
        "\n",
        "\n",
        "\n",
        "n_students=20\n",
        "courses=[\"maths\",\"english\",\"physics\",\"chemistry\",\"3dmodeliing\"]\n",
        "cities=[\"chennai\",\"patna\",\"delhi\",\"kolkata\",\"mumbai\"]\n",
        "generate_student_data(n_students, courses, cities, random_seed=42)"
      ]
    },
    {
      "cell_type": "markdown",
      "metadata": {
        "id": "ADFnXqKTdYi8"
      },
      "source": [
        "OPPE 1 PRACTICE START DATE:11-Feb-2025"
      ]
    },
    {
      "cell_type": "code",
      "execution_count": null,
      "metadata": {
        "colab": {
          "base_uri": "https://localhost:8080/"
        },
        "id": "22ujbhrDdrYJ",
        "outputId": "438f6d9b-9349-4051-d77b-8dfcf9f64564"
      },
      "outputs": [
        {
          "data": {
            "text/plain": [
              "False"
            ]
          },
          "execution_count": 8,
          "metadata": {},
          "output_type": "execute_result"
        }
      ],
      "source": [
        "def is_odd_length_palindrome(s: str) -> bool:\n",
        "   m=len(s)\n",
        "\n",
        "   if m%2!=0:\n",
        "    if s[::]==s[::-1]:\n",
        "      return True\n",
        "    else:\n",
        "      return False\n",
        "   else:\n",
        "    return False\n",
        "\n",
        "\n",
        "\n",
        "\n",
        "s=\"hello\"\n",
        "is_odd_length_palindrome(s)"
      ]
    },
    {
      "cell_type": "code",
      "execution_count": null,
      "metadata": {
        "colab": {
          "base_uri": "https://localhost:8080/"
        },
        "id": "iI4NxD-rf5KH",
        "outputId": "887a6f32-43f5-4e51-f7bd-f4850629415d"
      },
      "outputs": [
        {
          "data": {
            "text/plain": [
              "[1, 3, 4, 5, 7]"
            ]
          },
          "execution_count": 12,
          "metadata": {},
          "output_type": "execute_result"
        }
      ],
      "source": [
        "def remove_elements_at_two_indices(lst:list,i1:int,i2:int):\n",
        "  lst=[]\n",
        "  for i,item in enumerate(lst):\n",
        "    if i!=i1 and i !=i2:\n",
        "      lst.append(item)\n",
        "  return lst\n",
        "\n",
        "lst = [1, 2, 3, 4, 5, 6, 7]\n",
        "i1=5\n",
        "i2=1\n",
        "remove_elements_at_two_indices(l,i1,i2)\n",
        "\n"
      ]
    },
    {
      "cell_type": "code",
      "execution_count": null,
      "metadata": {
        "id": "nrxNigfXnKup"
      },
      "outputs": [],
      "source": [
        "    if not(0<=i1<len(lst)) or not(0<=i2<len(lst)):\n",
        "        raise ValueError\n",
        "    if i1==i2:\n",
        "        raise ValueError\n",
        "    if i1>i2:\n",
        "        lst.pop(i1)\n",
        "        lst.pop(i2)\n",
        "    else:\n",
        "        lst.pop(i2)\n",
        "        lst.pop(i1)\n"
      ]
    },
    {
      "cell_type": "code",
      "execution_count": null,
      "metadata": {
        "id": "H71LViJso7Ue"
      },
      "outputs": [],
      "source": [
        "def sum_of_squares_of_even(nums: list) -> int:\n",
        "    '''Return the sum of squares of all even numbers in the list.\n",
        "\n",
        "    Args:\n",
        "        nums : list - list of integers\n",
        "\n",
        "    Returns:\n",
        "        int - sum of squares of all even numbers\n",
        "    '''\n",
        "    sum=0\n",
        "    for num in nums:\n",
        "        if num%2==0:\n",
        "            sum+=num**2\n",
        "    return sum\n",
        "\n"
      ]
    },
    {
      "cell_type": "code",
      "execution_count": null,
      "metadata": {
        "colab": {
          "base_uri": "https://localhost:8080/"
        },
        "id": "G26SL0I9o8VQ",
        "outputId": "7467ebd0-03ad-40cc-9bbd-888952e04818"
      },
      "outputs": [
        {
          "name": "stdout",
          "output_type": "stream",
          "text": [
            "2\n",
            "hello WORLD\n",
            "hEllO wOrld\n",
            "python Programming\n",
            "pythOn prOgrAmmIng\n"
          ]
        }
      ],
      "source": [
        "n=int(input())\n",
        "for _ in range(n):\n",
        "  string=input()\n",
        "  vowels=\"aeiou\"\n",
        "  converted_line=\"\"\n",
        "  for line in string:\n",
        "    for char in line:\n",
        "      if char.lower() in vowels:\n",
        "        converted_line+=char.upper()\n",
        "      else:\n",
        "        converted_line+=char.lower()\n",
        "  print(converted_line)\n",
        "\n"
      ]
    },
    {
      "cell_type": "code",
      "execution_count": null,
      "metadata": {
        "colab": {
          "background_save": true,
          "base_uri": "https://localhost:8080/",
          "height": 297
        },
        "id": "Fz1jTne4QBk_",
        "outputId": "c1aaab2f-93c2-4746-f575-177b20695b1d"
      },
      "outputs": [
        {
          "ename": "SyntaxError",
          "evalue": "invalid syntax (<ipython-input-25-2fc574e5c121>, line 9)",
          "output_type": "error",
          "traceback": [
            "\u001b[0;36m  File \u001b[0;32m\"<ipython-input-25-2fc574e5c121>\"\u001b[0;36m, line \u001b[0;32m9\u001b[0m\n\u001b[0;31m    if roll=>avg:\u001b[0m\n\u001b[0m           ^\u001b[0m\n\u001b[0;31mSyntaxError\u001b[0m\u001b[0;31m:\u001b[0m invalid syntax\n"
          ]
        }
      ],
      "source": []
    },
    {
      "cell_type": "code",
      "execution_count": null,
      "metadata": {
        "colab": {
          "base_uri": "https://localhost:8080/"
        },
        "id": "6qH1JsKoVhf6",
        "outputId": "b5686d29-b32c-4876-a281-e598d428d4f6"
      },
      "outputs": [
        {
          "name": "stdout",
          "output_type": "stream",
          "text": [
            "continuous\n"
          ]
        },
        {
          "data": {
            "text/plain": [
              "['walkING', 'readinG']"
            ]
          },
          "execution_count": 4,
          "metadata": {},
          "output_type": "execute_result"
        }
      ],
      "source": [
        "def get_words_by_criteria(words, criteria=None):\n",
        "    filtered=[]\n",
        "    if criteria==\"continuous\":\n",
        "\n",
        "      for word in words:\n",
        "        if word[-3:].lower()==\"ing\":\n",
        "          filtered.append(word)\n",
        "    return filtered\n",
        "\n",
        "\n",
        "words = ['walkING', 'readinG', 'wrong']\n",
        "criteria=input()\n",
        "get_words_by_criteria(words, criteria)"
      ]
    },
    {
      "cell_type": "code",
      "execution_count": null,
      "metadata": {
        "colab": {
          "base_uri": "https://localhost:8080/"
        },
        "id": "3MANlACYtI5Q",
        "outputId": "b2be4147-27ca-47ff-ceaa-c7e5a4cb7248"
      },
      "outputs": [
        {
          "name": "stdout",
          "output_type": "stream",
          "text": [
            "vowel_rich\n"
          ]
        },
        {
          "data": {
            "text/plain": [
              "['ronoroaZORO', 'aeiouUIEIO']"
            ]
          },
          "execution_count": 16,
          "metadata": {},
          "output_type": "execute_result"
        }
      ],
      "source": [
        "def get_words_by_criteria(words, criteria=None):\n",
        "  if criteria == \"vowel_rich\":\n",
        "\n",
        "    return [word for word in words if sum(1 for char in word.lower() if char in \"aeiou\")>5]\n",
        "words = ['ronoroaZORO','Jogging','entertainment','aeiouUIEIO','beautiful']\n",
        "criteria=input()\n",
        "get_words_by_criteria(words, criteria)\n",
        "\n"
      ]
    },
    {
      "cell_type": "code",
      "execution_count": null,
      "metadata": {
        "id": "AuhTDioo79FD"
      },
      "outputs": [],
      "source": [
        "def get_words_by_criteria(words,criteria=None):\n",
        "  if criteria==\"vowel_rich\":\n",
        "    return [word for word in words if sum(1 for char in word.lower() if char in \"aeiou\")>5]\n",
        "\n"
      ]
    },
    {
      "cell_type": "code",
      "execution_count": null,
      "metadata": {
        "colab": {
          "base_uri": "https://localhost:8080/"
        },
        "id": "TWulpx3a82nW",
        "outputId": "4441353b-41d1-467a-94ad-a0af685d1627"
      },
      "outputs": [
        {
          "name": "stdout",
          "output_type": "stream",
          "text": [
            "vowel_rich\n"
          ]
        },
        {
          "data": {
            "text/plain": [
              "['ronoroaZORO', 'aeiouUIEIO']"
            ]
          },
          "execution_count": 1,
          "metadata": {},
          "output_type": "execute_result"
        }
      ],
      "source": [
        "def get_words_by_criteria(words,criteria=None):\n",
        "  if criteria==\"vowel_rich\":\n",
        "    filtered=[]\n",
        "    for word in words:\n",
        "      count=0\n",
        "      for char in word:\n",
        "        if char.lower() in \"aeiou\":\n",
        "          count+=1\n",
        "      if count>5:\n",
        "        filtered.append(word)\n",
        "    return filtered\n",
        "\n",
        "words = ['ronoroaZORO','Jogging','entertainment','aeiouUIEIO','beautiful']\n",
        "criteria=input()\n",
        "get_words_by_criteria(words, criteria)\n",
        "\n",
        "\n",
        "\n"
      ]
    },
    {
      "cell_type": "code",
      "execution_count": null,
      "metadata": {
        "colab": {
          "base_uri": "https://localhost:8080/"
        },
        "id": "5AG8RKyaVDEl",
        "outputId": "80a584ca-0d2b-4be2-dd38-517e55aa2df9"
      },
      "outputs": [
        {
          "name": "stdout",
          "output_type": "stream",
          "text": [
            "Consonant_rich\n"
          ]
        },
        {
          "data": {
            "text/plain": [
              "['StrenGth', 'PsYchOloGy']"
            ]
          },
          "execution_count": 3,
          "metadata": {},
          "output_type": "execute_result"
        }
      ],
      "source": [
        "def get_words_by_criteria(words,criteria=None):\n",
        "  if criteria==\"Consonant_rich\":\n",
        "    filtered=[]\n",
        "    for word in words:\n",
        "      count=0\n",
        "      for char in word:\n",
        "        if char.lower() not in \"aeiou\":\n",
        "          count+=1\n",
        "      if count>5:\n",
        "        filtered.append(word)\n",
        "    return filtered\n",
        "\n",
        "words = ['StrenGth', 'hello', 'aaccddee','python', 'jumping', 'PsYchOloGy']\n",
        "criteria=input()\n",
        "get_words_by_criteria(words,criteria)"
      ]
    },
    {
      "cell_type": "code",
      "execution_count": null,
      "metadata": {
        "colab": {
          "base_uri": "https://localhost:8080/"
        },
        "id": "EmjWxaB2YltN",
        "outputId": "669784b5-a608-4306-ddf1-83c749ef8c13"
      },
      "outputs": [
        {
          "name": "stdout",
          "output_type": "stream",
          "text": [
            "sorted\n"
          ]
        },
        {
          "data": {
            "text/plain": [
              "['abc', 'aBcD', 'xXYyZz']"
            ]
          },
          "execution_count": 10,
          "metadata": {},
          "output_type": "execute_result"
        }
      ],
      "source": [
        "def get_words_by_criteria(words,criteria=None):\n",
        "  if criteria==\"sorted\":\n",
        "    filtered=[]\n",
        "    for word in words:\n",
        "      if list(word.lower())==sorted(word.lower()):\n",
        "        filtered.append(word)\n",
        "\n",
        "    return filtered\n",
        "\n",
        "words = ['abc','flying','aBcD','XYZxyz','xXYyZz','rythms']\n",
        "criteria=input()\n",
        "get_words_by_criteria(words,criteria)"
      ]
    },
    {
      "cell_type": "code",
      "execution_count": null,
      "metadata": {
        "id": "1pOQibncrEcE"
      },
      "outputs": [],
      "source": [
        "5\n",
        "apple\n",
        "orange\n",
        "pineapple\n",
        "mango\n",
        "kiw"
      ]
    },
    {
      "cell_type": "code",
      "execution_count": null,
      "metadata": {
        "colab": {
          "base_uri": "https://localhost:8080/"
        },
        "id": "Z34F-WbKrGB1",
        "outputId": "c766c31b-60e2-4798-9e13-7dc761e457fb"
      },
      "outputs": [
        {
          "name": "stdout",
          "output_type": "stream",
          "text": [
            "5\n",
            "apple\n",
            "mango\n",
            "ognam\n",
            "apple\n",
            "orange\n",
            "pineapple\n",
            "elppaenip\n",
            "orange\n",
            "kiiw\n",
            "wiik\n"
          ]
        }
      ],
      "source": [
        "n=int(input())\n",
        "for i in range(n//2):\n",
        "  a,b=input(),input()\n",
        "  print(b[::-1])\n",
        "  print(a)\n",
        "if n%2:\n",
        "  print(input()[::-1])\n",
        "\n"
      ]
    },
    {
      "cell_type": "code",
      "execution_count": null,
      "metadata": {
        "colab": {
          "base_uri": "https://localhost:8080/"
        },
        "id": "xBYaCqC2zRhL",
        "outputId": "4a81cdd9-2f60-4702-ad34-6d02dab86220"
      },
      "outputs": [
        {
          "name": "stdout",
          "output_type": "stream",
          "text": [
            "5\n",
            "apple\n",
            "orange\n",
            "pineapple\n",
            "mango\n",
            "kiwi\n",
            "['apple', 'egnaro', 'pineapple', 'ognam', 'iwik']\n",
            "apple\n",
            "egnaro\n",
            "pineapple\n",
            "ognam\n",
            "iwik\n"
          ]
        }
      ],
      "source": [
        "n=int(input())\n",
        "lines=[input() for _ in range(n)]\n",
        "for i in range(len(lines)):\n",
        "  if i%2!=0 and n%2!=0:\n",
        "    lines[i]=lines[i][::-1]\n",
        "if n%2:\n",
        "  lines[-1]=lines[-1][::-1]\n",
        "\n",
        "print(lines)\n",
        "for row in lines:\n",
        "  print(row)"
      ]
    },
    {
      "cell_type": "code",
      "execution_count": null,
      "metadata": {
        "colab": {
          "base_uri": "https://localhost:8080/"
        },
        "id": "I8FxD7Ta4KjV",
        "outputId": "47458382-1c1b-44a7-930d-51e12512afe8"
      },
      "outputs": [
        {
          "name": "stdout",
          "output_type": "stream",
          "text": [
            "Ritesh\n",
            "20\n",
            "2024108051\n"
          ]
        }
      ],
      "source": [
        "def get_student_details():\n",
        "  name,age,roll=input(),int(input()),int(input())\n",
        "get_student_details()"
      ]
    },
    {
      "cell_type": "code",
      "execution_count": null,
      "metadata": {
        "colab": {
          "base_uri": "https://localhost:8080/"
        },
        "id": "D9GsBr0uivdO",
        "outputId": "9baf0256-ad9a-45dc-8bb6-b9ff5d9216a0"
      },
      "outputs": [
        {
          "name": "stdout",
          "output_type": "stream",
          "text": [
            "Ritesh 20 2024108051\n"
          ]
        },
        {
          "data": {
            "text/plain": [
              "('Ritesh', 20, 2024108051)"
            ]
          },
          "execution_count": 7,
          "metadata": {},
          "output_type": "execute_result"
        }
      ],
      "source": [
        "def get_student_details_same_line():\n",
        "  name,age,rollno=input().split()\n",
        "  age,rollno=int(age),int(rollno)\n",
        "  return name,age,rollno\n",
        "get_student_details_same_line()\n",
        "\n"
      ]
    },
    {
      "cell_type": "code",
      "execution_count": null,
      "metadata": {
        "colab": {
          "base_uri": "https://localhost:8080/"
        },
        "id": "hOkiuAqo7oNN",
        "outputId": "73b65d11-084d-4113-eaeb-05a7d23ba084"
      },
      "outputs": [
        {
          "name": "stdout",
          "output_type": "stream",
          "text": [
            "1 2 3 4 5\n"
          ]
        },
        {
          "data": {
            "text/plain": [
              "[1, 2, 3, 4, 5]"
            ]
          },
          "execution_count": 9,
          "metadata": {},
          "output_type": "execute_result"
        }
      ],
      "source": [
        "def get_comma_separeated():\n",
        "  numbers=list(map(int,input().split()))\n",
        "  return numbers\n",
        "\n",
        "\n",
        "get_comma_separeated()"
      ]
    },
    {
      "cell_type": "code",
      "execution_count": null,
      "metadata": {
        "colab": {
          "base_uri": "https://localhost:8080/"
        },
        "id": "vVq9TZOUk47o",
        "outputId": "e544c842-2afe-46a0-a1b9-59def68023f6"
      },
      "outputs": [
        {
          "name": "stdout",
          "output_type": "stream",
          "text": [
            "1,2,3,4,5\n"
          ]
        },
        {
          "data": {
            "text/plain": [
              "[1, 2, 3, 4, 5]"
            ]
          },
          "execution_count": 12,
          "metadata": {},
          "output_type": "execute_result"
        }
      ],
      "source": [
        "def get_comma_separated():\n",
        "  numbers=list(map(int,input().split(\",\")))\n",
        "  return numbers\n",
        "\n",
        "\n",
        "get_comma_separated()"
      ]
    },
    {
      "cell_type": "code",
      "execution_count": null,
      "metadata": {
        "colab": {
          "base_uri": "https://localhost:8080/"
        },
        "id": "xb1W3tAmlKXo",
        "outputId": "cbe08426-c935-4167-e961-f307c9e03be3"
      },
      "outputs": [
        {
          "name": "stdout",
          "output_type": "stream",
          "text": [
            "5\n",
            "0.0035\n",
            "0.0086\n",
            "0.065\n",
            "0.66\n",
            "0.33\n",
            "[0.0035, 0.0086, 0.065, 0.66, 0.33]\n"
          ]
        }
      ],
      "source": [
        "n=int(input())\n",
        "nums=[float(input()) for i in range(n)]\n",
        "print(nums)"
      ]
    },
    {
      "cell_type": "code",
      "execution_count": null,
      "metadata": {
        "colab": {
          "base_uri": "https://localhost:8080/"
        },
        "id": "uQt5ysDwlCcr",
        "outputId": "0e36c8ae-90e2-4c0d-ff33-6f2a0036f139"
      },
      "outputs": [
        {
          "name": "stdout",
          "output_type": "stream",
          "text": [
            "1\n",
            "2\n",
            "3\n",
            "end\n"
          ]
        },
        {
          "data": {
            "text/plain": [
              "['1', '2', '3']"
            ]
          },
          "execution_count": 17,
          "metadata": {},
          "output_type": "execute_result"
        }
      ],
      "source": [
        "def get_nums_until_end():\n",
        "  nums=[]\n",
        "  while True:\n",
        "    num=input()\n",
        "    if num.lower()==\"end\":\n",
        "      break\n",
        "    nums.append(num)\n",
        "  return nums\n",
        "get_nums_until_end()\n"
      ]
    },
    {
      "cell_type": "code",
      "execution_count": null,
      "metadata": {
        "colab": {
          "base_uri": "https://localhost:8080/"
        },
        "id": "9tj4JsJtqPLr",
        "outputId": "dabdb6f2-b486-4bb0-9732-8bd8c0b603ef"
      },
      "outputs": [
        {
          "name": "stdout",
          "output_type": "stream",
          "text": [
            "Ritesh 20 98 96 94 89\n"
          ]
        },
        {
          "data": {
            "text/plain": [
              "('Ritesh', 20, [98, 96, 94, 89])"
            ]
          },
          "execution_count": 19,
          "metadata": {},
          "output_type": "execute_result"
        }
      ],
      "source": [
        "def get_batsman():\n",
        "  name,no,*runs=input().split()\n",
        "  no=int(no)\n",
        "  runs=list(map(int,runs))\n",
        "  return name,no,runs\n",
        "get_batsman()"
      ]
    },
    {
      "cell_type": "code",
      "execution_count": null,
      "metadata": {
        "colab": {
          "base_uri": "https://localhost:8080/"
        },
        "id": "OHo1jWX5rOz1",
        "outputId": "f2af2dc4-9d70-48a2-bfa3-d4a40ee9737a"
      },
      "outputs": [
        {
          "name": "stdout",
          "output_type": "stream",
          "text": [
            "1\n",
            "maths-98\n"
          ]
        },
        {
          "output_type": "execute_result",
          "data": {
            "text/plain": [
              "{'maths': 98}"
            ]
          },
          "metadata": {},
          "execution_count": 7
        }
      ],
      "source": [
        "def get_course_scores():\n",
        "  n=int(input())\n",
        "  course_scores=[input().split(\"-\") for i in range(n)]\n",
        "  course_scores={course:int(score) for course,score in course_scores}\n",
        "  return course_scores\n",
        "\n",
        "get_course_scores()"
      ]
    },
    {
      "cell_type": "code",
      "source": [
        "def display_float_nums_over_multiple_lines(nums:list):\n",
        "  print(*[f\"{num:.3f}\" for num in nums],sep=\"\\n\")\n",
        "nums=[1,2,3,4,5,6]\n",
        "display_float_nums_over_multiple_lines(nums)"
      ],
      "metadata": {
        "colab": {
          "base_uri": "https://localhost:8080/"
        },
        "id": "RA3IEiDrGBDA",
        "outputId": "7c7cec53-3ccb-4ad1-e8b4-9bf45017c517"
      },
      "execution_count": null,
      "outputs": [
        {
          "output_type": "stream",
          "name": "stdout",
          "text": [
            "1.000\n",
            "2.000\n",
            "3.000\n",
            "4.000\n",
            "5.000\n",
            "6.000\n"
          ]
        }
      ]
    },
    {
      "cell_type": "code",
      "source": [
        "def display_random_ints(seed:int):\n",
        "  random.seed(seed)\n",
        "  i=0\n",
        "  while True:\n",
        "    i+=1\n",
        "    nums=random.randint(0,100)\n",
        "    if num==0:\n",
        "      print(num)\n",
        "      break\n",
        "    if i%10==0:MB\n",
        "      print(num)\n",
        "      continue\n",
        "    print(num,end=',')\n",
        "\n"
      ],
      "metadata": {
        "id": "mRNca9mTGvRJ"
      },
      "execution_count": null,
      "outputs": []
    },
    {
      "cell_type": "code",
      "source": [
        "def display_random_int(seed:int):\n",
        "  random.seed(seed)\n",
        "  i=0\n",
        "  while True:\n",
        "    i+=1\n",
        "    num=random.randint(0,100)\n",
        "    if num=0:\n",
        "      print(num)\n",
        "      break\n",
        "    if i%10==0:\n",
        "      print(num)\n",
        "      continue\n",
        "    print(num,end='')"
      ],
      "metadata": {
        "id": "ckzUeF3IH5zq"
      },
      "execution_count": null,
      "outputs": []
    },
    {
      "cell_type": "code",
      "source": [
        "def display_batsman_runs(name:str,number:int,runs:list):\n",
        "  print(name,number,*runs,sep=\",\")\n",
        "\n",
        "display_batsman_runs('Ritesh',9,[2,4,6,8])"
      ],
      "metadata": {
        "colab": {
          "base_uri": "https://localhost:8080/"
        },
        "id": "GaPei6VMI1R_",
        "outputId": "76122844-cee5-450b-8561-168345b0822c"
      },
      "execution_count": null,
      "outputs": [
        {
          "output_type": "stream",
          "name": "stdout",
          "text": [
            "Ritesh,9,2,4,6,8\n"
          ]
        }
      ]
    },
    {
      "cell_type": "code",
      "source": [
        "def display_course_scores(coure_scores:dict):\n",
        "  for course,score in sorted(course_scores.items()):\n",
        "    print(f\"{course}:{score}\")\n",
        "course_scores={\"course1\":78, \"course3\":89,\"course2\":90}\n",
        "display_course_scores(course_scores)"
      ],
      "metadata": {
        "colab": {
          "base_uri": "https://localhost:8080/"
        },
        "id": "GWLEg_4oJeMd",
        "outputId": "dedf29a0-496b-440e-fcda-9ec8d31a26d8"
      },
      "execution_count": null,
      "outputs": [
        {
          "output_type": "stream",
          "name": "stdout",
          "text": [
            "course1:78\n",
            "course2:90\n",
            "course3:89\n"
          ]
        }
      ]
    },
    {
      "cell_type": "code",
      "source": [
        "def display_all_batsman_runs(batsman_runs:list):\n",
        "  for batsman,runs in  batsman_runs:\n",
        "    print(batsman,end=\",\")\n",
        "    print(\"  \",   *runs,sep=',')\n",
        "batsman_runs=[(\"batsman1\",[1,2,1,4,6,2,2,1]),(\"batsman2\",[2,2,6,4,1]),(\"batsman3\",[6,1,2,4,4,2])]\n",
        "display_all_batsman_runs(batsman_runs)"
      ],
      "metadata": {
        "colab": {
          "base_uri": "https://localhost:8080/"
        },
        "id": "hk6FLxXiKfXJ",
        "outputId": "c8705bbc-b4ef-49fe-9de8-1778eb2bfd49"
      },
      "execution_count": null,
      "outputs": [
        {
          "output_type": "stream",
          "name": "stdout",
          "text": [
            "batsman1,  ,1,2,1,4,6,2,2,1\n",
            "batsman2,  ,2,2,6,4,1\n",
            "batsman3,  ,6,1,2,4,4,2\n"
          ]
        }
      ]
    },
    {
      "cell_type": "code",
      "source": [
        "def display_student_marks(student_marks:list):\n",
        "  attrs=['rollno','city','age','course1','course2','course3']\n",
        "  for student in student_marks:\n",
        "    print(*(student[attr] for attr in attrs),sep=',')\n",
        "\n",
        "student_marks=[{'rollno': 1, 'city': 'chennai', 'age': 23, 'course1': 86, 'course2': 69, 'course3': 86},{'rollno': 2, 'city': 'mumbai', 'age': 19, 'course1': 78, 'course2': 65, 'course3': 89}]\n",
        "display_studeent_marks(student_marks)"
      ],
      "metadata": {
        "colab": {
          "base_uri": "https://localhost:8080/"
        },
        "id": "NA631i9CLsTb",
        "outputId": "d8446415-5d1c-49ce-af02-7c3d0bc929cb"
      },
      "execution_count": null,
      "outputs": [
        {
          "output_type": "stream",
          "name": "stdout",
          "text": [
            "1,chennai,23,86,69,86\n",
            "2,mumbai,19,78,65,89\n"
          ]
        }
      ]
    },
    {
      "cell_type": "code",
      "source": [
        "def display(student_marks:list):\n",
        "  attrs=['rollno','city','age','course1','course2','course3']\n",
        "  for student in student_marks:\n",
        "    print(*(student[attr] for attr in attrs), sep=\"\\n\")\n",
        "student_marks==[{'rollno': 1, 'city': 'chennai', 'age': 23, 'course1': 86, 'course2': 69, 'course3': 86},{'rollno': 2, 'city': 'mumbai', 'age': 19, 'course1': 78, 'course2': 65, 'course3': 89}]\n",
        "display(student_marks)"
      ],
      "metadata": {
        "colab": {
          "base_uri": "https://localhost:8080/"
        },
        "id": "8uK_8hgNNZeZ",
        "outputId": "a9909422-e01a-43f4-d495-59917568b727"
      },
      "execution_count": null,
      "outputs": [
        {
          "output_type": "stream",
          "name": "stdout",
          "text": [
            "1\n",
            "chennai\n",
            "23\n",
            "86\n",
            "69\n",
            "86\n",
            "2\n",
            "mumbai\n",
            "19\n",
            "78\n",
            "65\n",
            "89\n"
          ]
        }
      ]
    },
    {
      "cell_type": "code",
      "source": [
        "def is_num_sorted(num)->bool:\n",
        "  num_str=str(num)\n",
        "  num_sorted=\"\".join(sorted(list(num_str)))\n",
        "  return num_str==num_sorted\n",
        "def count_sorted(nums:list)->int:\n",
        "  return(len(list(filter(is_num_sorted,nums))))\n",
        "nums=[1,2,3,4,5]\n",
        "count_sorted(nums)"
      ],
      "metadata": {
        "colab": {
          "base_uri": "https://localhost:8080/"
        },
        "id": "POLTpPLjNFGe",
        "outputId": "4c9d6f77-3215-4d1a-e034-b311dd1d618f"
      },
      "execution_count": null,
      "outputs": [
        {
          "output_type": "execute_result",
          "data": {
            "text/plain": [
              "5"
            ]
          },
          "metadata": {},
          "execution_count": 32
        }
      ]
    },
    {
      "cell_type": "code",
      "source": [
        "def is_num_sorted(num)->bool:\n",
        "  num_str=str(num)\n",
        "  num_sorted=\"\".join(sorted(list(num_str)))\n",
        "  return num_str==num_sorted\n",
        "def count_sorted(nums:list)->bool:\n",
        "  return sum(map(well_behaved,nums))\n"
      ],
      "metadata": {
        "id": "ZTfclszrSjLI"
      },
      "execution_count": null,
      "outputs": []
    },
    {
      "cell_type": "code",
      "source": [
        "def common_string(words:list)->str:\n",
        "  min_word=min(word,key=len)\n",
        "  if all(map(lambda word:min_word in word, words)):\n",
        "    return min_word\n",
        "\n"
      ],
      "metadata": {
        "id": "p_mB8M9KTDy8"
      },
      "execution_count": null,
      "outputs": []
    },
    {
      "cell_type": "code",
      "source": [
        "def is_valid_phone_number(phone_no:int)->bool:\n",
        "  phoneno=str(phone_no)\n",
        "  return (len(phoneno)==10 and phoneno[:5]=='98123' and all(phoneno.count(str(digit))<=5 for digit in range(0,10)))\n",
        "phone_no=9812375443\n",
        "is_valid_phone_number(phone_no)"
      ],
      "metadata": {
        "colab": {
          "base_uri": "https://localhost:8080/"
        },
        "id": "3CHWTuyFUwka",
        "outputId": "b669f975-bcae-45b6-acca-de070faf1f76"
      },
      "execution_count": null,
      "outputs": [
        {
          "output_type": "execute_result",
          "data": {
            "text/plain": [
              "True"
            ]
          },
          "metadata": {},
          "execution_count": 37
        }
      ]
    },
    {
      "cell_type": "code",
      "source": [
        "def is_valid_phone_number(phone_no:list):\n",
        "  phoneno=str(phone_no)\n",
        "  return (len(phoneno)==10 and phoneno[:5]==\"98123\" and all(phoneno.count(digit))>5 for digit in range(0,10))\n",
        "def validate_phone_numbers(phoneno:list)->dict:\n",
        "  return {number:\"Valid\" if is_valid_phone_number(number) else \"Invalid\" for number in phoneno}"
      ],
      "metadata": {
        "id": "W2Lrhz_YXiLG"
      },
      "execution_count": null,
      "outputs": []
    },
    {
      "cell_type": "code",
      "source": [
        "def get_election(votes:dict):\n",
        "  return max(votes,key=votes.get)"
      ],
      "metadata": {
        "id": "XNo_YaOiaVPa"
      },
      "execution_count": null,
      "outputs": []
    },
    {
      "cell_type": "code",
      "source": [
        "def missplet_words(vocab:str,sentence:str):\n",
        "  vocab,words=set(vocab.split(\",\")),sentence.split()\n",
        "  return [word for word in words if word not in vocab]\n"
      ],
      "metadata": {
        "id": "6IqHtzVGafes"
      },
      "execution_count": null,
      "outputs": []
    },
    {
      "cell_type": "code",
      "source": [
        "def count_shocks_pairs(shock_colors:list)->int:\n",
        "  shock_counts={}\n",
        "  +\n",
        "  for color in shock_colors:\n",
        "    if color not in shock_counts:\n",
        "      shock_counts[color]=0\n",
        "    shock_count[colors]+=1\n",
        "\n",
        "  return sum(count//2 for count in shock_counts.values())"
      ],
      "metadata": {
        "id": "G3Ijsd-Ab8vY"
      },
      "execution_count": null,
      "outputs": []
    },
    {
      "cell_type": "code",
      "source": [
        "def is_vowely(word:str)->bool:\n",
        "  return \"\".join(char for char in word if char in \"aeiou\")=\"aeiou\""
      ],
      "metadata": {
        "id": "95w-Am-edWPB"
      },
      "execution_count": null,
      "outputs": []
    },
    {
      "cell_type": "code",
      "source": [
        "def format_name(first:str,middle:str,last_str)->str:\n",
        "  first,middle,last=map(str.tittle,(first,middle,second))\n",
        "  return f\"{first} {middle} {last}\" if middle else f\"{first} {last}\""
      ],
      "metadata": {
        "id": "cgLlKXcmeHht"
      },
      "execution_count": null,
      "outputs": []
    },
    {
      "cell_type": "code",
      "source": [
        "def double_palindrome(n:int):\n",
        "  def is_palindrome(n):\n",
        "    n_str=str(n)\n",
        "    return n_str==n_str[::-1]\n",
        "  return list(filter(lambda x: is_palindrome(x) and is_palindrome(x**2), range(1,n+1)))\n",
        "double_palindrome(11)"
      ],
      "metadata": {
        "colab": {
          "base_uri": "https://localhost:8080/"
        },
        "id": "1cwEv06JfWHn",
        "outputId": "669a80fd-de3a-44d3-dc3e-49e3a0ee9b47"
      },
      "execution_count": null,
      "outputs": [
        {
          "output_type": "execute_result",
          "data": {
            "text/plain": [
              "[1, 2, 3, 11]"
            ]
          },
          "metadata": {},
          "execution_count": 6
        }
      ]
    },
    {
      "cell_type": "code",
      "source": [
        "wins = [('S','X'), ('X','P'),('P','S')]\n",
        "k_score,g_score=0,0\n",
        "for k,g in zip(kakashi_moves,guy_moves):\n",
        "  if (k,g) in wins:\n",
        "    k_score+=1\n",
        "  if (g,k) in wins:\n",
        "    g_score+=1\n",
        "return k_score,g_score\n"
      ],
      "metadata": {
        "id": "V-AJwXlHALmm"
      },
      "execution_count": null,
      "outputs": []
    },
    {
      "cell_type": "code",
      "source": [
        "\n",
        "def percentage_increased(original, new):\n",
        "\n",
        "    change=new-original\n",
        "    ratio=change/original\n",
        "    p_increased=ratio*100\n",
        "    return p_increased\n",
        "\n"
      ],
      "metadata": {
        "id": "pIgSnVDKBwFC"
      },
      "execution_count": null,
      "outputs": []
    },
    {
      "cell_type": "code",
      "source": [
        "t=(1,2,3,4,5,6)\n",
        "lst=list(t)\n",
        "for i,j in enumerate(lst):\n",
        "  if i%2==0:\n",
        "    lst[i],lst[i+1]=lst[i+1],lst[i]\n",
        "print( tuple(lst))\n"
      ],
      "metadata": {
        "colab": {
          "base_uri": "https://localhost:8080/"
        },
        "id": "Dp9mTCXFCxXu",
        "outputId": "d70a0f5c-1c4e-4216-fd5d-430994e366ec"
      },
      "execution_count": null,
      "outputs": [
        {
          "output_type": "stream",
          "name": "stdout",
          "text": [
            "(2, 1, 4, 3, 6, 5)\n"
          ]
        }
      ]
    },
    {
      "cell_type": "code",
      "source": [
        "\n",
        "def in_exactly_one(l1: list, l2: list) -> set:\n",
        "  set1=set(l1)\n",
        "  set2=set(l2)\n",
        "  return (set1|set2)-set1.intersection(set2)\n",
        "l1=[1,2,3]\n",
        "l2=[3,4,5]\n",
        "in_exactly_one(l1,l2)\n"
      ],
      "metadata": {
        "colab": {
          "base_uri": "https://localhost:8080/"
        },
        "id": "gdPqlcwC1ey6",
        "outputId": "ccd12028-dbd8-416b-925d-e28b828c9060"
      },
      "execution_count": null,
      "outputs": [
        {
          "output_type": "execute_result",
          "data": {
            "text/plain": [
              "{1, 2, 4, 5}"
            ]
          },
          "metadata": {},
          "execution_count": 9
        }
      ]
    },
    {
      "cell_type": "code",
      "source": [
        "s='ritesh'\n",
        "print(set(s))"
      ],
      "metadata": {
        "colab": {
          "base_uri": "https://localhost:8080/"
        },
        "id": "slXOiZQF9DZz",
        "outputId": "9c5ccced-bcab-4e62-ac86-90bf9c8f166e"
      },
      "execution_count": null,
      "outputs": [
        {
          "output_type": "stream",
          "name": "stdout",
          "text": [
            "{'e', 's', 'r', 'h', 'i', 't'}\n"
          ]
        }
      ]
    },
    {
      "cell_type": "code",
      "source": [],
      "metadata": {
        "id": "D9h5iM4y9wjs"
      },
      "execution_count": null,
      "outputs": []
    }
  ],
  "metadata": {
    "colab": {
      "provenance": [],
      "authorship_tag": "ABX9TyM1PWueEsaPXvTZwJ9YXGsQ",
      "include_colab_link": true
    },
    "kernelspec": {
      "display_name": "Python 3",
      "name": "python3"
    },
    "language_info": {
      "name": "python"
    }
  },
  "nbformat": 4,
  "nbformat_minor": 0
}